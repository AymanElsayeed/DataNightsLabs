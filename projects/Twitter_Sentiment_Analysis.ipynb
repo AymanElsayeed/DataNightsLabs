{
 "cells": [
  {
   "cell_type": "code",
   "execution_count": null,
   "id": "initial_id",
   "metadata": {
    "collapsed": true
   },
   "outputs": [],
   "source": [
    ""
   ]
  },
  {
   "metadata": {
    "ExecuteTime": {
     "end_time": "2024-05-13T07:59:53.078190Z",
     "start_time": "2024-05-13T07:59:46.975210Z"
    }
   },
   "cell_type": "code",
   "source": "import pandas as pd",
   "id": "545149a59e300877",
   "outputs": [],
   "execution_count": 3
  },
  {
   "metadata": {},
   "cell_type": "code",
   "outputs": [],
   "execution_count": null,
   "source": "tweets_df = pd.read_csv('assets/tweets.csv')",
   "id": "bfb11a5fdbd29682"
  },
  {
   "metadata": {},
   "cell_type": "markdown",
   "source": [
    "## Perform basic EDA\n",
    "* Check the shape of the dataframe\n",
    "* Check the columns present in the dataframe\n",
    "* Get a concise summary of the dataframe\n",
    "* Check the number of missing values in the dataframe\n",
    "* Plot the number of tweets in each category\n",
    "* Plot length of tweets\n",
    "* Calculate the number of characters in each tweet"
   ],
   "id": "972cfa35183b0b05"
  },
  {
   "metadata": {},
   "cell_type": "code",
   "outputs": [],
   "execution_count": null,
   "source": "",
   "id": "e363d4cf73d531c3"
  },
  {
   "metadata": {
    "ExecuteTime": {
     "end_time": "2024-05-13T08:04:01.043932Z",
     "start_time": "2024-05-13T08:04:01.042254Z"
    }
   },
   "cell_type": "code",
   "source": "## plot word count for each category, positive and negative",
   "id": "72ea58339f74a603",
   "outputs": [],
   "execution_count": 5
  },
  {
   "metadata": {
    "ExecuteTime": {
     "end_time": "2024-05-13T08:02:20.448257Z",
     "start_time": "2024-05-13T08:02:20.446817Z"
    }
   },
   "cell_type": "code",
   "source": "",
   "id": "800e0e353cc4ec14",
   "outputs": [],
   "execution_count": 4
  },
  {
   "metadata": {},
   "cell_type": "markdown",
   "source": [
    "# Perform cleaning of the tweets\n",
    "* Remove punctuations\n",
    "* remove stopwords"
   ],
   "id": "b66f060bffca6b66"
  },
  {
   "metadata": {
    "ExecuteTime": {
     "end_time": "2024-05-13T08:03:36.297928Z",
     "start_time": "2024-05-13T08:03:36.295999Z"
    }
   },
   "cell_type": "code",
   "source": "",
   "id": "9639ec8c10d31a40",
   "outputs": [],
   "execution_count": 4
  },
  {
   "metadata": {},
   "cell_type": "markdown",
   "source": [
    "# Perform vectorization one of the following\n",
    "* Count Vectorizer (Bag of Words)\n",
    "* TF-IDF Vectorizer\n",
    "* N-grams vectorizer"
   ],
   "id": "e812c40417fdc590"
  },
  {
   "metadata": {},
   "cell_type": "code",
   "outputs": [],
   "execution_count": null,
   "source": "",
   "id": "cc667c8cb5491b98"
  },
  {
   "metadata": {},
   "cell_type": "code",
   "outputs": [],
   "execution_count": null,
   "source": "",
   "id": "8c65fbe763289f5c"
  },
  {
   "metadata": {},
   "cell_type": "markdown",
   "source": "## Split the data into train and test set",
   "id": "2356c39c00c84898"
  },
  {
   "metadata": {
    "ExecuteTime": {
     "end_time": "2024-05-13T08:06:15.090871Z",
     "start_time": "2024-05-13T08:06:15.089173Z"
    }
   },
   "cell_type": "code",
   "source": "",
   "id": "cff359d8b9a7301",
   "outputs": [],
   "execution_count": 5
  },
  {
   "metadata": {
    "ExecuteTime": {
     "end_time": "2024-05-13T08:06:28.531311Z",
     "start_time": "2024-05-13T08:06:28.529535Z"
    }
   },
   "cell_type": "code",
   "source": "",
   "id": "c7391752ec52abd0",
   "outputs": [],
   "execution_count": 5
  },
  {
   "metadata": {},
   "cell_type": "markdown",
   "source": [
    "## Build a model (choose a classifier of your choice)\n",
    "\n",
    "1. With Count Vectorizer\n",
    "2. With TF-IDF Vectorizer\n",
    "3. With N-grams vectorizer"
   ],
   "id": "933a3786b417b809"
  },
  {
   "metadata": {
    "ExecuteTime": {
     "end_time": "2024-05-13T08:07:18.733538Z",
     "start_time": "2024-05-13T08:07:18.731927Z"
    }
   },
   "cell_type": "code",
   "source": "",
   "id": "7eb44657c9a65d6b",
   "outputs": [],
   "execution_count": 5
  },
  {
   "metadata": {},
   "cell_type": "markdown",
   "source": "## Train the model",
   "id": "7eff4f171c5ba40a"
  },
  {
   "metadata": {
    "ExecuteTime": {
     "end_time": "2024-05-13T08:07:39.712071Z",
     "start_time": "2024-05-13T08:07:39.710136Z"
    }
   },
   "cell_type": "code",
   "source": "",
   "id": "f15b32efc7502e5a",
   "outputs": [],
   "execution_count": 6
  },
  {
   "metadata": {},
   "cell_type": "markdown",
   "source": "## Evaluate the model",
   "id": "12506e8a8953cabe"
  },
  {
   "metadata": {},
   "cell_type": "code",
   "outputs": [],
   "execution_count": null,
   "source": "",
   "id": "9f5ba6bf4c2ccb39"
  }
 ],
 "metadata": {
  "kernelspec": {
   "display_name": "Python 3",
   "language": "python",
   "name": "python3"
  },
  "language_info": {
   "codemirror_mode": {
    "name": "ipython",
    "version": 2
   },
   "file_extension": ".py",
   "mimetype": "text/x-python",
   "name": "python",
   "nbconvert_exporter": "python",
   "pygments_lexer": "ipython2",
   "version": "2.7.6"
  }
 },
 "nbformat": 4,
 "nbformat_minor": 5
}
