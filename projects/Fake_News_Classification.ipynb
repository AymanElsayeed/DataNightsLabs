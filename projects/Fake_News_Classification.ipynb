{
 "cells": [
  {
   "cell_type": "code",
   "id": "initial_id",
   "metadata": {
    "collapsed": true,
    "ExecuteTime": {
     "end_time": "2024-05-16T12:24:10.381927Z",
     "start_time": "2024-05-16T12:24:10.380730Z"
    }
   },
   "source": [
    ""
   ],
   "outputs": [],
   "execution_count": null
  },
  {
   "metadata": {},
   "cell_type": "markdown",
   "source": [
    "# Tasks:\n",
    "1. [understand the problem](#task-1-understand-the-problem-statment-and-business-case)\n",
    "2. [import libraries and datasets](#task-2-import-libraries-and-datasets)\n",
    "3. [perform exploratory data analysis](#task-3-perform-exploratory-data-analysis)\n",
    "4. [perform data cleaning](#task-4-perform-data-cleaning)\n",
    "5. [visualize cleaned up dataset](#task-5-visualize-cleaned-up-dataset)\n",
    "6. [prepare the data by performing tokenization and padding](#task-6-prepare-the-data-by-performing-tokenization-and-padding)\n",
    "7. [understand the theory and intuition behind recurrent neural networks and LSTM](#task-7-understand-the-theory-and-intuition-behind-recurrent-neural-networks-and-lstm)\n",
    "8. [understand the intuition behind long short term memory (LSTM) networks](#task-8-understand-the-intuition-behind-long-short-term-memory-lstm-networks)\n",
    "9. [build and train the model](#task-9-build-and-train-the-model)\n",
    "10. [assess trained model performance](####Task-10:-Assess-Trained-Model-Performance)"
   ],
   "id": "31cf6d7d1120401a"
  },
  {
   "metadata": {},
   "cell_type": "markdown",
   "source": "## Task 1: understand the problem statment and business case\n",
   "id": "f17294fe346e1e5"
  },
  {
   "metadata": {
    "ExecuteTime": {
     "end_time": "2024-05-16T12:25:04.397724Z",
     "start_time": "2024-05-16T12:25:04.395927Z"
    }
   },
   "cell_type": "code",
   "source": "",
   "id": "1dd01567cfd2c3da",
   "outputs": [],
   "execution_count": 2
  },
  {
   "metadata": {
    "ExecuteTime": {
     "end_time": "2024-05-16T12:25:05.362992Z",
     "start_time": "2024-05-16T12:25:05.361001Z"
    }
   },
   "cell_type": "code",
   "source": "",
   "id": "709477c808c91f9c",
   "outputs": [],
   "execution_count": 2
  },
  {
   "metadata": {},
   "cell_type": "markdown",
   "source": "## Task 2: Import Libraries And Datasets\n",
   "id": "c74bf4fb063cd2e0"
  },
  {
   "metadata": {
    "ExecuteTime": {
     "end_time": "2024-05-27T13:41:44.817466Z",
     "start_time": "2024-05-27T13:41:44.815611Z"
    }
   },
   "cell_type": "code",
   "source": [
    "import nltk\n",
    "nltk.download('punkt')\n",
    "import tensorflow as tf\n",
    "import pandas as pd\n",
    "import numpy as np\n",
    "import matplotlib.pyplot as plt\n",
    "import seaborn as sns\n",
    "from wordcloud import WordCloud, STOPWORDS\n",
    "import nltk\n",
    "import re\n",
    "from nltk.stem import PorterStemmer, WordNetLemmatizer\n",
    "from nltk.corpus import stopwords\n",
    "from nltk.tokenize import word_tokenize, sent_tokenize\n",
    "import gensim\n",
    "from gensim.utils import simple_preprocess\n",
    "from gensim.parsing.preprocessing import STOPWORDS\n",
    "# import keras\n",
    "from tensorflow.keras.preprocessing.text import one_hot, Tokenizer\n",
    "from tensorflow.keras.preprocessing.sequence import pad_sequences\n",
    "from tensorflow.keras.models import Sequential\n",
    "from tensorflow.keras.layers import Dense, Flatten, Embedding, Input, LSTM, Conv1D, MaxPool1D, Bidirectional\n",
    "from tensorflow.keras.models import Model\n",
    "from jupyterthemes import jtplot"
   ],
   "id": "c1e092ebba01e7fb",
   "outputs": [],
   "execution_count": 2
  },
  {
   "metadata": {
    "ExecuteTime": {
     "end_time": "2024-05-16T12:25:41.429545Z",
     "start_time": "2024-05-16T12:25:41.427332Z"
    }
   },
   "cell_type": "code",
   "source": "# load the data",
   "id": "85b34b71e04f818e",
   "outputs": [],
   "execution_count": 2
  },
  {
   "metadata": {},
   "cell_type": "markdown",
   "source": "## Task 3: Perform Exploratory Data Analysis",
   "id": "4645658f0eb745f2"
  },
  {
   "metadata": {
    "ExecuteTime": {
     "end_time": "2024-05-27T13:42:12.985626Z",
     "start_time": "2024-05-27T13:42:12.984243Z"
    }
   },
   "cell_type": "code",
   "source": "",
   "id": "a08eb2b4667b7411",
   "outputs": [],
   "execution_count": 3
  },
  {
   "metadata": {
    "ExecuteTime": {
     "end_time": "2024-05-16T12:25:46.563771Z",
     "start_time": "2024-05-16T12:25:46.562290Z"
    }
   },
   "cell_type": "code",
   "source": "",
   "id": "b2e731e934de534",
   "outputs": [],
   "execution_count": 2
  },
  {
   "metadata": {},
   "cell_type": "markdown",
   "source": "## Task 4: Perform Data Cleaning",
   "id": "beee654d803bcb1b"
  },
  {
   "metadata": {
    "ExecuteTime": {
     "end_time": "2024-05-27T13:42:42.171067Z",
     "start_time": "2024-05-27T13:42:42.169629Z"
    }
   },
   "cell_type": "code",
   "source": "",
   "id": "53e563e0127ed828",
   "outputs": [],
   "execution_count": 4
  },
  {
   "metadata": {
    "ExecuteTime": {
     "end_time": "2024-05-16T12:26:23.091454Z",
     "start_time": "2024-05-16T12:26:23.089867Z"
    }
   },
   "cell_type": "code",
   "source": "",
   "id": "dcae662d2589d68f",
   "outputs": [],
   "execution_count": 3
  },
  {
   "metadata": {},
   "cell_type": "markdown",
   "source": "## Task 5: Visualize Cleaned Up Dataset",
   "id": "9e81b950c555a23c"
  },
  {
   "metadata": {
    "ExecuteTime": {
     "end_time": "2024-05-27T13:43:03.907434Z",
     "start_time": "2024-05-27T13:43:03.905819Z"
    }
   },
   "cell_type": "code",
   "source": "",
   "id": "30f9965ec77d4275",
   "outputs": [],
   "execution_count": 5
  },
  {
   "metadata": {},
   "cell_type": "code",
   "outputs": [],
   "execution_count": null,
   "source": "",
   "id": "c6d0cf92bff406f3"
  },
  {
   "metadata": {},
   "cell_type": "markdown",
   "source": "## Task 6: Prepare The Data By Performing Tokenization And Padding\n",
   "id": "a161dd5b3857eea2"
  },
  {
   "metadata": {
    "ExecuteTime": {
     "end_time": "2024-05-27T13:41:02.067554Z",
     "start_time": "2024-05-27T13:41:02.065844Z"
    }
   },
   "cell_type": "code",
   "source": "",
   "id": "8e8c9c54c3be2f07",
   "outputs": [],
   "execution_count": 1
  },
  {
   "metadata": {
    "ExecuteTime": {
     "end_time": "2024-05-16T12:26:54.029942Z",
     "start_time": "2024-05-16T12:26:54.028633Z"
    }
   },
   "cell_type": "code",
   "source": "",
   "id": "715ef8cfdcc4ba63",
   "outputs": [],
   "execution_count": 3
  },
  {
   "metadata": {},
   "cell_type": "markdown",
   "source": [
    "## Task 7: Understand The Theory And Intuition Behind Recurrent Neural Networks And LSTM\n",
    "\n"
   ],
   "id": "2f4c4e853d5f435b"
  },
  {
   "metadata": {
    "ExecuteTime": {
     "end_time": "2024-05-27T13:43:47.550275Z",
     "start_time": "2024-05-27T13:43:47.548709Z"
    }
   },
   "cell_type": "code",
   "source": "",
   "id": "a262f5a729e2ad40",
   "outputs": [],
   "execution_count": 6
  },
  {
   "metadata": {
    "ExecuteTime": {
     "end_time": "2024-05-16T12:27:47.422889Z",
     "start_time": "2024-05-16T12:27:47.421106Z"
    }
   },
   "cell_type": "code",
   "source": "",
   "id": "eb1771c0b7f638ed",
   "outputs": [],
   "execution_count": 3
  },
  {
   "metadata": {},
   "cell_type": "markdown",
   "source": "## Task 8: Understand The Intuition Behind Long Short Term Memory (LSTM) Networks",
   "id": "68412c9e737f51d4"
  },
  {
   "metadata": {
    "ExecuteTime": {
     "end_time": "2024-05-27T13:44:19.899092Z",
     "start_time": "2024-05-27T13:44:19.897573Z"
    }
   },
   "cell_type": "code",
   "source": "",
   "id": "f5c2847805626b42",
   "outputs": [],
   "execution_count": 7
  },
  {
   "metadata": {
    "ExecuteTime": {
     "end_time": "2024-05-16T12:28:02.125484Z",
     "start_time": "2024-05-16T12:28:02.123951Z"
    }
   },
   "cell_type": "code",
   "source": "",
   "id": "ca39a49f83e7e6d0",
   "outputs": [],
   "execution_count": 3
  },
  {
   "metadata": {},
   "cell_type": "markdown",
   "source": "## Task 9: Build And Train The Model",
   "id": "b17aff132114af9c"
  },
  {
   "metadata": {
    "ExecuteTime": {
     "end_time": "2024-05-27T13:44:42.288137Z",
     "start_time": "2024-05-27T13:44:42.286374Z"
    }
   },
   "cell_type": "code",
   "source": "",
   "id": "27763dd5aba1db1c",
   "outputs": [],
   "execution_count": 8
  },
  {
   "metadata": {
    "ExecuteTime": {
     "end_time": "2024-05-16T12:28:24.602287Z",
     "start_time": "2024-05-16T12:28:24.600849Z"
    }
   },
   "cell_type": "code",
   "source": "",
   "id": "9800f1bf07b2079c",
   "outputs": [],
   "execution_count": 3
  },
  {
   "metadata": {},
   "cell_type": "markdown",
   "source": "## Task 10: Assess Trained Model Performance",
   "id": "5b7a3cb0f02d298d"
  },
  {
   "metadata": {
    "ExecuteTime": {
     "end_time": "2024-05-27T13:45:03.595006Z",
     "start_time": "2024-05-27T13:45:03.593395Z"
    }
   },
   "cell_type": "code",
   "source": "",
   "id": "fb83970405b65cb",
   "outputs": [],
   "execution_count": 9
  },
  {
   "metadata": {},
   "cell_type": "code",
   "outputs": [],
   "execution_count": null,
   "source": "",
   "id": "c4be7c5fcfd5ccf2"
  }
 ],
 "metadata": {
  "kernelspec": {
   "display_name": "Python 3",
   "language": "python",
   "name": "python3"
  },
  "language_info": {
   "codemirror_mode": {
    "name": "ipython",
    "version": 2
   },
   "file_extension": ".py",
   "mimetype": "text/x-python",
   "name": "python",
   "nbconvert_exporter": "python",
   "pygments_lexer": "ipython2",
   "version": "2.7.6"
  }
 },
 "nbformat": 4,
 "nbformat_minor": 5
}
