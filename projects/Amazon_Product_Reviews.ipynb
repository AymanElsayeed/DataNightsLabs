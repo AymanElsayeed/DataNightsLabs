{
 "cells": [
  {
   "cell_type": "code",
   "execution_count": null,
   "id": "initial_id",
   "metadata": {
    "collapsed": true
   },
   "outputs": [],
   "source": [
    ""
   ]
  },
  {
   "metadata": {
    "ExecuteTime": {
     "end_time": "2024-05-16T08:29:19.412675Z",
     "start_time": "2024-05-16T08:29:19.100639Z"
    }
   },
   "cell_type": "code",
   "source": "import pandas as pd",
   "id": "c31241463eb6a327",
   "outputs": [],
   "execution_count": 1
  },
  {
   "metadata": {
    "ExecuteTime": {
     "end_time": "2024-05-16T08:30:05.900729Z",
     "start_time": "2024-05-16T08:30:05.887142Z"
    }
   },
   "cell_type": "code",
   "source": "reviews = pd.read_csv(\"../assets/amazon_reviews.csv\")",
   "id": "f2423ddfea63d2a4",
   "outputs": [],
   "execution_count": 3
  },
  {
   "metadata": {
    "ExecuteTime": {
     "end_time": "2024-05-16T08:31:00.334341Z",
     "start_time": "2024-05-16T08:31:00.331665Z"
    }
   },
   "cell_type": "code",
   "source": "reviews.shape",
   "id": "e76d23362bc40f08",
   "outputs": [
    {
     "data": {
      "text/plain": [
       "(3150, 5)"
      ]
     },
     "execution_count": 5,
     "metadata": {},
     "output_type": "execute_result"
    }
   ],
   "execution_count": 5
  },
  {
   "metadata": {},
   "cell_type": "code",
   "outputs": [],
   "execution_count": null,
   "source": "",
   "id": "d43526ff50a8ac9e"
  }
 ],
 "metadata": {
  "kernelspec": {
   "display_name": "Python 3",
   "language": "python",
   "name": "python3"
  },
  "language_info": {
   "codemirror_mode": {
    "name": "ipython",
    "version": 2
   },
   "file_extension": ".py",
   "mimetype": "text/x-python",
   "name": "python",
   "nbconvert_exporter": "python",
   "pygments_lexer": "ipython2",
   "version": "2.7.6"
  }
 },
 "nbformat": 4,
 "nbformat_minor": 5
}
