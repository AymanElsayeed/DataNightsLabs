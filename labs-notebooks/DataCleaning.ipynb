{
 "cells": [
  {
   "metadata": {},
   "cell_type": "markdown",
   "source": [
    "# Data Cleaning\n",
    "\n",
    "this notebook is about cleaning the data, which includes:\n",
    "* **remove punctuation**: remove all punctuation from a string\n",
    "* **stop words**: words which are filtered out before or after processing of text\n",
    "* **stemming**: process of reducing inflected (or sometimes derived) words to their word stem, base or root form\n",
    "* **lemmatization**: process of grouping together the inflected forms of a word so they can be analysed as a single item\n",
    "* **tokenization**: process of breaking a stream of text up into words, phrases, symbols, or other meaningful elements called tokens\n",
    "\n"
   ],
   "id": "3a1c85a18fb60452"
  },
  {
   "metadata": {
    "ExecuteTime": {
     "end_time": "2024-06-09T11:38:25.680179Z",
     "start_time": "2024-06-09T11:38:25.678226Z"
    }
   },
   "cell_type": "code",
   "source": "import pandas as pd",
   "id": "afd9bf91bb4d91ca",
   "outputs": [],
   "execution_count": 4
  },
  {
   "metadata": {
    "ExecuteTime": {
     "end_time": "2024-06-09T11:38:25.906677Z",
     "start_time": "2024-06-09T11:38:25.865009Z"
    }
   },
   "cell_type": "code",
   "source": "tweets = pd.read_csv('../assets/twitter.csv')",
   "id": "cbc65862f83abde3",
   "outputs": [],
   "execution_count": 5
  },
  {
   "metadata": {
    "ExecuteTime": {
     "end_time": "2024-06-09T11:38:26.071015Z",
     "start_time": "2024-06-09T11:38:26.069212Z"
    }
   },
   "cell_type": "code",
   "source": "t0 = tweets.tweet[0]",
   "id": "3fea1c8618d7fae",
   "outputs": [],
   "execution_count": 6
  },
  {
   "metadata": {
    "ExecuteTime": {
     "end_time": "2024-06-09T11:38:26.277222Z",
     "start_time": "2024-06-09T11:38:26.274959Z"
    }
   },
   "cell_type": "code",
   "source": "t0",
   "id": "c1f2054cfea8eae8",
   "outputs": [
    {
     "data": {
      "text/plain": [
       "' @user when a father is dysfunctional and is so selfish he drags his kids into his dysfunction.   #run'"
      ]
     },
     "execution_count": 7,
     "metadata": {},
     "output_type": "execute_result"
    }
   ],
   "execution_count": 7
  },
  {
   "metadata": {},
   "cell_type": "markdown",
   "source": "## Remove Punctuation",
   "id": "c138043c92fcf440"
  },
  {
   "metadata": {
    "ExecuteTime": {
     "end_time": "2024-06-09T11:38:26.879353Z",
     "start_time": "2024-06-09T11:38:26.877710Z"
    }
   },
   "cell_type": "code",
   "source": "import string",
   "id": "2096b47e93f8afe1",
   "outputs": [],
   "execution_count": 8
  },
  {
   "metadata": {
    "ExecuteTime": {
     "end_time": "2024-06-09T11:50:33.868792Z",
     "start_time": "2024-06-09T11:50:33.866464Z"
    }
   },
   "cell_type": "code",
   "source": "t0.translate(str.maketrans('', '', string.punctuation))",
   "id": "3aa1b1d1dfcde562",
   "outputs": [
    {
     "data": {
      "text/plain": [
       "' user when a father is dysfunctional and is so selfish he drags his kids into his dysfunction   run'"
      ]
     },
     "execution_count": 35,
     "metadata": {},
     "output_type": "execute_result"
    }
   ],
   "execution_count": 35
  },
  {
   "metadata": {
    "ExecuteTime": {
     "end_time": "2024-06-09T11:50:52.105992Z",
     "start_time": "2024-06-09T11:50:52.103068Z"
    }
   },
   "cell_type": "code",
   "source": [
    "# another way to remove punctuation\n",
    "''.join([char for char in t0 if char not in string.punctuation])"
   ],
   "id": "732e862a025ce6ec",
   "outputs": [
    {
     "data": {
      "text/plain": [
       "' user when a father is dysfunctional and is so selfish he drags his kids into his dysfunction   run'"
      ]
     },
     "execution_count": 36,
     "metadata": {},
     "output_type": "execute_result"
    }
   ],
   "execution_count": 36
  },
  {
   "metadata": {
    "ExecuteTime": {
     "end_time": "2024-06-09T11:54:48.596040Z",
     "start_time": "2024-06-09T11:54:48.593694Z"
    }
   },
   "cell_type": "code",
   "source": [
    "# another way to remove punctuation\n",
    "\"\".join(filter(lambda x: x not in string.punctuation, t0))"
   ],
   "id": "21440521e141bcb3",
   "outputs": [
    {
     "data": {
      "text/plain": [
       "' user when a father is dysfunctional and is so selfish he drags his kids into his dysfunction   run'"
      ]
     },
     "execution_count": 50,
     "metadata": {},
     "output_type": "execute_result"
    }
   ],
   "execution_count": 50
  },
  {
   "metadata": {
    "ExecuteTime": {
     "end_time": "2024-06-09T11:56:43.147105Z",
     "start_time": "2024-06-09T11:56:43.145675Z"
    }
   },
   "cell_type": "code",
   "source": "",
   "id": "cf1ebd0d6fbe1c64",
   "outputs": [],
   "execution_count": 54
  },
  {
   "metadata": {},
   "cell_type": "markdown",
   "source": "## Remove stop words",
   "id": "56df47598c226bba"
  },
  {
   "metadata": {
    "ExecuteTime": {
     "end_time": "2024-06-09T11:38:28.313700Z",
     "start_time": "2024-06-09T11:38:27.534691Z"
    }
   },
   "cell_type": "code",
   "source": [
    "import nltk\n",
    "nltk.download('stopwords')\n",
    "from nltk.corpus import stopwords\n",
    "#stopwords.words('english')"
   ],
   "id": "fc6b478a516878cf",
   "outputs": [
    {
     "name": "stderr",
     "output_type": "stream",
     "text": [
      "[nltk_data] Downloading package stopwords to\n",
      "[nltk_data]     /Users/aymanelsayeed/nltk_data...\n",
      "[nltk_data]   Package stopwords is already up-to-date!\n"
     ]
    }
   ],
   "execution_count": 10
  },
  {
   "metadata": {
    "ExecuteTime": {
     "end_time": "2024-06-09T11:38:28.316697Z",
     "start_time": "2024-06-09T11:38:28.314649Z"
    }
   },
   "cell_type": "code",
   "source": "t0",
   "id": "adaf3e5d964bf23c",
   "outputs": [
    {
     "data": {
      "text/plain": [
       "' @user when a father is dysfunctional and is so selfish he drags his kids into his dysfunction.   #run'"
      ]
     },
     "execution_count": 11,
     "metadata": {},
     "output_type": "execute_result"
    }
   ],
   "execution_count": 11
  },
  {
   "metadata": {
    "ExecuteTime": {
     "end_time": "2024-06-09T11:38:28.322789Z",
     "start_time": "2024-06-09T11:38:28.317243Z"
    }
   },
   "cell_type": "code",
   "source": [
    "#remove stop words from the tweet\n",
    "\n",
    "' '.join([word for word in t0.split() if word.lower() not in stopwords.words('english')])"
   ],
   "id": "5b8f49ae6240fbe7",
   "outputs": [
    {
     "data": {
      "text/plain": [
       "'@user father dysfunctional selfish drags kids dysfunction. #run'"
      ]
     },
     "execution_count": 12,
     "metadata": {},
     "output_type": "execute_result"
    }
   ],
   "execution_count": 12
  },
  {
   "metadata": {},
   "cell_type": "markdown",
   "source": [
    "### Excercise\n",
    "1. Write a function that removes all stopwords from a given `text` and punctuation\n",
    "2. Run the function on all tweets\n",
    " "
   ],
   "id": "ceaf3d60697682d3"
  },
  {
   "metadata": {
    "ExecuteTime": {
     "end_time": "2024-06-09T12:04:26.167424Z",
     "start_time": "2024-06-09T12:04:26.165460Z"
    }
   },
   "cell_type": "code",
   "source": [
    "def remove_stopwords_punctuation(text):\n",
    "    return text"
   ],
   "id": "1958b753a78ef1da",
   "outputs": [],
   "execution_count": 60
  },
  {
   "metadata": {},
   "cell_type": "markdown",
   "source": [
    "<details>\n",
    "    <summary>Click to reveal answer</summary>\n",
    "    <p class=\"answer\">\n",
    "    def remove_stopwords_punctuation(text):\n",
    "    # remove punctuation\n",
    "    text = text.translate(str.maketrans('', '', string.punctuation))\n",
    "    # remove stop words\n",
    "    return ' '.join([word for word in text.split() if word.lower() not in stopwords.words('english')])\n",
    "    # return text\n",
    "    </p>\n",
    "</details>\n"
   ],
   "id": "4bfff293586a0189"
  },
  {
   "metadata": {},
   "cell_type": "markdown",
   "source": "Remove stop words and punctuation from all tweets, save the result in a new column called 'cleaned'",
   "id": "109d0751ce142dc4"
  },
  {
   "metadata": {
    "ExecuteTime": {
     "end_time": "2024-06-09T12:03:29.699136Z",
     "start_time": "2024-06-09T12:03:12.562659Z"
    }
   },
   "cell_type": "code",
   "source": "",
   "id": "d223429b0cde2159",
   "outputs": [
    {
     "data": {
      "text/plain": [
       "   id  label                                              tweet  \\\n",
       "0   1      0   @user when a father is dysfunctional and is s...   \n",
       "1   2      0  @user @user thanks for #lyft credit i can't us...   \n",
       "2   3      0                                bihday your majesty   \n",
       "3   4      0  #model   i love u take with u all the time in ...   \n",
       "4   5      0             factsguide: society now    #motivation   \n",
       "\n",
       "                                             cleaned  \n",
       "0  user father dysfunctional selfish drags kids d...  \n",
       "1  user user thanks lyft credit cant use cause do...  \n",
       "2                                     bihday majesty  \n",
       "3  model love u take u time urð± ðððð...  \n",
       "4                      factsguide society motivation  "
      ],
      "text/html": [
       "<div>\n",
       "<style scoped>\n",
       "    .dataframe tbody tr th:only-of-type {\n",
       "        vertical-align: middle;\n",
       "    }\n",
       "\n",
       "    .dataframe tbody tr th {\n",
       "        vertical-align: top;\n",
       "    }\n",
       "\n",
       "    .dataframe thead th {\n",
       "        text-align: right;\n",
       "    }\n",
       "</style>\n",
       "<table border=\"1\" class=\"dataframe\">\n",
       "  <thead>\n",
       "    <tr style=\"text-align: right;\">\n",
       "      <th></th>\n",
       "      <th>id</th>\n",
       "      <th>label</th>\n",
       "      <th>tweet</th>\n",
       "      <th>cleaned</th>\n",
       "    </tr>\n",
       "  </thead>\n",
       "  <tbody>\n",
       "    <tr>\n",
       "      <th>0</th>\n",
       "      <td>1</td>\n",
       "      <td>0</td>\n",
       "      <td>@user when a father is dysfunctional and is s...</td>\n",
       "      <td>user father dysfunctional selfish drags kids d...</td>\n",
       "    </tr>\n",
       "    <tr>\n",
       "      <th>1</th>\n",
       "      <td>2</td>\n",
       "      <td>0</td>\n",
       "      <td>@user @user thanks for #lyft credit i can't us...</td>\n",
       "      <td>user user thanks lyft credit cant use cause do...</td>\n",
       "    </tr>\n",
       "    <tr>\n",
       "      <th>2</th>\n",
       "      <td>3</td>\n",
       "      <td>0</td>\n",
       "      <td>bihday your majesty</td>\n",
       "      <td>bihday majesty</td>\n",
       "    </tr>\n",
       "    <tr>\n",
       "      <th>3</th>\n",
       "      <td>4</td>\n",
       "      <td>0</td>\n",
       "      <td>#model   i love u take with u all the time in ...</td>\n",
       "      <td>model love u take u time urð± ðððð...</td>\n",
       "    </tr>\n",
       "    <tr>\n",
       "      <th>4</th>\n",
       "      <td>5</td>\n",
       "      <td>0</td>\n",
       "      <td>factsguide: society now    #motivation</td>\n",
       "      <td>factsguide society motivation</td>\n",
       "    </tr>\n",
       "  </tbody>\n",
       "</table>\n",
       "</div>"
      ]
     },
     "execution_count": 59,
     "metadata": {},
     "output_type": "execute_result"
    }
   ],
   "execution_count": 59
  },
  {
   "metadata": {},
   "cell_type": "markdown",
   "source": "",
   "id": "9d76983e4b47f1a3"
  },
  {
   "metadata": {},
   "cell_type": "markdown",
   "source": [
    "<details>\n",
    "    <summary>Click to reveal answer</summary>\n",
    "    <p class=\"answer\">\n",
    "    tweets['cleaned'] = tweets.tweet.apply(remove_stopwords_punctuation)\n",
    "    tweets.head()\n",
    "    </p>\n",
    "</details>\n"
   ],
   "id": "8c76ebfc2ba7d75a"
  },
  {
   "metadata": {},
   "cell_type": "markdown",
   "source": "## Stemming",
   "id": "68b60c85666cea94"
  },
  {
   "metadata": {
    "ExecuteTime": {
     "end_time": "2024-06-09T11:38:29.307665Z",
     "start_time": "2024-06-09T11:38:29.305313Z"
    }
   },
   "cell_type": "code",
   "source": [
    "input1 = \"List listed lists listing listings\"\n",
    "words1 = input1.lower().split(' ')\n",
    "words1"
   ],
   "id": "a2db345088d0339",
   "outputs": [
    {
     "data": {
      "text/plain": [
       "['list', 'listed', 'lists', 'listing', 'listings']"
      ]
     },
     "execution_count": 14,
     "metadata": {},
     "output_type": "execute_result"
    }
   ],
   "execution_count": 14
  },
  {
   "metadata": {
    "ExecuteTime": {
     "end_time": "2024-06-09T11:38:29.488538Z",
     "start_time": "2024-06-09T11:38:29.486639Z"
    }
   },
   "cell_type": "code",
   "source": "porter = nltk.PorterStemmer()",
   "id": "4d2f3052309e543e",
   "outputs": [],
   "execution_count": 15
  },
  {
   "metadata": {
    "ExecuteTime": {
     "end_time": "2024-06-09T11:38:29.676734Z",
     "start_time": "2024-06-09T11:38:29.673683Z"
    }
   },
   "cell_type": "code",
   "source": "[porter.stem(t) for t in words1]",
   "id": "589e3bef64f1bda8",
   "outputs": [
    {
     "data": {
      "text/plain": [
       "['list', 'list', 'list', 'list', 'list']"
      ]
     },
     "execution_count": 16,
     "metadata": {},
     "output_type": "execute_result"
    }
   ],
   "execution_count": 16
  },
  {
   "metadata": {},
   "cell_type": "markdown",
   "source": "## Lemmatization",
   "id": "da01ee6e31e35301"
  },
  {
   "metadata": {
    "ExecuteTime": {
     "end_time": "2024-06-09T11:38:30.050329Z",
     "start_time": "2024-06-09T11:38:30.048861Z"
    }
   },
   "cell_type": "code",
   "source": "WNlemma = nltk.WordNetLemmatizer()",
   "id": "aee4f983c6d17e30",
   "outputs": [],
   "execution_count": 17
  },
  {
   "metadata": {
    "ExecuteTime": {
     "end_time": "2024-06-09T11:38:30.741222Z",
     "start_time": "2024-06-09T11:38:30.228708Z"
    }
   },
   "cell_type": "code",
   "source": "[WNlemma.lemmatize(t) for t in words1]",
   "id": "7e3095a05273f145",
   "outputs": [
    {
     "data": {
      "text/plain": [
       "['list', 'listed', 'list', 'listing', 'listing']"
      ]
     },
     "execution_count": 18,
     "metadata": {},
     "output_type": "execute_result"
    }
   ],
   "execution_count": 18
  },
  {
   "metadata": {
    "ExecuteTime": {
     "end_time": "2024-06-09T11:38:30.743608Z",
     "start_time": "2024-06-09T11:38:30.742340Z"
    }
   },
   "cell_type": "code",
   "source": "",
   "id": "4f83fa7120e3b03a",
   "outputs": [],
   "execution_count": 18
  },
  {
   "metadata": {},
   "cell_type": "markdown",
   "source": [
    "## Stemming vs Lemmatization\n",
    "\n",
    "* **Stemming**: \n",
    "\n",
    " stemming is typically faster as it simply chops off the end of a word using heuristics, without any understanding of the context in which a word is used.\n",
    " \n",
    "    * Faster\n",
    "    * Less accurate\n",
    "    * More aggressive\n",
    "    * Removes prefixes and suffixes\n",
    "    * Not always a real word\n",
    "\n",
    "* **Lemmatization**:\n",
    "\n",
    "Lemmmatization is typically more accurate as it uses more informed analysis to create groups of words with similar meaning based on the context around the word.\n",
    "\n",
    "    * Slower\n",
    "    * More accurate\n",
    "    * Less aggressive\n",
    "    * Removes prefixes and suffixes\n",
    "    * Always a real word\n",
    "    * Requires a dictionary\n"
   ],
   "id": "86258a043e77050e"
  },
  {
   "metadata": {},
   "cell_type": "markdown",
   "source": [
    "## Tokenization\n",
    "* **word_tokenize**: tokenize a string to words\n",
    "* **sent_tokenize**: tokenize a string to sentences"
   ],
   "id": "be5a689d1af4219f"
  },
  {
   "metadata": {
    "ExecuteTime": {
     "end_time": "2024-06-09T11:38:31.153198Z",
     "start_time": "2024-06-09T11:38:31.150733Z"
    }
   },
   "cell_type": "code",
   "source": [
    "text11 = \"Children shouldn't drink a sugary drink before bed.\"\n",
    "text11.split(' ')"
   ],
   "id": "b96c1c47a2a2de83",
   "outputs": [
    {
     "data": {
      "text/plain": [
       "['Children', \"shouldn't\", 'drink', 'a', 'sugary', 'drink', 'before', 'bed.']"
      ]
     },
     "execution_count": 19,
     "metadata": {},
     "output_type": "execute_result"
    }
   ],
   "execution_count": 19
  },
  {
   "metadata": {
    "ExecuteTime": {
     "end_time": "2024-06-09T11:38:31.678527Z",
     "start_time": "2024-06-09T11:38:31.670213Z"
    }
   },
   "cell_type": "code",
   "source": "nltk.word_tokenize(text11)",
   "id": "8a41461c54ddf67",
   "outputs": [
    {
     "data": {
      "text/plain": [
       "['Children',\n",
       " 'should',\n",
       " \"n't\",\n",
       " 'drink',\n",
       " 'a',\n",
       " 'sugary',\n",
       " 'drink',\n",
       " 'before',\n",
       " 'bed',\n",
       " '.']"
      ]
     },
     "execution_count": 20,
     "metadata": {},
     "output_type": "execute_result"
    }
   ],
   "execution_count": 20
  },
  {
   "metadata": {
    "ExecuteTime": {
     "end_time": "2024-06-09T11:38:31.897769Z",
     "start_time": "2024-06-09T11:38:31.894678Z"
    }
   },
   "cell_type": "code",
   "source": [
    "text12 = \"This is the first sentence. A gallon of milk in the U.S. costs $2.99. Is this the third sentence? Yes, it is!\"\n",
    "sentences = nltk.sent_tokenize(text12)\n",
    "len(sentences)"
   ],
   "id": "80c989b85df82f1e",
   "outputs": [
    {
     "data": {
      "text/plain": [
       "4"
      ]
     },
     "execution_count": 21,
     "metadata": {},
     "output_type": "execute_result"
    }
   ],
   "execution_count": 21
  },
  {
   "metadata": {
    "ExecuteTime": {
     "end_time": "2024-06-09T11:38:32.211883Z",
     "start_time": "2024-06-09T11:38:32.209761Z"
    }
   },
   "cell_type": "code",
   "source": "sentences",
   "id": "2382d038ed7f9955",
   "outputs": [
    {
     "data": {
      "text/plain": [
       "['This is the first sentence.',\n",
       " 'A gallon of milk in the U.S. costs $2.99.',\n",
       " 'Is this the third sentence?',\n",
       " 'Yes, it is!']"
      ]
     },
     "execution_count": 22,
     "metadata": {},
     "output_type": "execute_result"
    }
   ],
   "execution_count": 22
  },
  {
   "metadata": {
    "ExecuteTime": {
     "end_time": "2024-06-09T11:38:32.795358Z",
     "start_time": "2024-06-09T11:38:32.793867Z"
    }
   },
   "cell_type": "code",
   "source": "",
   "id": "ebf774752a3d99fd",
   "outputs": [],
   "execution_count": 22
  },
  {
   "metadata": {
    "ExecuteTime": {
     "end_time": "2024-06-09T15:07:25.585397Z",
     "start_time": "2024-06-09T15:07:25.583865Z"
    }
   },
   "cell_type": "code",
   "source": "",
   "id": "4f96b8c73fc1658f",
   "outputs": [],
   "execution_count": 61
  },
  {
   "metadata": {},
   "cell_type": "code",
   "outputs": [],
   "execution_count": null,
   "source": "",
   "id": "9390ad7381274922"
  }
 ],
 "metadata": {
  "kernelspec": {
   "display_name": "Python 3",
   "language": "python",
   "name": "python3"
  },
  "language_info": {
   "codemirror_mode": {
    "name": "ipython",
    "version": 2
   },
   "file_extension": ".py",
   "mimetype": "text/x-python",
   "name": "python",
   "nbconvert_exporter": "python",
   "pygments_lexer": "ipython2",
   "version": "2.7.6"
  }
 },
 "nbformat": 4,
 "nbformat_minor": 5
}
