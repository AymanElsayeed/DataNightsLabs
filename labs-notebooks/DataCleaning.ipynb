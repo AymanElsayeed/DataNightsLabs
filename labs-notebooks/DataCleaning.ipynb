{
 "cells": [
  {
   "metadata": {},
   "cell_type": "markdown",
   "source": [
    "# Data Cleaning\n",
    "\n",
    "this notebook is about cleaning the data, which includes:\n",
    "* **remove punctuation**: remove all punctuation from a string\n",
    "* **stop words**: words which are filtered out before or after processing of text\n",
    "* **stemming**: process of reducing inflected (or sometimes derived) words to their word stem, base or root form\n",
    "* **lemmatization**: process of grouping together the inflected forms of a word so they can be analysed as a single item\n",
    "* **tokenization**: process of breaking a stream of text up into words, phrases, symbols, or other meaningful elements called tokens\n",
    "\n"
   ],
   "id": "3a1c85a18fb60452"
  },
  {
   "metadata": {
    "ExecuteTime": {
     "end_time": "2024-05-15T13:06:25.314637Z",
     "start_time": "2024-05-15T13:06:25.013420Z"
    }
   },
   "cell_type": "code",
   "source": "import pandas as pd",
   "id": "afd9bf91bb4d91ca",
   "outputs": [],
   "execution_count": 1
  },
  {
   "metadata": {
    "ExecuteTime": {
     "end_time": "2024-05-15T13:06:54.839118Z",
     "start_time": "2024-05-15T13:06:54.800393Z"
    }
   },
   "cell_type": "code",
   "source": "tweets = pd.read_csv('../assets/twitter.csv')",
   "id": "cbc65862f83abde3",
   "outputs": [],
   "execution_count": 4
  },
  {
   "metadata": {
    "ExecuteTime": {
     "end_time": "2024-05-15T13:50:09.060827Z",
     "start_time": "2024-05-15T13:50:09.058814Z"
    }
   },
   "cell_type": "code",
   "source": "t0 = tweets.tweet[0]",
   "id": "3fea1c8618d7fae",
   "outputs": [],
   "execution_count": 66
  },
  {
   "metadata": {},
   "cell_type": "code",
   "outputs": [],
   "execution_count": null,
   "source": "",
   "id": "c1f2054cfea8eae8"
  },
  {
   "metadata": {},
   "cell_type": "markdown",
   "source": "## Remove Punctuation",
   "id": "c138043c92fcf440"
  },
  {
   "metadata": {
    "ExecuteTime": {
     "end_time": "2024-05-15T13:50:11.827385Z",
     "start_time": "2024-05-15T13:50:11.825522Z"
    }
   },
   "cell_type": "code",
   "source": "import string",
   "id": "2096b47e93f8afe1",
   "outputs": [],
   "execution_count": 67
  },
  {
   "metadata": {
    "ExecuteTime": {
     "end_time": "2024-05-15T13:50:13.303948Z",
     "start_time": "2024-05-15T13:50:13.301091Z"
    }
   },
   "cell_type": "code",
   "source": "t0.translate(str.maketrans('', '', string.punctuation))",
   "id": "3aa1b1d1dfcde562",
   "outputs": [
    {
     "data": {
      "text/plain": [
       "' user when a father is dysfunctional and is so selfish he drags his kids into his dysfunction   run'"
      ]
     },
     "execution_count": 68,
     "metadata": {},
     "output_type": "execute_result"
    }
   ],
   "execution_count": 68
  },
  {
   "metadata": {
    "ExecuteTime": {
     "end_time": "2024-05-15T13:16:49.080436Z",
     "start_time": "2024-05-15T13:16:49.078954Z"
    }
   },
   "cell_type": "code",
   "source": "",
   "id": "732e862a025ce6ec",
   "outputs": [],
   "execution_count": 36
  },
  {
   "metadata": {},
   "cell_type": "markdown",
   "source": "## Remove stop words",
   "id": "56df47598c226bba"
  },
  {
   "metadata": {
    "ExecuteTime": {
     "end_time": "2024-05-15T13:47:11.616671Z",
     "start_time": "2024-05-15T13:47:11.614301Z"
    }
   },
   "cell_type": "code",
   "source": [
    "import nltk\n",
    "nltk.download('stopwords')\n",
    "from nltk.corpus import stopwords\n",
    "#stopwords.words('english')"
   ],
   "id": "fc6b478a516878cf",
   "outputs": [
    {
     "name": "stderr",
     "output_type": "stream",
     "text": [
      "[nltk_data] Downloading package stopwords to\n",
      "[nltk_data]     /Users/aymanelsayeed/nltk_data...\n",
      "[nltk_data]   Package stopwords is already up-to-date!\n"
     ]
    }
   ],
   "execution_count": 61
  },
  {
   "metadata": {
    "ExecuteTime": {
     "end_time": "2024-05-15T13:50:20.786459Z",
     "start_time": "2024-05-15T13:50:20.784152Z"
    }
   },
   "cell_type": "code",
   "source": "t0",
   "id": "adaf3e5d964bf23c",
   "outputs": [
    {
     "data": {
      "text/plain": [
       "' @user when a father is dysfunctional and is so selfish he drags his kids into his dysfunction.   #run'"
      ]
     },
     "execution_count": 70,
     "metadata": {},
     "output_type": "execute_result"
    }
   ],
   "execution_count": 70
  },
  {
   "metadata": {
    "ExecuteTime": {
     "end_time": "2024-05-15T13:50:21.790319Z",
     "start_time": "2024-05-15T13:50:21.785510Z"
    }
   },
   "cell_type": "code",
   "source": [
    "#remove stop words from the tweet\n",
    "\n",
    "' '.join([word for word in t0.split() if word.lower() not in stopwords.words('english')])"
   ],
   "id": "5b8f49ae6240fbe7",
   "outputs": [
    {
     "data": {
      "text/plain": [
       "'@user father dysfunctional selfish drags kids dysfunction. #run'"
      ]
     },
     "execution_count": 71,
     "metadata": {},
     "output_type": "execute_result"
    }
   ],
   "execution_count": 71
  },
  {
   "metadata": {},
   "cell_type": "markdown",
   "source": [
    "### Excercise\n",
    "Write a function that removes all stopwords from a given tweet and punctuation, and\n",
    "Run the function on all tweets\n",
    " "
   ],
   "id": "ceaf3d60697682d3"
  },
  {
   "metadata": {
    "ExecuteTime": {
     "end_time": "2024-05-15T13:46:33.287396Z",
     "start_time": "2024-05-15T13:46:33.284995Z"
    }
   },
   "cell_type": "code",
   "source": [
    "def remove_stopwords_punctuation(tweet):\n",
    "    pass"
   ],
   "id": "1958b753a78ef1da",
   "outputs": [],
   "execution_count": 60
  },
  {
   "metadata": {
    "ExecuteTime": {
     "end_time": "2024-05-15T13:19:11.875374Z",
     "start_time": "2024-05-15T13:19:11.873827Z"
    }
   },
   "cell_type": "code",
   "source": "",
   "id": "6d3c20efda352116",
   "outputs": [],
   "execution_count": 49
  },
  {
   "metadata": {},
   "cell_type": "markdown",
   "source": "Remove stop words and punctuation from all tweets, save the result in a new column called 'cleaned'",
   "id": "109d0751ce142dc4"
  },
  {
   "metadata": {
    "ExecuteTime": {
     "end_time": "2024-05-16T08:15:57.096967Z",
     "start_time": "2024-05-16T08:15:57.093352Z"
    }
   },
   "cell_type": "code",
   "source": "",
   "id": "d223429b0cde2159",
   "outputs": [],
   "execution_count": 71
  },
  {
   "metadata": {
    "ExecuteTime": {
     "end_time": "2024-05-15T13:19:13.524929Z",
     "start_time": "2024-05-15T13:19:13.523451Z"
    }
   },
   "cell_type": "code",
   "source": "",
   "id": "b8e5ff7ea19b43fe",
   "outputs": [],
   "execution_count": 49
  },
  {
   "metadata": {},
   "cell_type": "markdown",
   "source": "## Stemming",
   "id": "68b60c85666cea94"
  },
  {
   "metadata": {
    "ExecuteTime": {
     "end_time": "2024-05-15T13:39:21.697094Z",
     "start_time": "2024-05-15T13:39:21.694300Z"
    }
   },
   "cell_type": "code",
   "source": [
    "input1 = \"List listed lists listing listings\"\n",
    "words1 = input1.lower().split(' ')\n",
    "words1"
   ],
   "id": "a2db345088d0339",
   "outputs": [
    {
     "data": {
      "text/plain": [
       "['list', 'listed', 'lists', 'listing', 'listings']"
      ]
     },
     "execution_count": 50,
     "metadata": {},
     "output_type": "execute_result"
    }
   ],
   "execution_count": 50
  },
  {
   "metadata": {
    "ExecuteTime": {
     "end_time": "2024-05-15T13:39:22.137046Z",
     "start_time": "2024-05-15T13:39:22.134814Z"
    }
   },
   "cell_type": "code",
   "source": "porter = nltk.PorterStemmer()",
   "id": "4d2f3052309e543e",
   "outputs": [],
   "execution_count": 51
  },
  {
   "metadata": {
    "ExecuteTime": {
     "end_time": "2024-05-15T13:39:41.299405Z",
     "start_time": "2024-05-15T13:39:41.296671Z"
    }
   },
   "cell_type": "code",
   "source": "[porter.stem(t) for t in words1]",
   "id": "589e3bef64f1bda8",
   "outputs": [
    {
     "data": {
      "text/plain": [
       "['list', 'list', 'list', 'list', 'list']"
      ]
     },
     "execution_count": 52,
     "metadata": {},
     "output_type": "execute_result"
    }
   ],
   "execution_count": 52
  },
  {
   "metadata": {},
   "cell_type": "markdown",
   "source": "## Lemmatization",
   "id": "da01ee6e31e35301"
  },
  {
   "metadata": {
    "ExecuteTime": {
     "end_time": "2024-05-15T13:40:03.485071Z",
     "start_time": "2024-05-15T13:40:03.483262Z"
    }
   },
   "cell_type": "code",
   "source": "WNlemma = nltk.WordNetLemmatizer()",
   "id": "aee4f983c6d17e30",
   "outputs": [],
   "execution_count": 53
  },
  {
   "metadata": {
    "ExecuteTime": {
     "end_time": "2024-05-15T13:40:08.951467Z",
     "start_time": "2024-05-15T13:40:08.476449Z"
    }
   },
   "cell_type": "code",
   "source": "[WNlemma.lemmatize(t) for t in words1]",
   "id": "7e3095a05273f145",
   "outputs": [
    {
     "data": {
      "text/plain": [
       "['list', 'listed', 'list', 'listing', 'listing']"
      ]
     },
     "execution_count": 54,
     "metadata": {},
     "output_type": "execute_result"
    }
   ],
   "execution_count": 54
  },
  {
   "metadata": {
    "ExecuteTime": {
     "end_time": "2024-05-15T13:41:09.589411Z",
     "start_time": "2024-05-15T13:41:09.587592Z"
    }
   },
   "cell_type": "code",
   "source": "",
   "id": "4f83fa7120e3b03a",
   "outputs": [],
   "execution_count": 54
  },
  {
   "metadata": {},
   "cell_type": "markdown",
   "source": [
    "## Tokenization\n",
    "* **word_tokenize**: tokenize a string to words\n",
    "* **sent_tokenize**: tokenize a string to sentences"
   ],
   "id": "be5a689d1af4219f"
  },
  {
   "metadata": {
    "ExecuteTime": {
     "end_time": "2024-05-15T13:41:42.432181Z",
     "start_time": "2024-05-15T13:41:42.429560Z"
    }
   },
   "cell_type": "code",
   "source": [
    "text11 = \"Children shouldn't drink a sugary drink before bed.\"\n",
    "text11.split(' ')"
   ],
   "id": "b96c1c47a2a2de83",
   "outputs": [
    {
     "data": {
      "text/plain": [
       "['Children', \"shouldn't\", 'drink', 'a', 'sugary', 'drink', 'before', 'bed.']"
      ]
     },
     "execution_count": 55,
     "metadata": {},
     "output_type": "execute_result"
    }
   ],
   "execution_count": 55
  },
  {
   "metadata": {
    "ExecuteTime": {
     "end_time": "2024-05-15T13:41:51.999823Z",
     "start_time": "2024-05-15T13:41:51.991513Z"
    }
   },
   "cell_type": "code",
   "source": "nltk.word_tokenize(text11)",
   "id": "8a41461c54ddf67",
   "outputs": [
    {
     "data": {
      "text/plain": [
       "['Children',\n",
       " 'should',\n",
       " \"n't\",\n",
       " 'drink',\n",
       " 'a',\n",
       " 'sugary',\n",
       " 'drink',\n",
       " 'before',\n",
       " 'bed',\n",
       " '.']"
      ]
     },
     "execution_count": 56,
     "metadata": {},
     "output_type": "execute_result"
    }
   ],
   "execution_count": 56
  },
  {
   "metadata": {
    "ExecuteTime": {
     "end_time": "2024-05-15T13:42:18.427202Z",
     "start_time": "2024-05-15T13:42:18.423424Z"
    }
   },
   "cell_type": "code",
   "source": [
    "text12 = \"This is the first sentence. A gallon of milk in the U.S. costs $2.99. Is this the third sentence? Yes, it is!\"\n",
    "sentences = nltk.sent_tokenize(text12)\n",
    "len(sentences)"
   ],
   "id": "80c989b85df82f1e",
   "outputs": [
    {
     "data": {
      "text/plain": [
       "4"
      ]
     },
     "execution_count": 57,
     "metadata": {},
     "output_type": "execute_result"
    }
   ],
   "execution_count": 57
  },
  {
   "metadata": {
    "ExecuteTime": {
     "end_time": "2024-05-15T13:42:18.692250Z",
     "start_time": "2024-05-15T13:42:18.689166Z"
    }
   },
   "cell_type": "code",
   "source": "sentences",
   "id": "2382d038ed7f9955",
   "outputs": [
    {
     "data": {
      "text/plain": [
       "['This is the first sentence.',\n",
       " 'A gallon of milk in the U.S. costs $2.99.',\n",
       " 'Is this the third sentence?',\n",
       " 'Yes, it is!']"
      ]
     },
     "execution_count": 58,
     "metadata": {},
     "output_type": "execute_result"
    }
   ],
   "execution_count": 58
  },
  {
   "metadata": {},
   "cell_type": "code",
   "outputs": [],
   "execution_count": null,
   "source": "",
   "id": "ebf774752a3d99fd"
  }
 ],
 "metadata": {
  "kernelspec": {
   "display_name": "Python 3",
   "language": "python",
   "name": "python3"
  },
  "language_info": {
   "codemirror_mode": {
    "name": "ipython",
    "version": 2
   },
   "file_extension": ".py",
   "mimetype": "text/x-python",
   "name": "python",
   "nbconvert_exporter": "python",
   "pygments_lexer": "ipython2",
   "version": "2.7.6"
  }
 },
 "nbformat": 4,
 "nbformat_minor": 5
}
