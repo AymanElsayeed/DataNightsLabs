{
 "cells": [
  {
   "metadata": {},
   "cell_type": "markdown",
   "source": [
    "# Data Cleaning\n",
    "\n",
    "this notebook is about cleaning the data, which includes:\n",
    "\n",
    "* **stemming**: process of reducing inflected (or sometimes derived) words to their word stem, base or root form\n",
    "* **lemmatization**: process of grouping together the inflected forms of a word so they can be analysed as a single item\n",
    "* **stop words**: words which are filtered out before or after processing of text\n",
    "* **tokenization**: process of breaking a stream of text up into words, phrases, symbols, or other meaningful elements called tokens\n",
    "* **remove punctuation**: remove all punctuation from a string\n"
   ],
   "id": "3a1c85a18fb60452"
  },
  {
   "metadata": {},
   "cell_type": "code",
   "outputs": [],
   "execution_count": null,
   "source": "",
   "id": "afd9bf91bb4d91ca"
  }
 ],
 "metadata": {
  "kernelspec": {
   "display_name": "Python 3",
   "language": "python",
   "name": "python3"
  },
  "language_info": {
   "codemirror_mode": {
    "name": "ipython",
    "version": 2
   },
   "file_extension": ".py",
   "mimetype": "text/x-python",
   "name": "python",
   "nbconvert_exporter": "python",
   "pygments_lexer": "ipython2",
   "version": "2.7.6"
  }
 },
 "nbformat": 4,
 "nbformat_minor": 5
}
