{
 "cells": [
  {
   "metadata": {},
   "cell_type": "markdown",
   "source": [
    "# Lab 1 - Introduction to Python\n",
    "\n",
    "## Agenda\n",
    "\n",
    "### Environment Setup (Jupyter Notebook)\n",
    "   * Anaconda\n",
    "   * Google Colab\n",
    "\n",
    "### Git & Github\n",
    "   * Create a repository\n",
    "   * Basic commands\n",
    "### Introduction to Jupyter Notebook\n",
    "   * Markdown\n",
    "   * Code\n",
    "   * Magic Commands\n",
    "   * Keyboard Shortcuts\n",
    "### Install packages\n",
    "   * pip install\n",
    "### Python Basics\n",
    "* String\n",
    "* Regex\n",
    "* list\n",
    "* Map & Filter\n",
    "* Files\n",
    "\n",
    "\n",
    "### Python Libraries\n",
    "* Numpy\n",
    "* Matplotlib\n",
    "* Pandas\n",
    "* Seaborn\n",
    "\n",
    "### EDA (Exploratory Data Analysis)\n",
    "* Data Cleaning\n",
    "    * Handling Missing Values\n",
    "    * Drop unwanted columns\n",
    "* Data Visualization\n",
    "    * Types of Plots (Bar, Line, Scatter, Box, Histogram, ..etc) \n",
    "    * multi variate analysis\n",
    "    * Correlation\n",
    "    * variate analysis\n",
    "* Data Preprocessing\n",
    "    * Encoding\n",
    "    * Scaling\n",
    "    * Normalization\n",
    "    * Standardization\n",
    "* Data Summarization\n",
    "    * Statistical summary (mean, median, mode, std, min, max)\n",
    "\n",
    "### NLP Introduction (continued in Lab 2)\n",
    "* Tokenization\n",
    "* Stemming\n",
    "* Punctuation\n",
    "* Lemmatization\n",
    "* Stopwords\n",
    "* POS Tagging\n",
    "* Named Entity Recognition\n",
    "* Sentiment Analysis\n",
    "* Text Classification\n",
    "\n",
    "\n",
    "#### Author : Ayman Elsayeed\n",
    "#### Date : 2021-06-01"
   ],
   "id": "1eb0d52a06eea461"
  },
  {
   "metadata": {},
   "cell_type": "code",
   "outputs": [],
   "execution_count": null,
   "source": "",
   "id": "2ade0efb836d9d02"
  },
  {
   "metadata": {},
   "cell_type": "code",
   "outputs": [],
   "execution_count": null,
   "source": [
    "!pip install nltk\n",
    "!pip install spacy\n",
    "!pip install textblob\n",
    "!pip install gensim\n",
    "!pip install wordcloud\n",
    "!pip install matplotlib\n",
    "!pip install pandas\n",
    "!pip install numpy\n",
    "!pip install sklearn\n",
    "!pip install seaborn"
   ],
   "id": "8251e3bc05220ae"
  },
  {
   "metadata": {
    "ExecuteTime": {
     "end_time": "2024-05-12T14:39:08.955247Z",
     "start_time": "2024-05-12T14:39:08.201116Z"
    }
   },
   "cell_type": "code",
   "source": [
    "# Import Libraries\n",
    "import nltk\n",
    "import numpy as np\n",
    "import pandas as pd\n",
    "import seaborn as sns"
   ],
   "id": "b589d767563a6fe8",
   "outputs": [],
   "execution_count": 80
  },
  {
   "metadata": {},
   "cell_type": "code",
   "outputs": [],
   "execution_count": null,
   "source": "nltk.download('stopwords')",
   "id": "c3dd88c0ed2d3c28"
  },
  {
   "metadata": {},
   "cell_type": "markdown",
   "source": "### String",
   "id": "d329bd934b6cffd2"
  },
  {
   "metadata": {
    "ExecuteTime": {
     "end_time": "2024-05-12T14:18:45.503415Z",
     "start_time": "2024-05-12T14:18:45.498102Z"
    }
   },
   "cell_type": "code",
   "source": "text1 = \"Ethics are built right into the ideals and objectives of the United Nations \"",
   "id": "1f3232d37470a22a",
   "outputs": [],
   "execution_count": 2
  },
  {
   "metadata": {
    "ExecuteTime": {
     "end_time": "2024-05-12T14:19:19.918989Z",
     "start_time": "2024-05-12T14:19:19.916951Z"
    }
   },
   "cell_type": "code",
   "source": "# Return a list of the words",
   "id": "670dc455350d77f4",
   "outputs": [],
   "execution_count": 3
  },
  {
   "metadata": {
    "ExecuteTime": {
     "end_time": "2024-05-12T14:19:39.038005Z",
     "start_time": "2024-05-12T14:19:39.035228Z"
    }
   },
   "cell_type": "code",
   "source": "# Words that are greater than 3 letters long in a list",
   "id": "e3260721e1f690cf",
   "outputs": [],
   "execution_count": 4
  },
  {
   "metadata": {
    "ExecuteTime": {
     "end_time": "2024-05-12T14:19:58.914425Z",
     "start_time": "2024-05-12T14:19:58.912531Z"
    }
   },
   "cell_type": "code",
   "source": "# Capitalized words in text1",
   "id": "a2b4eb68b634d68a",
   "outputs": [],
   "execution_count": 5
  },
  {
   "metadata": {
    "ExecuteTime": {
     "end_time": "2024-05-12T14:20:17.415291Z",
     "start_time": "2024-05-12T14:20:17.413009Z"
    }
   },
   "cell_type": "code",
   "source": "# Words in text1 that end in 's'",
   "id": "bec70a674e7ee076",
   "outputs": [],
   "execution_count": 6
  },
  {
   "metadata": {
    "ExecuteTime": {
     "end_time": "2024-05-12T14:21:32.143718Z",
     "start_time": "2024-05-12T14:21:32.141291Z"
    }
   },
   "cell_type": "code",
   "source": "# converts text1 to lowercase.",
   "id": "ffddb843b5b47e88",
   "outputs": [],
   "execution_count": 7
  },
  {
   "metadata": {
    "ExecuteTime": {
     "end_time": "2024-05-12T14:21:55.777280Z",
     "start_time": "2024-05-12T14:21:55.774644Z"
    }
   },
   "cell_type": "code",
   "source": [
    "text2 = '\"Ethics are built right into the ideals and objectives of the United Nations\" \\\n",
    "#UNSG @ NY Society for Ethical Culture bit.ly/2guVelr'"
   ],
   "id": "3bb99d1218187b0f",
   "outputs": [],
   "execution_count": 8
  },
  {
   "metadata": {
    "ExecuteTime": {
     "end_time": "2024-05-12T14:22:10.874001Z",
     "start_time": "2024-05-12T14:22:10.871377Z"
    }
   },
   "cell_type": "code",
   "source": "# find hashtags in text2",
   "id": "3ce32e9f7c04b1c2",
   "outputs": [],
   "execution_count": 9
  },
  {
   "metadata": {
    "ExecuteTime": {
     "end_time": "2024-05-12T14:22:20.011412Z",
     "start_time": "2024-05-12T14:22:20.009501Z"
    }
   },
   "cell_type": "code",
   "source": "# find callouts in text2",
   "id": "53d7e8dd02427669",
   "outputs": [],
   "execution_count": 10
  },
  {
   "metadata": {
    "ExecuteTime": {
     "end_time": "2024-05-12T14:22:50.976198Z",
     "start_time": "2024-05-12T14:22:50.973424Z"
    }
   },
   "cell_type": "code",
   "source": [
    "text3 = '@UN @UN_Women \"Ethics are built right into the ideals and objectives of the United Nations\" \\\n",
    "#UNSG @ NY Society for Ethical Culture bit.ly/2guVelr'"
   ],
   "id": "927d296d86be7243",
   "outputs": [],
   "execution_count": 12
  },
  {
   "metadata": {},
   "cell_type": "code",
   "outputs": [],
   "execution_count": null,
   "source": "",
   "id": "b6a34b545710982e"
  },
  {
   "metadata": {},
   "cell_type": "markdown",
   "source": "### Regex",
   "id": "84c156bb679d2dac"
  },
  {
   "metadata": {},
   "cell_type": "markdown",
   "source": [
    "<br>\n",
    "\n",
    "We can use regular expressions to help us with more complex parsing. \n",
    "\n",
    "For example `'@[A-Za-z0-9_]+'` will return all words that: \n",
    "* start with `'@'` and are followed by at least one: \n",
    "* capital letter (`'A-Z'`)\n",
    "* lowercase letter (`'a-z'`) \n",
    "* number (`'0-9'`)\n",
    "* or underscore (`'_'`)"
   ],
   "id": "f5571ffc070911b2"
  },
  {
   "metadata": {
    "ExecuteTime": {
     "end_time": "2024-05-12T14:24:19.229196Z",
     "start_time": "2024-05-12T14:24:19.226225Z"
    }
   },
   "cell_type": "code",
   "source": [
    "import re\n",
    "[w for w in text3.split() if re.search('@[A-Za-z0-9_]+', w)]"
   ],
   "id": "424a4b0c09ce1de6",
   "outputs": [
    {
     "data": {
      "text/plain": [
       "['@UN', '@UN_Women']"
      ]
     },
     "execution_count": 14,
     "metadata": {},
     "output_type": "execute_result"
    }
   ],
   "execution_count": 14
  },
  {
   "metadata": {},
   "cell_type": "code",
   "outputs": [],
   "execution_count": null,
   "source": "",
   "id": "453a282732910da0"
  },
  {
   "metadata": {},
   "cell_type": "markdown",
   "source": "### Lists",
   "id": "f328096084bd67c3"
  },
  {
   "metadata": {
    "ExecuteTime": {
     "end_time": "2024-05-12T14:26:21.585087Z",
     "start_time": "2024-05-12T14:26:21.583254Z"
    }
   },
   "cell_type": "code",
   "source": "# list of words in text1",
   "id": "745b20d47bc40548",
   "outputs": [],
   "execution_count": 15
  },
  {
   "metadata": {
    "ExecuteTime": {
     "end_time": "2024-05-12T14:26:45.247091Z",
     "start_time": "2024-05-12T14:26:45.245492Z"
    }
   },
   "cell_type": "code",
   "source": "# filter list",
   "id": "3f3b4485c7ece5b1",
   "outputs": [],
   "execution_count": 16
  },
  {
   "metadata": {
    "ExecuteTime": {
     "end_time": "2024-05-12T14:26:57.563211Z",
     "start_time": "2024-05-12T14:26:57.561259Z"
    }
   },
   "cell_type": "code",
   "source": "# apply function to each element in the list",
   "id": "2c3f85663567b6d7",
   "outputs": [],
   "execution_count": 17
  },
  {
   "metadata": {
    "ExecuteTime": {
     "end_time": "2024-05-12T14:27:17.907255Z",
     "start_time": "2024-05-12T14:27:17.905593Z"
    }
   },
   "cell_type": "code",
   "source": "# convert list of words to single string",
   "id": "fec15f4ebf48b736",
   "outputs": [],
   "execution_count": 18
  },
  {
   "metadata": {},
   "cell_type": "code",
   "outputs": [],
   "execution_count": null,
   "source": "",
   "id": "ded5450f7de12ebd"
  },
  {
   "metadata": {},
   "cell_type": "markdown",
   "source": "### Files",
   "id": "137156ac8f9f7573"
  },
  {
   "metadata": {
    "ExecuteTime": {
     "end_time": "2024-05-12T14:28:25.717418Z",
     "start_time": "2024-05-12T14:28:25.715430Z"
    }
   },
   "cell_type": "code",
   "source": "# open a file",
   "id": "4ce5ea4bcdde78ec",
   "outputs": [],
   "execution_count": 19
  },
  {
   "metadata": {
    "ExecuteTime": {
     "end_time": "2024-05-12T14:28:34.708451Z",
     "start_time": "2024-05-12T14:28:34.706802Z"
    }
   },
   "cell_type": "code",
   "source": "# read single line",
   "id": "489a3d96735f31d6",
   "outputs": [],
   "execution_count": 20
  },
  {
   "metadata": {
    "ExecuteTime": {
     "end_time": "2024-05-12T14:28:38.629870Z",
     "start_time": "2024-05-12T14:28:38.627005Z"
    }
   },
   "cell_type": "code",
   "source": "# read all lines",
   "id": "8e79e32ea1e770aa",
   "outputs": [],
   "execution_count": 21
  },
  {
   "metadata": {
    "ExecuteTime": {
     "end_time": "2024-05-12T14:28:46.384128Z",
     "start_time": "2024-05-12T14:28:46.381954Z"
    }
   },
   "cell_type": "code",
   "source": "# write to a file",
   "id": "7bc0c45a645c3070",
   "outputs": [],
   "execution_count": 22
  },
  {
   "metadata": {
    "ExecuteTime": {
     "end_time": "2024-05-12T14:28:49.447471Z",
     "start_time": "2024-05-12T14:28:49.445146Z"
    }
   },
   "cell_type": "code",
   "source": "# append to a file",
   "id": "2ecb65c6c0e18afd",
   "outputs": [],
   "execution_count": 23
  },
  {
   "metadata": {
    "ExecuteTime": {
     "end_time": "2024-05-12T14:29:03.311738Z",
     "start_time": "2024-05-12T14:29:03.310050Z"
    }
   },
   "cell_type": "code",
   "source": "# close the file",
   "id": "689ab3110220271",
   "outputs": [],
   "execution_count": 25
  },
  {
   "metadata": {
    "ExecuteTime": {
     "end_time": "2024-05-12T14:28:54.048875Z",
     "start_time": "2024-05-12T14:28:54.047205Z"
    }
   },
   "cell_type": "code",
   "source": "",
   "id": "3e748aac77743553",
   "outputs": [],
   "execution_count": 24
  },
  {
   "metadata": {},
   "cell_type": "markdown",
   "source": "### Numpy",
   "id": "ea6936fa596ab00a"
  },
  {
   "metadata": {
    "ExecuteTime": {
     "end_time": "2024-05-12T14:40:41.890156Z",
     "start_time": "2024-05-12T14:40:41.888420Z"
    }
   },
   "cell_type": "code",
   "source": "# Numpy vs List",
   "id": "d743761c738d1f05",
   "outputs": [],
   "execution_count": 82
  },
  {
   "metadata": {
    "ExecuteTime": {
     "end_time": "2024-05-12T14:29:32.759196Z",
     "start_time": "2024-05-12T14:29:32.757381Z"
    }
   },
   "cell_type": "code",
   "source": "# create a numpy array",
   "id": "f43d1716c0681f4b",
   "outputs": [],
   "execution_count": 27
  },
  {
   "metadata": {
    "ExecuteTime": {
     "end_time": "2024-05-12T14:29:42.349789Z",
     "start_time": "2024-05-12T14:29:42.347953Z"
    }
   },
   "cell_type": "code",
   "source": "# slicing",
   "id": "d0ad47a318e87df9",
   "outputs": [],
   "execution_count": 28
  },
  {
   "metadata": {
    "ExecuteTime": {
     "end_time": "2024-05-12T14:29:44.086375Z",
     "start_time": "2024-05-12T14:29:44.084770Z"
    }
   },
   "cell_type": "code",
   "source": "# shape",
   "id": "e2f615b78232fe4f",
   "outputs": [],
   "execution_count": 29
  },
  {
   "metadata": {
    "ExecuteTime": {
     "end_time": "2024-05-12T14:29:46.450995Z",
     "start_time": "2024-05-12T14:29:46.449133Z"
    }
   },
   "cell_type": "code",
   "source": "# reshape",
   "id": "527694ba65b8ce06",
   "outputs": [],
   "execution_count": 30
  },
  {
   "metadata": {
    "ExecuteTime": {
     "end_time": "2024-05-12T14:29:59.118939Z",
     "start_time": "2024-05-12T14:29:59.117072Z"
    }
   },
   "cell_type": "code",
   "source": "# math operations",
   "id": "cc63bd622bbb258",
   "outputs": [],
   "execution_count": 31
  },
  {
   "metadata": {
    "ExecuteTime": {
     "end_time": "2024-05-12T14:40:20.052445Z",
     "start_time": "2024-05-12T14:40:20.050528Z"
    }
   },
   "cell_type": "code",
   "source": "# vectorized operations",
   "id": "862cbb4d07dec3aa",
   "outputs": [],
   "execution_count": 81
  },
  {
   "metadata": {},
   "cell_type": "markdown",
   "source": "### Pandas",
   "id": "b16d27d4a77bd97"
  },
  {
   "metadata": {
    "ExecuteTime": {
     "end_time": "2024-05-12T14:40:46.585183Z",
     "start_time": "2024-05-12T14:40:46.583937Z"
    }
   },
   "cell_type": "code",
   "source": "",
   "id": "e0cd5a2a66a84b9c",
   "outputs": [],
   "execution_count": 82
  },
  {
   "metadata": {
    "ExecuteTime": {
     "end_time": "2024-05-12T14:30:46.891518Z",
     "start_time": "2024-05-12T14:30:46.889799Z"
    }
   },
   "cell_type": "code",
   "source": "# create a dataframe",
   "id": "aad3d162f5c8cb34",
   "outputs": [],
   "execution_count": 33
  },
  {
   "metadata": {
    "ExecuteTime": {
     "end_time": "2024-05-12T14:30:49.198882Z",
     "start_time": "2024-05-12T14:30:49.197254Z"
    }
   },
   "cell_type": "code",
   "source": "# read a csv file",
   "id": "26c7bd9a0bdac2f",
   "outputs": [],
   "execution_count": 34
  },
  {
   "metadata": {
    "ExecuteTime": {
     "end_time": "2024-05-12T14:30:53.100463Z",
     "start_time": "2024-05-12T14:30:53.098653Z"
    }
   },
   "cell_type": "code",
   "source": "# head",
   "id": "bfe06282f41f47ed",
   "outputs": [],
   "execution_count": 35
  },
  {
   "metadata": {
    "ExecuteTime": {
     "end_time": "2024-05-12T14:30:54.961452Z",
     "start_time": "2024-05-12T14:30:54.959602Z"
    }
   },
   "cell_type": "code",
   "source": "# tail",
   "id": "30b390b2b19db3bd",
   "outputs": [],
   "execution_count": 36
  },
  {
   "metadata": {
    "ExecuteTime": {
     "end_time": "2024-05-12T14:30:57.359153Z",
     "start_time": "2024-05-12T14:30:57.357360Z"
    }
   },
   "cell_type": "code",
   "source": "# info",
   "id": "9867dec1fae55b6c",
   "outputs": [],
   "execution_count": 37
  },
  {
   "metadata": {
    "ExecuteTime": {
     "end_time": "2024-05-12T14:30:58.871778Z",
     "start_time": "2024-05-12T14:30:58.870070Z"
    }
   },
   "cell_type": "code",
   "source": "# describe",
   "id": "5149de49b6607b04",
   "outputs": [],
   "execution_count": 38
  },
  {
   "metadata": {
    "ExecuteTime": {
     "end_time": "2024-05-12T14:31:00.716148Z",
     "start_time": "2024-05-12T14:31:00.714576Z"
    }
   },
   "cell_type": "code",
   "source": "# shape",
   "id": "41c2253ae8d95920",
   "outputs": [],
   "execution_count": 39
  },
  {
   "metadata": {
    "ExecuteTime": {
     "end_time": "2024-05-12T14:31:02.292229Z",
     "start_time": "2024-05-12T14:31:02.290518Z"
    }
   },
   "cell_type": "code",
   "source": "# columns",
   "id": "102c830cae46b5a2",
   "outputs": [],
   "execution_count": 40
  },
  {
   "metadata": {
    "ExecuteTime": {
     "end_time": "2024-05-12T14:31:04.665403Z",
     "start_time": "2024-05-12T14:31:04.663632Z"
    }
   },
   "cell_type": "code",
   "source": "# indexing",
   "id": "91a690bbab93b57d",
   "outputs": [],
   "execution_count": 41
  },
  {
   "metadata": {
    "ExecuteTime": {
     "end_time": "2024-05-12T14:31:06.630359Z",
     "start_time": "2024-05-12T14:31:06.628757Z"
    }
   },
   "cell_type": "code",
   "source": "# filtering",
   "id": "79ccd19308d1db2b",
   "outputs": [],
   "execution_count": 42
  },
  {
   "metadata": {
    "ExecuteTime": {
     "end_time": "2024-05-12T14:31:08.236064Z",
     "start_time": "2024-05-12T14:31:08.234113Z"
    }
   },
   "cell_type": "code",
   "source": "# sorting",
   "id": "c5cecdbaf4add3e6",
   "outputs": [],
   "execution_count": 43
  },
  {
   "metadata": {
    "ExecuteTime": {
     "end_time": "2024-05-12T14:31:12.076971Z",
     "start_time": "2024-05-12T14:31:12.074889Z"
    }
   },
   "cell_type": "code",
   "source": "# missing values",
   "id": "6429a9fef3efb3a6",
   "outputs": [],
   "execution_count": 45
  },
  {
   "metadata": {
    "ExecuteTime": {
     "end_time": "2024-05-12T14:31:13.667059Z",
     "start_time": "2024-05-12T14:31:13.664911Z"
    }
   },
   "cell_type": "code",
   "source": "# drop columns",
   "id": "1592a5bcf1eb7b5f",
   "outputs": [],
   "execution_count": 46
  },
  {
   "metadata": {
    "ExecuteTime": {
     "end_time": "2024-05-12T14:31:16.161129Z",
     "start_time": "2024-05-12T14:31:16.159304Z"
    }
   },
   "cell_type": "code",
   "source": "# drop rows",
   "id": "b8692de6ea10cb52",
   "outputs": [],
   "execution_count": 47
  },
  {
   "metadata": {
    "ExecuteTime": {
     "end_time": "2024-05-12T14:31:18.149385Z",
     "start_time": "2024-05-12T14:31:18.147661Z"
    }
   },
   "cell_type": "code",
   "source": "# fill missing values",
   "id": "6a3babd7024888ca",
   "outputs": [],
   "execution_count": 48
  },
  {
   "metadata": {
    "ExecuteTime": {
     "end_time": "2024-05-12T14:31:19.771336Z",
     "start_time": "2024-05-12T14:31:19.769280Z"
    }
   },
   "cell_type": "code",
   "source": "# unique values",
   "id": "9c687d3cab559bee",
   "outputs": [],
   "execution_count": 49
  },
  {
   "metadata": {
    "ExecuteTime": {
     "end_time": "2024-05-12T14:31:21.815299Z",
     "start_time": "2024-05-12T14:31:21.813720Z"
    }
   },
   "cell_type": "code",
   "source": "# value counts",
   "id": "a29b6d2798406c2f",
   "outputs": [],
   "execution_count": 50
  },
  {
   "metadata": {
    "ExecuteTime": {
     "end_time": "2024-05-12T14:31:23.341576Z",
     "start_time": "2024-05-12T14:31:23.339867Z"
    }
   },
   "cell_type": "code",
   "source": "# apply function",
   "id": "5f8d9ef0f1d1b4e9",
   "outputs": [],
   "execution_count": 51
  },
  {
   "metadata": {
    "ExecuteTime": {
     "end_time": "2024-05-12T14:31:24.960111Z",
     "start_time": "2024-05-12T14:31:24.958323Z"
    }
   },
   "cell_type": "code",
   "source": "# apply-map function",
   "id": "ecb642f8379e06d9",
   "outputs": [],
   "execution_count": 52
  },
  {
   "metadata": {
    "ExecuteTime": {
     "end_time": "2024-05-12T14:31:27.261341Z",
     "start_time": "2024-05-12T14:31:27.259605Z"
    }
   },
   "cell_type": "code",
   "source": "",
   "id": "4c70fdc13138c408",
   "outputs": [],
   "execution_count": 52
  },
  {
   "metadata": {},
   "cell_type": "markdown",
   "source": "### Seaborn",
   "id": "d477ec51303112c6"
  },
  {
   "metadata": {
    "ExecuteTime": {
     "end_time": "2024-05-12T14:32:12.091168Z",
     "start_time": "2024-05-12T14:32:12.089476Z"
    }
   },
   "cell_type": "code",
   "source": "import seaborn as sns",
   "id": "5316c420f60e644d",
   "outputs": [],
   "execution_count": 53
  },
  {
   "metadata": {
    "ExecuteTime": {
     "end_time": "2024-05-12T14:32:15.726728Z",
     "start_time": "2024-05-12T14:32:15.725078Z"
    }
   },
   "cell_type": "code",
   "source": "# load dataset",
   "id": "8abf4fe5967a8008",
   "outputs": [],
   "execution_count": 54
  },
  {
   "metadata": {
    "ExecuteTime": {
     "end_time": "2024-05-12T14:32:22.673717Z",
     "start_time": "2024-05-12T14:32:22.671760Z"
    }
   },
   "cell_type": "code",
   "source": "# histogram",
   "id": "1ff84d9f7b02c836",
   "outputs": [],
   "execution_count": 55
  },
  {
   "metadata": {
    "ExecuteTime": {
     "end_time": "2024-05-12T14:32:24.794515Z",
     "start_time": "2024-05-12T14:32:24.792852Z"
    }
   },
   "cell_type": "code",
   "source": "# scatter plot",
   "id": "9f8bbff7b5652327",
   "outputs": [],
   "execution_count": 56
  },
  {
   "metadata": {
    "ExecuteTime": {
     "end_time": "2024-05-12T14:32:26.252543Z",
     "start_time": "2024-05-12T14:32:26.250850Z"
    }
   },
   "cell_type": "code",
   "source": "# box plot",
   "id": "387eb30a9442cf03",
   "outputs": [],
   "execution_count": 57
  },
  {
   "metadata": {
    "ExecuteTime": {
     "end_time": "2024-05-12T14:32:27.682078Z",
     "start_time": "2024-05-12T14:32:27.680147Z"
    }
   },
   "cell_type": "code",
   "source": "# pair plot",
   "id": "cdb9a6020b80ac98",
   "outputs": [],
   "execution_count": 58
  },
  {
   "metadata": {
    "ExecuteTime": {
     "end_time": "2024-05-12T14:32:29.314877Z",
     "start_time": "2024-05-12T14:32:29.313262Z"
    }
   },
   "cell_type": "code",
   "source": "# correlation",
   "id": "a587f164d02e521d",
   "outputs": [],
   "execution_count": 59
  },
  {
   "metadata": {
    "ExecuteTime": {
     "end_time": "2024-05-12T14:32:30.793115Z",
     "start_time": "2024-05-12T14:32:30.791297Z"
    }
   },
   "cell_type": "code",
   "source": "# heatmap",
   "id": "ee743d439e5c4a27",
   "outputs": [],
   "execution_count": 60
  },
  {
   "metadata": {
    "ExecuteTime": {
     "end_time": "2024-05-12T14:32:33.149581Z",
     "start_time": "2024-05-12T14:32:33.147732Z"
    }
   },
   "cell_type": "code",
   "source": "# bar plot",
   "id": "477511d67ea00d64",
   "outputs": [],
   "execution_count": 61
  },
  {
   "metadata": {
    "ExecuteTime": {
     "end_time": "2024-05-12T14:32:34.893478Z",
     "start_time": "2024-05-12T14:32:34.891628Z"
    }
   },
   "cell_type": "code",
   "source": "# line plot",
   "id": "f65e5d665e64d2fd",
   "outputs": [],
   "execution_count": 62
  },
  {
   "metadata": {
    "ExecuteTime": {
     "end_time": "2024-05-12T14:32:36.549465Z",
     "start_time": "2024-05-12T14:32:36.547670Z"
    }
   },
   "cell_type": "code",
   "source": "# violin plot",
   "id": "fbfd7ccaaddf0a2e",
   "outputs": [],
   "execution_count": 63
  },
  {
   "metadata": {
    "ExecuteTime": {
     "end_time": "2024-05-12T14:32:38.630834Z",
     "start_time": "2024-05-12T14:32:38.629145Z"
    }
   },
   "cell_type": "code",
   "source": "# joint plot",
   "id": "fc1b726e07266a32",
   "outputs": [],
   "execution_count": 64
  },
  {
   "metadata": {
    "ExecuteTime": {
     "end_time": "2024-05-12T14:32:40.057420Z",
     "start_time": "2024-05-12T14:32:40.055401Z"
    }
   },
   "cell_type": "code",
   "source": "# cat plot",
   "id": "7d861d30288f1df0",
   "outputs": [],
   "execution_count": 65
  },
  {
   "metadata": {
    "ExecuteTime": {
     "end_time": "2024-05-12T14:32:42.013820Z",
     "start_time": "2024-05-12T14:32:42.011903Z"
    }
   },
   "cell_type": "code",
   "source": "# lm plot",
   "id": "260c944dc40843ba",
   "outputs": [],
   "execution_count": 66
  },
  {
   "metadata": {
    "ExecuteTime": {
     "end_time": "2024-05-12T14:32:45.858251Z",
     "start_time": "2024-05-12T14:32:45.856586Z"
    }
   },
   "cell_type": "code",
   "source": "# kde plot",
   "id": "a0ed6ccdf8b728c3",
   "outputs": [],
   "execution_count": 67
  },
  {
   "metadata": {
    "ExecuteTime": {
     "end_time": "2024-05-12T14:32:48.492491Z",
     "start_time": "2024-05-12T14:32:48.491070Z"
    }
   },
   "cell_type": "code",
   "source": "",
   "id": "c88b2218616f97bf",
   "outputs": [],
   "execution_count": 67
  },
  {
   "metadata": {},
   "cell_type": "markdown",
   "source": "### EDA (Exploratory Data Analysis)",
   "id": "f2a6144386ae7c36"
  },
  {
   "metadata": {
    "ExecuteTime": {
     "end_time": "2024-05-12T14:33:24.968255Z",
     "start_time": "2024-05-12T14:33:24.966531Z"
    }
   },
   "cell_type": "code",
   "source": "# load dataset",
   "id": "56963bb408c7c080",
   "outputs": [],
   "execution_count": 68
  },
  {
   "metadata": {
    "ExecuteTime": {
     "end_time": "2024-05-12T14:33:26.444371Z",
     "start_time": "2024-05-12T14:33:26.442588Z"
    }
   },
   "cell_type": "code",
   "source": "# head",
   "id": "94bb42f873bc1142",
   "outputs": [],
   "execution_count": 69
  },
  {
   "metadata": {
    "ExecuteTime": {
     "end_time": "2024-05-12T14:33:27.735136Z",
     "start_time": "2024-05-12T14:33:27.733334Z"
    }
   },
   "cell_type": "code",
   "source": "# info",
   "id": "4f6a2e764c4a27bf",
   "outputs": [],
   "execution_count": 70
  },
  {
   "metadata": {
    "ExecuteTime": {
     "end_time": "2024-05-12T14:33:29.184641Z",
     "start_time": "2024-05-12T14:33:29.182909Z"
    }
   },
   "cell_type": "code",
   "source": "# describe",
   "id": "7a33bd8420bbeaf4",
   "outputs": [],
   "execution_count": 71
  },
  {
   "metadata": {
    "ExecuteTime": {
     "end_time": "2024-05-12T14:33:30.806400Z",
     "start_time": "2024-05-12T14:33:30.804566Z"
    }
   },
   "cell_type": "code",
   "source": "# shape",
   "id": "a7d579edbb04bf93",
   "outputs": [],
   "execution_count": 72
  },
  {
   "metadata": {
    "ExecuteTime": {
     "end_time": "2024-05-12T14:33:32.114009Z",
     "start_time": "2024-05-12T14:33:32.112309Z"
    }
   },
   "cell_type": "code",
   "source": "# columns",
   "id": "6af100a67d93fa1f",
   "outputs": [],
   "execution_count": 73
  },
  {
   "metadata": {
    "ExecuteTime": {
     "end_time": "2024-05-12T14:33:49.201540Z",
     "start_time": "2024-05-12T14:33:49.199795Z"
    }
   },
   "cell_type": "code",
   "source": "# check missing values",
   "id": "598c90008cbf9d2e",
   "outputs": [],
   "execution_count": 74
  },
  {
   "metadata": {
    "ExecuteTime": {
     "end_time": "2024-05-12T14:35:04.815374Z",
     "start_time": "2024-05-12T14:35:04.813516Z"
    }
   },
   "cell_type": "code",
   "source": "# remove missing values",
   "id": "4cffecf179e187e3",
   "outputs": [],
   "execution_count": 78
  },
  {
   "metadata": {
    "ExecuteTime": {
     "end_time": "2024-05-12T14:34:12.818222Z",
     "start_time": "2024-05-12T14:34:12.816652Z"
    }
   },
   "cell_type": "code",
   "source": "# check distribution of variables",
   "id": "8023200a06804893",
   "outputs": [],
   "execution_count": 75
  },
  {
   "metadata": {
    "ExecuteTime": {
     "end_time": "2024-05-12T14:35:18.679456Z",
     "start_time": "2024-05-12T14:35:18.677492Z"
    }
   },
   "cell_type": "code",
   "source": "# drop unwanted columns",
   "id": "8fb282494efcce93",
   "outputs": [],
   "execution_count": 79
  },
  {
   "metadata": {
    "ExecuteTime": {
     "end_time": "2024-05-12T14:34:15.550102Z",
     "start_time": "2024-05-12T14:34:15.548349Z"
    }
   },
   "cell_type": "code",
   "source": "# check correlation",
   "id": "f5d36aa2a392969c",
   "outputs": [],
   "execution_count": 76
  },
  {
   "metadata": {
    "ExecuteTime": {
     "end_time": "2024-05-12T14:34:18.211102Z",
     "start_time": "2024-05-12T14:34:18.209340Z"
    }
   },
   "cell_type": "code",
   "source": "# check outliers",
   "id": "300ecd4434483566",
   "outputs": [],
   "execution_count": 77
  },
  {
   "metadata": {},
   "cell_type": "code",
   "outputs": [],
   "execution_count": null,
   "source": "",
   "id": "c5d51f323f68138f"
  }
 ],
 "metadata": {
  "kernelspec": {
   "display_name": "Python 3",
   "language": "python",
   "name": "python3"
  },
  "language_info": {
   "codemirror_mode": {
    "name": "ipython",
    "version": 2
   },
   "file_extension": ".py",
   "mimetype": "text/x-python",
   "name": "python",
   "nbconvert_exporter": "python",
   "pygments_lexer": "ipython2",
   "version": "2.7.6"
  }
 },
 "nbformat": 4,
 "nbformat_minor": 5
}
