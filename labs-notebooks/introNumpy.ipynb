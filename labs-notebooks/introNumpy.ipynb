{
 "cells": [
  {
   "metadata": {},
   "cell_type": "markdown",
   "source": [
    "# Numpy\n",
    "\n",
    "Numpy is a library for the Python programming language, adding support for large, multi-dimensional arrays and matrices, along with a large collection of high-level mathematical functions to operate on these arrays.\n",
    "\n",
    "Topics Array:\n",
    "1. Creation\n",
    "   * Zeros\n",
    "   * Ones\n",
    "   * Empty \n",
    "   * Full\n",
    "2. Indexing & Slicing \n",
    "3. Reshaping\n",
    "4. Splitting\n",
    "\n",
    "Mathematical Operations:\n",
    "1. Basic Operations\n",
    "2. Dot Product\n",
    "3. Sum\n",
    "4. Min\n",
    "5. Max\n",
    "6. Mean\n",
    "7. Standard Deviation\n",
    "8. Subtract\n",
    "9. Add\n",
    "10. Multiply\n",
    "11. Divide\n",
    "\n",
    "Special Functions:\n",
    "1. argmax\n",
    "2. argmin\n",
    "3. flatten\n",
    "4. transpose\n",
    "\n",
    "Copies and views\n"
   ],
   "id": "4cb64d4ec2a283e7"
  },
  {
   "metadata": {
    "ExecuteTime": {
     "end_time": "2024-05-31T09:00:42.788471Z",
     "start_time": "2024-05-31T09:00:42.786795Z"
    }
   },
   "cell_type": "code",
   "source": "import numpy as np",
   "id": "6831b27712ec8ef4",
   "outputs": [],
   "execution_count": 4
  },
  {
   "metadata": {},
   "cell_type": "markdown",
   "source": "## Array Creation",
   "id": "13d8556e47a8a472"
  },
  {
   "metadata": {
    "ExecuteTime": {
     "end_time": "2024-05-30T12:35:22.252641Z",
     "start_time": "2024-05-30T12:35:22.248952Z"
    }
   },
   "cell_type": "code",
   "source": [
    "# Create an array from a list\n",
    "a = np.array([1, 2, 3])\n",
    "a"
   ],
   "id": "b0e4dbf957f262ef",
   "outputs": [
    {
     "data": {
      "text/plain": [
       "array([1, 2, 3])"
      ]
     },
     "execution_count": 16,
     "metadata": {},
     "output_type": "execute_result"
    }
   ],
   "execution_count": 16
  },
  {
   "metadata": {
    "ExecuteTime": {
     "end_time": "2024-05-30T12:33:59.210267Z",
     "start_time": "2024-05-30T12:33:59.208395Z"
    }
   },
   "cell_type": "code",
   "source": [
    "# Create a 2D array from a list of lists\n",
    "b = np.array([[1, 2, 3], [4, 5, 6]])"
   ],
   "id": "3222de52ec92a8ce",
   "outputs": [],
   "execution_count": 3
  },
  {
   "metadata": {
    "ExecuteTime": {
     "end_time": "2024-05-30T12:34:02.835655Z",
     "start_time": "2024-05-30T12:34:02.833615Z"
    }
   },
   "cell_type": "code",
   "source": [
    "# Create a 3D array from a list of lists\n",
    "c = np.array([[[1, 2, 3], [4, 5, 6]], [[7, 8, 9], [10, 11, 12]]])"
   ],
   "id": "47d09c29ad4e6978",
   "outputs": [],
   "execution_count": 4
  },
  {
   "metadata": {
    "ExecuteTime": {
     "end_time": "2024-05-30T12:34:06.116059Z",
     "start_time": "2024-05-30T12:34:06.113642Z"
    }
   },
   "cell_type": "code",
   "source": [
    "# Create an array of zeros\n",
    "d = np.zeros((2, 3))"
   ],
   "id": "b0ec6bd869600b12",
   "outputs": [],
   "execution_count": 5
  },
  {
   "metadata": {
    "ExecuteTime": {
     "end_time": "2024-05-30T12:34:09.344551Z",
     "start_time": "2024-05-30T12:34:09.342933Z"
    }
   },
   "cell_type": "code",
   "source": [
    "# Create an array of ones\n",
    "e = np.ones((2, 3))"
   ],
   "id": "f4ad8ad115475c0a",
   "outputs": [],
   "execution_count": 6
  },
  {
   "metadata": {
    "ExecuteTime": {
     "end_time": "2024-05-30T12:34:12.818126Z",
     "start_time": "2024-05-30T12:34:12.815502Z"
    }
   },
   "cell_type": "code",
   "source": [
    "# Create an array of random values\n",
    "f = np.random.random((2, 3))"
   ],
   "id": "c4a5287e7b74fa84",
   "outputs": [],
   "execution_count": 7
  },
  {
   "metadata": {
    "ExecuteTime": {
     "end_time": "2024-05-30T12:34:18.664602Z",
     "start_time": "2024-05-30T12:34:18.662456Z"
    }
   },
   "cell_type": "code",
   "source": [
    "# Create an array of evenly spaced values\n",
    "g = np.arange(10)"
   ],
   "id": "36593526b962c2aa",
   "outputs": [],
   "execution_count": 8
  },
  {
   "metadata": {
    "ExecuteTime": {
     "end_time": "2024-05-30T12:34:22.211989Z",
     "start_time": "2024-05-30T12:34:22.210008Z"
    }
   },
   "cell_type": "code",
   "source": [
    "# Create an array of evenly spaced values\n",
    "h = np.linspace(0, 1, 6)"
   ],
   "id": "4e95b0a3f1c859b7",
   "outputs": [],
   "execution_count": 9
  },
  {
   "metadata": {
    "ExecuteTime": {
     "end_time": "2024-05-30T12:34:27.622837Z",
     "start_time": "2024-05-30T12:34:27.619346Z"
    }
   },
   "cell_type": "code",
   "source": [
    "# Create an array of random integers\n",
    "i = np.random.randint(0, 10, (2, 3))"
   ],
   "id": "2a88a6aec8829c4b",
   "outputs": [],
   "execution_count": 10
  },
  {
   "metadata": {
    "ExecuteTime": {
     "end_time": "2024-05-30T12:34:31.746198Z",
     "start_time": "2024-05-30T12:34:31.743665Z"
    }
   },
   "cell_type": "code",
   "source": [
    "# Create an identity matrix\n",
    "j = np.eye(3)"
   ],
   "id": "f9f94401e86cd18f",
   "outputs": [],
   "execution_count": 11
  },
  {
   "metadata": {
    "ExecuteTime": {
     "end_time": "2024-05-30T12:34:38.351848Z",
     "start_time": "2024-05-30T12:34:38.349786Z"
    }
   },
   "cell_type": "code",
   "source": [
    "# Create an array of uninitialized values\n",
    "k = np.empty(3)"
   ],
   "id": "7bf80527726e7217",
   "outputs": [],
   "execution_count": 12
  },
  {
   "metadata": {
    "ExecuteTime": {
     "end_time": "2024-05-30T12:34:44.079552Z",
     "start_time": "2024-05-30T12:34:44.077150Z"
    }
   },
   "cell_type": "code",
   "source": [
    "# Create an array of uninitialized values\n",
    "l = np.full((2, 3), 7)"
   ],
   "id": "8a371f84362fced4",
   "outputs": [],
   "execution_count": 13
  },
  {
   "metadata": {
    "ExecuteTime": {
     "end_time": "2024-05-30T12:34:49.299966Z",
     "start_time": "2024-05-30T12:34:49.297766Z"
    }
   },
   "cell_type": "code",
   "source": [
    "# Create an array of uninitialized values\n",
    "m = np.empty((2, 3))"
   ],
   "id": "495f8d07b365555d",
   "outputs": [],
   "execution_count": 14
  },
  {
   "metadata": {},
   "cell_type": "markdown",
   "source": "## Array Indexing",
   "id": "e4482fe7e8268ab2"
  },
  {
   "metadata": {
    "ExecuteTime": {
     "end_time": "2024-05-30T12:35:28.392175Z",
     "start_time": "2024-05-30T12:35:28.388593Z"
    }
   },
   "cell_type": "code",
   "source": [
    "# Get a single element\n",
    "a[0]"
   ],
   "id": "492fe4fcf451f2d",
   "outputs": [
    {
     "data": {
      "text/plain": [
       "1"
      ]
     },
     "execution_count": 17,
     "metadata": {},
     "output_type": "execute_result"
    }
   ],
   "execution_count": 17
  },
  {
   "metadata": {
    "ExecuteTime": {
     "end_time": "2024-05-30T12:35:36.233832Z",
     "start_time": "2024-05-30T12:35:36.230672Z"
    }
   },
   "cell_type": "code",
   "source": [
    "# Get a single element\n",
    "b[0, 0]"
   ],
   "id": "673c0156835cba0e",
   "outputs": [
    {
     "data": {
      "text/plain": [
       "1"
      ]
     },
     "execution_count": 18,
     "metadata": {},
     "output_type": "execute_result"
    }
   ],
   "execution_count": 18
  },
  {
   "metadata": {
    "ExecuteTime": {
     "end_time": "2024-05-30T12:35:43.858996Z",
     "start_time": "2024-05-30T12:35:43.856831Z"
    }
   },
   "cell_type": "code",
   "source": [
    "# Get a row\n",
    "b[0]"
   ],
   "id": "6857ed7541b657c9",
   "outputs": [
    {
     "data": {
      "text/plain": [
       "array([1, 2, 3])"
      ]
     },
     "execution_count": 20,
     "metadata": {},
     "output_type": "execute_result"
    }
   ],
   "execution_count": 20
  },
  {
   "metadata": {
    "ExecuteTime": {
     "end_time": "2024-05-30T12:35:52.416159Z",
     "start_time": "2024-05-30T12:35:52.414033Z"
    }
   },
   "cell_type": "code",
   "source": [
    "# Get a column\n",
    "b[:, 0]"
   ],
   "id": "45a75ffa3cd82604",
   "outputs": [
    {
     "data": {
      "text/plain": [
       "array([1, 4])"
      ]
     },
     "execution_count": 21,
     "metadata": {},
     "output_type": "execute_result"
    }
   ],
   "execution_count": 21
  },
  {
   "metadata": {
    "ExecuteTime": {
     "end_time": "2024-05-30T12:35:56.506925Z",
     "start_time": "2024-05-30T12:35:56.503471Z"
    }
   },
   "cell_type": "code",
   "source": [
    "# Get a subarray\n",
    "b[:2, :2]"
   ],
   "id": "806d1286c783e3d1",
   "outputs": [
    {
     "data": {
      "text/plain": [
       "array([[1, 2],\n",
       "       [4, 5]])"
      ]
     },
     "execution_count": 22,
     "metadata": {},
     "output_type": "execute_result"
    }
   ],
   "execution_count": 22
  },
  {
   "metadata": {
    "ExecuteTime": {
     "end_time": "2024-05-30T12:36:01.439862Z",
     "start_time": "2024-05-30T12:36:01.437252Z"
    }
   },
   "cell_type": "code",
   "source": [
    "# Get a subarray\n",
    "b[0, 1:]"
   ],
   "id": "bc99064d3ff80bc0",
   "outputs": [
    {
     "data": {
      "text/plain": [
       "array([2, 3])"
      ]
     },
     "execution_count": 23,
     "metadata": {},
     "output_type": "execute_result"
    }
   ],
   "execution_count": 23
  },
  {
   "metadata": {
    "ExecuteTime": {
     "end_time": "2024-05-30T12:36:05.442497Z",
     "start_time": "2024-05-30T12:36:05.440460Z"
    }
   },
   "cell_type": "code",
   "source": [
    "# Get a subarray\n",
    "b[0, 1:]"
   ],
   "id": "f79a33d2d1fd2538",
   "outputs": [
    {
     "data": {
      "text/plain": [
       "array([2, 3])"
      ]
     },
     "execution_count": 24,
     "metadata": {},
     "output_type": "execute_result"
    }
   ],
   "execution_count": 24
  },
  {
   "metadata": {},
   "cell_type": "markdown",
   "source": "## Array Slicing",
   "id": "1d16739c82857c79"
  },
  {
   "metadata": {
    "ExecuteTime": {
     "end_time": "2024-05-30T12:36:36.105601Z",
     "start_time": "2024-05-30T12:36:36.103866Z"
    }
   },
   "cell_type": "code",
   "source": [
    "# Create an array\n",
    "a = np.array([[1, 2, 3, 4], [5, 6, 7, 8], [9, 10, 11, 12]])"
   ],
   "id": "ffac65467e9cc37a",
   "outputs": [],
   "execution_count": 25
  },
  {
   "metadata": {
    "ExecuteTime": {
     "end_time": "2024-05-30T12:36:45.142813Z",
     "start_time": "2024-05-30T12:36:45.140984Z"
    }
   },
   "cell_type": "code",
   "source": [
    "# Get the first two rows and the first three columns\n",
    "b = a[:2, :3]"
   ],
   "id": "ed3d71f926b4ab0b",
   "outputs": [],
   "execution_count": 26
  },
  {
   "metadata": {
    "ExecuteTime": {
     "end_time": "2024-05-30T12:36:48.878330Z",
     "start_time": "2024-05-30T12:36:48.876468Z"
    }
   },
   "cell_type": "code",
   "source": [
    "# Get the first two rows and the first three columns\n",
    "c = a[:2, :3]"
   ],
   "id": "dbdf224307123d69",
   "outputs": [],
   "execution_count": 27
  },
  {
   "metadata": {
    "ExecuteTime": {
     "end_time": "2024-05-30T12:36:53.032523Z",
     "start_time": "2024-05-30T12:36:53.030739Z"
    }
   },
   "cell_type": "code",
   "source": [
    "# Get the first two rows and the first three columns\n",
    "d = a[:2, :3]"
   ],
   "id": "c32448692d4b0487",
   "outputs": [],
   "execution_count": 28
  },
  {
   "metadata": {},
   "cell_type": "code",
   "outputs": [],
   "execution_count": null,
   "source": "# Get the first two rows and the first three columns",
   "id": "93cc1cb843e7367a"
  },
  {
   "metadata": {},
   "cell_type": "markdown",
   "source": "## Array Reshaping",
   "id": "cc6b077f25399f"
  },
  {
   "metadata": {
    "ExecuteTime": {
     "end_time": "2024-05-30T12:38:01.457639Z",
     "start_time": "2024-05-30T12:38:01.455191Z"
    }
   },
   "cell_type": "code",
   "source": [
    "# Create an array\n",
    "a = np.array([[1, 2, 3], [4, 5, 6]])\n",
    "a"
   ],
   "id": "3c0f277b21a48e60",
   "outputs": [
    {
     "data": {
      "text/plain": [
       "array([[1, 2, 3],\n",
       "       [4, 5, 6]])"
      ]
     },
     "execution_count": 34,
     "metadata": {},
     "output_type": "execute_result"
    }
   ],
   "execution_count": 34
  },
  {
   "metadata": {
    "ExecuteTime": {
     "end_time": "2024-05-30T12:37:13.440349Z",
     "start_time": "2024-05-30T12:37:13.438058Z"
    }
   },
   "cell_type": "code",
   "source": [
    "# Get the shape of an array\n",
    "a.shape"
   ],
   "id": "e517e3f17bc5bc3b",
   "outputs": [
    {
     "data": {
      "text/plain": [
       "(2, 3)"
      ]
     },
     "execution_count": 30,
     "metadata": {},
     "output_type": "execute_result"
    }
   ],
   "execution_count": 30
  },
  {
   "metadata": {
    "ExecuteTime": {
     "end_time": "2024-05-30T12:37:58.271278Z",
     "start_time": "2024-05-30T12:37:58.268056Z"
    }
   },
   "cell_type": "code",
   "source": [
    "# Reshape an array\n",
    "b = a.reshape((3, 2))\n",
    "b"
   ],
   "id": "35d5c3d418672c4c",
   "outputs": [
    {
     "data": {
      "text/plain": [
       "array([[1, 2],\n",
       "       [3, 4],\n",
       "       [5, 6]])"
      ]
     },
     "execution_count": 33,
     "metadata": {},
     "output_type": "execute_result"
    }
   ],
   "execution_count": 33
  },
  {
   "metadata": {
    "ExecuteTime": {
     "end_time": "2024-05-30T12:38:22.076485Z",
     "start_time": "2024-05-30T12:38:22.075159Z"
    }
   },
   "cell_type": "code",
   "source": "",
   "id": "904918c9c73aa6df",
   "outputs": [],
   "execution_count": 35
  },
  {
   "metadata": {
    "ExecuteTime": {
     "end_time": "2024-05-30T12:38:19.924984Z",
     "start_time": "2024-05-30T12:38:19.923475Z"
    }
   },
   "cell_type": "code",
   "source": "",
   "id": "6d48331ae49d3bca",
   "outputs": [],
   "execution_count": 35
  },
  {
   "metadata": {},
   "cell_type": "markdown",
   "source": "## Array Splitting",
   "id": "ce6d0e219c3a05d2"
  },
  {
   "metadata": {
    "ExecuteTime": {
     "end_time": "2024-05-30T12:39:38.771416Z",
     "start_time": "2024-05-30T12:39:38.769651Z"
    }
   },
   "cell_type": "code",
   "source": [
    "# Create an array\n",
    "a = np.array([[1, 2, 3],\n",
    "              [4, 5, 6],\n",
    "              [7, 8, 9]])"
   ],
   "id": "c4f3adda50478f12",
   "outputs": [],
   "execution_count": 41
  },
  {
   "metadata": {
    "ExecuteTime": {
     "end_time": "2024-05-30T12:39:39.104572Z",
     "start_time": "2024-05-30T12:39:39.102003Z"
    }
   },
   "cell_type": "code",
   "source": [
    "# Split an array horizontally\n",
    "b, c = np.hsplit(a, [2])\n",
    "b,c"
   ],
   "id": "bc2a9ddeb8d3ff6b",
   "outputs": [
    {
     "data": {
      "text/plain": [
       "(array([[1, 2],\n",
       "        [4, 5],\n",
       "        [7, 8]]),\n",
       " array([[3],\n",
       "        [6],\n",
       "        [9]]))"
      ]
     },
     "execution_count": 42,
     "metadata": {},
     "output_type": "execute_result"
    }
   ],
   "execution_count": 42
  },
  {
   "metadata": {
    "ExecuteTime": {
     "end_time": "2024-05-30T12:39:46.827689Z",
     "start_time": "2024-05-30T12:39:46.825198Z"
    }
   },
   "cell_type": "code",
   "source": [
    "# Split an array vertically\n",
    "d, e = np.vsplit(a, [2])\n",
    "d, e"
   ],
   "id": "3cd4f047987f0c05",
   "outputs": [
    {
     "data": {
      "text/plain": [
       "(array([[1, 2, 3],\n",
       "        [4, 5, 6]]),\n",
       " array([[7, 8, 9]]))"
      ]
     },
     "execution_count": 43,
     "metadata": {},
     "output_type": "execute_result"
    }
   ],
   "execution_count": 43
  },
  {
   "metadata": {
    "ExecuteTime": {
     "end_time": "2024-05-30T12:38:52.268843Z",
     "start_time": "2024-05-30T12:38:52.267494Z"
    }
   },
   "cell_type": "code",
   "source": "",
   "id": "5b5bfe4240c60d82",
   "outputs": [],
   "execution_count": 38
  },
  {
   "metadata": {},
   "cell_type": "markdown",
   "source": "## Mathematical Operations",
   "id": "e826a509fb500a4f"
  },
  {
   "metadata": {
    "ExecuteTime": {
     "end_time": "2024-05-30T12:40:24.609735Z",
     "start_time": "2024-05-30T12:40:24.607135Z"
    }
   },
   "cell_type": "code",
   "source": [
    "# Create an array\n",
    "a = np.array([[1, 2], [3, 4]])\n",
    "a"
   ],
   "id": "a0fdb8da69dd6c01",
   "outputs": [
    {
     "data": {
      "text/plain": [
       "array([[1, 2],\n",
       "       [3, 4]])"
      ]
     },
     "execution_count": 45,
     "metadata": {},
     "output_type": "execute_result"
    }
   ],
   "execution_count": 45
  },
  {
   "metadata": {
    "ExecuteTime": {
     "end_time": "2024-05-30T12:40:34.437442Z",
     "start_time": "2024-05-30T12:40:34.435160Z"
    }
   },
   "cell_type": "code",
   "source": [
    "# Add two arrays\n",
    "b = np.array([[5, 6], [7, 8]])\n",
    "a + b"
   ],
   "id": "77b3fccacd5863da",
   "outputs": [
    {
     "data": {
      "text/plain": [
       "array([[ 6,  8],\n",
       "       [10, 12]])"
      ]
     },
     "execution_count": 46,
     "metadata": {},
     "output_type": "execute_result"
    }
   ],
   "execution_count": 46
  },
  {
   "metadata": {
    "ExecuteTime": {
     "end_time": "2024-05-30T12:40:38.606091Z",
     "start_time": "2024-05-30T12:40:38.603848Z"
    }
   },
   "cell_type": "code",
   "source": [
    "# Subtract two arrays\n",
    "a - b"
   ],
   "id": "90168fc1e3ffefa0",
   "outputs": [
    {
     "data": {
      "text/plain": [
       "array([[-4, -4],\n",
       "       [-4, -4]])"
      ]
     },
     "execution_count": 47,
     "metadata": {},
     "output_type": "execute_result"
    }
   ],
   "execution_count": 47
  },
  {
   "metadata": {
    "ExecuteTime": {
     "end_time": "2024-05-30T12:40:44.243868Z",
     "start_time": "2024-05-30T12:40:44.240977Z"
    }
   },
   "cell_type": "code",
   "source": [
    "# Multiply two arrays\n",
    "a * b"
   ],
   "id": "177e210210d4c920",
   "outputs": [
    {
     "data": {
      "text/plain": [
       "array([[ 5, 12],\n",
       "       [21, 32]])"
      ]
     },
     "execution_count": 48,
     "metadata": {},
     "output_type": "execute_result"
    }
   ],
   "execution_count": 48
  },
  {
   "metadata": {
    "ExecuteTime": {
     "end_time": "2024-05-30T12:40:47.383639Z",
     "start_time": "2024-05-30T12:40:47.380952Z"
    }
   },
   "cell_type": "code",
   "source": [
    "# Divide two arrays\n",
    "a / b"
   ],
   "id": "1586f5af868a2dd4",
   "outputs": [
    {
     "data": {
      "text/plain": [
       "array([[0.2       , 0.33333333],\n",
       "       [0.42857143, 0.5       ]])"
      ]
     },
     "execution_count": 49,
     "metadata": {},
     "output_type": "execute_result"
    }
   ],
   "execution_count": 49
  },
  {
   "metadata": {
    "ExecuteTime": {
     "end_time": "2024-05-30T12:40:51.714517Z",
     "start_time": "2024-05-30T12:40:51.711932Z"
    }
   },
   "cell_type": "code",
   "source": [
    "# Square root of an array\n",
    "np.sqrt(a)"
   ],
   "id": "c97de64ef4d1977d",
   "outputs": [
    {
     "data": {
      "text/plain": [
       "array([[1.        , 1.41421356],\n",
       "       [1.73205081, 2.        ]])"
      ]
     },
     "execution_count": 50,
     "metadata": {},
     "output_type": "execute_result"
    }
   ],
   "execution_count": 50
  },
  {
   "metadata": {
    "ExecuteTime": {
     "end_time": "2024-05-30T12:40:55.349609Z",
     "start_time": "2024-05-30T12:40:55.346923Z"
    }
   },
   "cell_type": "code",
   "source": [
    "# Exponential of an array\n",
    "np.exp(a)"
   ],
   "id": "ff89c3f83fb868cd",
   "outputs": [
    {
     "data": {
      "text/plain": [
       "array([[ 2.71828183,  7.3890561 ],\n",
       "       [20.08553692, 54.59815003]])"
      ]
     },
     "execution_count": 51,
     "metadata": {},
     "output_type": "execute_result"
    }
   ],
   "execution_count": 51
  },
  {
   "metadata": {
    "ExecuteTime": {
     "end_time": "2024-05-30T12:40:59.182365Z",
     "start_time": "2024-05-30T12:40:59.180074Z"
    }
   },
   "cell_type": "code",
   "source": [
    "# Dot product of two arrays\n",
    "np.dot(a, b)"
   ],
   "id": "47d4c2b68617eab9",
   "outputs": [
    {
     "data": {
      "text/plain": [
       "array([[19, 22],\n",
       "       [43, 50]])"
      ]
     },
     "execution_count": 52,
     "metadata": {},
     "output_type": "execute_result"
    }
   ],
   "execution_count": 52
  },
  {
   "metadata": {
    "ExecuteTime": {
     "end_time": "2024-05-30T12:41:02.300684Z",
     "start_time": "2024-05-30T12:41:02.298388Z"
    }
   },
   "cell_type": "code",
   "source": [
    "# Sum of all elements in an array\n",
    "a.sum()"
   ],
   "id": "49dc5ea2a9a31010",
   "outputs": [
    {
     "data": {
      "text/plain": [
       "10"
      ]
     },
     "execution_count": 53,
     "metadata": {},
     "output_type": "execute_result"
    }
   ],
   "execution_count": 53
  },
  {
   "metadata": {
    "ExecuteTime": {
     "end_time": "2024-05-30T12:41:05.567802Z",
     "start_time": "2024-05-30T12:41:05.565525Z"
    }
   },
   "cell_type": "code",
   "source": [
    "# Minimum value in an array\n",
    "a.min()"
   ],
   "id": "f76e9b6811086602",
   "outputs": [
    {
     "data": {
      "text/plain": [
       "1"
      ]
     },
     "execution_count": 54,
     "metadata": {},
     "output_type": "execute_result"
    }
   ],
   "execution_count": 54
  },
  {
   "metadata": {
    "ExecuteTime": {
     "end_time": "2024-05-30T12:41:08.534139Z",
     "start_time": "2024-05-30T12:41:08.531901Z"
    }
   },
   "cell_type": "code",
   "source": [
    "# Maximum value in an array\n",
    "a.max()"
   ],
   "id": "246d6febd07d8cfc",
   "outputs": [
    {
     "data": {
      "text/plain": [
       "4"
      ]
     },
     "execution_count": 55,
     "metadata": {},
     "output_type": "execute_result"
    }
   ],
   "execution_count": 55
  },
  {
   "metadata": {
    "ExecuteTime": {
     "end_time": "2024-05-30T12:41:11.752301Z",
     "start_time": "2024-05-30T12:41:11.749931Z"
    }
   },
   "cell_type": "code",
   "source": [
    "# Mean of all elements in an array\n",
    "a.mean()"
   ],
   "id": "4d797422760af33d",
   "outputs": [
    {
     "data": {
      "text/plain": [
       "2.5"
      ]
     },
     "execution_count": 56,
     "metadata": {},
     "output_type": "execute_result"
    }
   ],
   "execution_count": 56
  },
  {
   "metadata": {
    "ExecuteTime": {
     "end_time": "2024-05-30T12:41:14.569968Z",
     "start_time": "2024-05-30T12:41:14.567038Z"
    }
   },
   "cell_type": "code",
   "source": [
    "# Standard deviation of all elements in an array\n",
    "a.std()"
   ],
   "id": "5d645275b440dd49",
   "outputs": [
    {
     "data": {
      "text/plain": [
       "1.118033988749895"
      ]
     },
     "execution_count": 57,
     "metadata": {},
     "output_type": "execute_result"
    }
   ],
   "execution_count": 57
  },
  {
   "metadata": {
    "ExecuteTime": {
     "end_time": "2024-05-30T12:42:33.750181Z",
     "start_time": "2024-05-30T12:42:33.747851Z"
    }
   },
   "cell_type": "code",
   "source": [
    "# difference between two arrays\n",
    "np.subtract(a,b)"
   ],
   "id": "ef06ab4233ce4f56",
   "outputs": [
    {
     "data": {
      "text/plain": [
       "array([[-4, -4],\n",
       "       [-4, -4]])"
      ]
     },
     "execution_count": 59,
     "metadata": {},
     "output_type": "execute_result"
    }
   ],
   "execution_count": 59
  },
  {
   "metadata": {
    "ExecuteTime": {
     "end_time": "2024-05-30T12:42:41.529765Z",
     "start_time": "2024-05-30T12:42:41.527691Z"
    }
   },
   "cell_type": "code",
   "source": [
    "# sum of two arrays\n",
    "np.add(a,b)"
   ],
   "id": "4a08955c624665eb",
   "outputs": [
    {
     "data": {
      "text/plain": [
       "array([[ 6,  8],\n",
       "       [10, 12]])"
      ]
     },
     "execution_count": 60,
     "metadata": {},
     "output_type": "execute_result"
    }
   ],
   "execution_count": 60
  },
  {
   "metadata": {
    "ExecuteTime": {
     "end_time": "2024-05-30T12:42:46.524125Z",
     "start_time": "2024-05-30T12:42:46.521826Z"
    }
   },
   "cell_type": "code",
   "source": [
    "# product of two arrays\n",
    "np.multiply(a,b)"
   ],
   "id": "aa46744592065d7",
   "outputs": [
    {
     "data": {
      "text/plain": [
       "array([[ 5, 12],\n",
       "       [21, 32]])"
      ]
     },
     "execution_count": 61,
     "metadata": {},
     "output_type": "execute_result"
    }
   ],
   "execution_count": 61
  },
  {
   "metadata": {
    "ExecuteTime": {
     "end_time": "2024-05-30T12:42:49.453362Z",
     "start_time": "2024-05-30T12:42:49.450268Z"
    }
   },
   "cell_type": "code",
   "source": [
    "# division of two arrays\n",
    "np.divide(a,b)"
   ],
   "id": "da0befea56f8109f",
   "outputs": [
    {
     "data": {
      "text/plain": [
       "array([[0.2       , 0.33333333],\n",
       "       [0.42857143, 0.5       ]])"
      ]
     },
     "execution_count": 62,
     "metadata": {},
     "output_type": "execute_result"
    }
   ],
   "execution_count": 62
  },
  {
   "metadata": {
    "ExecuteTime": {
     "end_time": "2024-05-30T12:42:55.030490Z",
     "start_time": "2024-05-30T12:42:55.028828Z"
    }
   },
   "cell_type": "code",
   "source": "",
   "id": "aa7f069caf2885f",
   "outputs": [],
   "execution_count": 62
  },
  {
   "metadata": {},
   "cell_type": "markdown",
   "source": "## Special Functions",
   "id": "b86ba8435ec9e216"
  },
  {
   "metadata": {
    "ExecuteTime": {
     "end_time": "2024-05-30T12:46:50.495347Z",
     "start_time": "2024-05-30T12:46:50.493060Z"
    }
   },
   "cell_type": "code",
   "source": [
    "# Create an array\n",
    "a = np.array([[1, 2], [3, 4]])\n",
    "a"
   ],
   "id": "3126ab348e27ef7b",
   "outputs": [
    {
     "data": {
      "text/plain": [
       "array([[1, 2],\n",
       "       [3, 4]])"
      ]
     },
     "execution_count": 83,
     "metadata": {},
     "output_type": "execute_result"
    }
   ],
   "execution_count": 83
  },
  {
   "metadata": {
    "ExecuteTime": {
     "end_time": "2024-05-30T12:43:58.912338Z",
     "start_time": "2024-05-30T12:43:58.909620Z"
    }
   },
   "cell_type": "code",
   "source": [
    "# Index of the maximum value\n",
    "np.argmax(a)"
   ],
   "id": "ae4d0b0383589929",
   "outputs": [
    {
     "data": {
      "text/plain": [
       "3"
      ]
     },
     "execution_count": 64,
     "metadata": {},
     "output_type": "execute_result"
    }
   ],
   "execution_count": 64
  },
  {
   "metadata": {
    "ExecuteTime": {
     "end_time": "2024-05-30T12:44:01.901634Z",
     "start_time": "2024-05-30T12:44:01.899330Z"
    }
   },
   "cell_type": "code",
   "source": [
    "# Index of the minimum value\n",
    "np.argmin(a)"
   ],
   "id": "14f8ff9d969fcda9",
   "outputs": [
    {
     "data": {
      "text/plain": [
       "0"
      ]
     },
     "execution_count": 65,
     "metadata": {},
     "output_type": "execute_result"
    }
   ],
   "execution_count": 65
  },
  {
   "metadata": {
    "ExecuteTime": {
     "end_time": "2024-05-30T12:44:04.807005Z",
     "start_time": "2024-05-30T12:44:04.804624Z"
    }
   },
   "cell_type": "code",
   "source": [
    "# Norm of an array\n",
    "np.linalg.norm(a)"
   ],
   "id": "ee8c9f3781e380b5",
   "outputs": [
    {
     "data": {
      "text/plain": [
       "5.477225575051661"
      ]
     },
     "execution_count": 66,
     "metadata": {},
     "output_type": "execute_result"
    }
   ],
   "execution_count": 66
  },
  {
   "metadata": {
    "ExecuteTime": {
     "end_time": "2024-05-30T12:44:22.364173Z",
     "start_time": "2024-05-30T12:44:22.361778Z"
    }
   },
   "cell_type": "code",
   "source": [
    "# distance between two arrays\n",
    "np.linalg.norm(a-b)"
   ],
   "id": "dfc7f45aa2427d22",
   "outputs": [
    {
     "data": {
      "text/plain": [
       "8.0"
      ]
     },
     "execution_count": 67,
     "metadata": {},
     "output_type": "execute_result"
    }
   ],
   "execution_count": 67
  },
  {
   "metadata": {
    "ExecuteTime": {
     "end_time": "2024-05-30T12:44:49.492553Z",
     "start_time": "2024-05-30T12:44:49.490208Z"
    }
   },
   "cell_type": "code",
   "source": "a.flatten()",
   "id": "a38bd6cd44034cea",
   "outputs": [
    {
     "data": {
      "text/plain": [
       "array([1, 2, 3, 4])"
      ]
     },
     "execution_count": 68,
     "metadata": {},
     "output_type": "execute_result"
    }
   ],
   "execution_count": 68
  },
  {
   "metadata": {
    "ExecuteTime": {
     "end_time": "2024-05-30T12:46:31.906757Z",
     "start_time": "2024-05-30T12:46:31.903964Z"
    }
   },
   "cell_type": "code",
   "source": "a.squeeze(axis=None)",
   "id": "e073327c3ae828c1",
   "outputs": [
    {
     "data": {
      "text/plain": [
       "array([[1, 2],\n",
       "       [3, 4]])"
      ]
     },
     "execution_count": 82,
     "metadata": {},
     "output_type": "execute_result"
    }
   ],
   "execution_count": 82
  },
  {
   "metadata": {
    "ExecuteTime": {
     "end_time": "2024-05-30T12:49:12.158909Z",
     "start_time": "2024-05-30T12:49:12.156408Z"
    }
   },
   "cell_type": "code",
   "source": [
    "# Transpose of an array\n",
    "a.T"
   ],
   "id": "b4c1bf12ed102056",
   "outputs": [
    {
     "data": {
      "text/plain": [
       "array([[1, 3],\n",
       "       [2, 4]])"
      ]
     },
     "execution_count": 84,
     "metadata": {},
     "output_type": "execute_result"
    }
   ],
   "execution_count": 84
  },
  {
   "metadata": {},
   "cell_type": "markdown",
   "source": "## Copies and views",
   "id": "793454d45ea82052"
  },
  {
   "metadata": {
    "ExecuteTime": {
     "end_time": "2024-05-31T09:00:47.421774Z",
     "start_time": "2024-05-31T09:00:47.420077Z"
    }
   },
   "cell_type": "code",
   "source": [
    "# Create an array\n",
    "a = np.array([1, 2, 3, 4])\n"
   ],
   "id": "602742be3d921e0c",
   "outputs": [],
   "execution_count": 5
  },
  {
   "metadata": {
    "ExecuteTime": {
     "end_time": "2024-05-31T09:01:12.657379Z",
     "start_time": "2024-05-31T09:01:12.655222Z"
    }
   },
   "cell_type": "code",
   "source": [
    "view_a_1 = a.view()\n",
    "view_a_2 = a\n",
    "copy_a = a.copy()"
   ],
   "id": "6afb82a59bb1962f",
   "outputs": [],
   "execution_count": 6
  },
  {
   "metadata": {
    "ExecuteTime": {
     "end_time": "2024-05-31T09:01:16.099754Z",
     "start_time": "2024-05-31T09:01:16.096430Z"
    }
   },
   "cell_type": "code",
   "source": "a",
   "id": "2c05f652d06e5fa3",
   "outputs": [
    {
     "data": {
      "text/plain": [
       "array([1, 2, 3, 4])"
      ]
     },
     "execution_count": 7,
     "metadata": {},
     "output_type": "execute_result"
    }
   ],
   "execution_count": 7
  },
  {
   "metadata": {
    "ExecuteTime": {
     "end_time": "2024-05-31T09:01:25.503950Z",
     "start_time": "2024-05-31T09:01:25.502272Z"
    }
   },
   "cell_type": "code",
   "source": "a[0] = 5",
   "id": "6fe31e5183398b68",
   "outputs": [],
   "execution_count": 8
  },
  {
   "metadata": {
    "ExecuteTime": {
     "end_time": "2024-05-31T09:01:27.388443Z",
     "start_time": "2024-05-31T09:01:27.386074Z"
    }
   },
   "cell_type": "code",
   "source": "view_a_1",
   "id": "38d01aca6cd14e45",
   "outputs": [
    {
     "data": {
      "text/plain": [
       "array([5, 2, 3, 4])"
      ]
     },
     "execution_count": 9,
     "metadata": {},
     "output_type": "execute_result"
    }
   ],
   "execution_count": 9
  },
  {
   "metadata": {
    "ExecuteTime": {
     "end_time": "2024-05-31T09:01:28.802284Z",
     "start_time": "2024-05-31T09:01:28.799607Z"
    }
   },
   "cell_type": "code",
   "source": "view_a_2",
   "id": "181ea253c4b1ae82",
   "outputs": [
    {
     "data": {
      "text/plain": [
       "array([5, 2, 3, 4])"
      ]
     },
     "execution_count": 10,
     "metadata": {},
     "output_type": "execute_result"
    }
   ],
   "execution_count": 10
  },
  {
   "metadata": {
    "ExecuteTime": {
     "end_time": "2024-05-31T09:01:30.033750Z",
     "start_time": "2024-05-31T09:01:30.031368Z"
    }
   },
   "cell_type": "code",
   "source": "copy_a",
   "id": "8af4f75860b0656",
   "outputs": [
    {
     "data": {
      "text/plain": [
       "array([1, 2, 3, 4])"
      ]
     },
     "execution_count": 11,
     "metadata": {},
     "output_type": "execute_result"
    }
   ],
   "execution_count": 11
  },
  {
   "metadata": {
    "ExecuteTime": {
     "end_time": "2024-05-31T09:01:39.238800Z",
     "start_time": "2024-05-31T09:01:39.236199Z"
    }
   },
   "cell_type": "code",
   "source": "id(a)",
   "id": "b7c6d0fa2153ee44",
   "outputs": [
    {
     "data": {
      "text/plain": [
       "13015650672"
      ]
     },
     "execution_count": 12,
     "metadata": {},
     "output_type": "execute_result"
    }
   ],
   "execution_count": 12
  },
  {
   "metadata": {
    "ExecuteTime": {
     "end_time": "2024-05-31T09:01:40.696172Z",
     "start_time": "2024-05-31T09:01:40.693422Z"
    }
   },
   "cell_type": "code",
   "source": "id(view_a_1)",
   "id": "24e819a5d95b4e68",
   "outputs": [
    {
     "data": {
      "text/plain": [
       "13015653168"
      ]
     },
     "execution_count": 13,
     "metadata": {},
     "output_type": "execute_result"
    }
   ],
   "execution_count": 13
  },
  {
   "metadata": {
    "ExecuteTime": {
     "end_time": "2024-05-31T09:01:42.000415Z",
     "start_time": "2024-05-31T09:01:41.998075Z"
    }
   },
   "cell_type": "code",
   "source": "id(view_a_2)",
   "id": "4e3dc17ac98da9c3",
   "outputs": [
    {
     "data": {
      "text/plain": [
       "13015650672"
      ]
     },
     "execution_count": 14,
     "metadata": {},
     "output_type": "execute_result"
    }
   ],
   "execution_count": 14
  },
  {
   "metadata": {
    "ExecuteTime": {
     "end_time": "2024-05-31T09:01:43.155101Z",
     "start_time": "2024-05-31T09:01:43.152644Z"
    }
   },
   "cell_type": "code",
   "source": "id(copy_a)",
   "id": "85090d5c1f3f822d",
   "outputs": [
    {
     "data": {
      "text/plain": [
       "13015653072"
      ]
     },
     "execution_count": 15,
     "metadata": {},
     "output_type": "execute_result"
    }
   ],
   "execution_count": 15
  },
  {
   "metadata": {},
   "cell_type": "code",
   "outputs": [],
   "execution_count": null,
   "source": "",
   "id": "564161f02cddf7b1"
  }
 ],
 "metadata": {
  "kernelspec": {
   "display_name": "Python 3",
   "language": "python",
   "name": "python3"
  },
  "language_info": {
   "codemirror_mode": {
    "name": "ipython",
    "version": 2
   },
   "file_extension": ".py",
   "mimetype": "text/x-python",
   "name": "python",
   "nbconvert_exporter": "python",
   "pygments_lexer": "ipython2",
   "version": "2.7.6"
  }
 },
 "nbformat": 4,
 "nbformat_minor": 5
}
