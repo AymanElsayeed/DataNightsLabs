{
 "cells": [
  {
   "metadata": {},
   "cell_type": "markdown",
   "source": [
    "#  Vectorizing Raw Data\n",
    "This is the process of converting text data into numerical data. This is done using the following techniques:\n",
    "* **CountVectorizer** : It Converts a collection of text documents to a matrix of token counts\n",
    "* **TfidfVectorizer** : It Converts a collection of raw documents to a matrix of TF-IDF features.\n",
    "* **N-grams vectorization** : It Converts a collection of text documents to a matrix of token counts"
   ],
   "id": "98b807d15fb0ea42"
  },
  {
   "metadata": {},
   "cell_type": "code",
   "outputs": [],
   "execution_count": null,
   "source": "",
   "id": "5fae89a3ba7b80dc"
  },
  {
   "metadata": {
    "ExecuteTime": {
     "end_time": "2024-05-15T13:03:28.564647Z",
     "start_time": "2024-05-15T13:03:27.798791Z"
    }
   },
   "cell_type": "code",
   "source": "import pandas as pd",
   "id": "366ae219efbbea5b",
   "outputs": [],
   "execution_count": 1
  },
  {
   "metadata": {
    "ExecuteTime": {
     "end_time": "2024-05-15T13:07:02.220029Z",
     "start_time": "2024-05-15T13:07:02.187869Z"
    }
   },
   "cell_type": "code",
   "source": "tweets = pd.read_csv('../assets/twitter.csv')",
   "id": "46f7c3d2fbd8555d",
   "outputs": [],
   "execution_count": 2
  },
  {
   "metadata": {
    "ExecuteTime": {
     "end_time": "2024-05-15T13:59:08.862352Z",
     "start_time": "2024-05-15T13:59:08.860405Z"
    }
   },
   "cell_type": "code",
   "source": [
    "sample_data = ['This is the first paper.',\n",
    "               'This document is the second paper.',\n",
    "               'And this is the third one.',\n",
    "               'Is this the first paper?']"
   ],
   "id": "b76e240c1724e9af",
   "outputs": [],
   "execution_count": 24
  },
  {
   "metadata": {},
   "cell_type": "markdown",
   "source": "## Data Cleaning",
   "id": "9d563dda441e903e"
  },
  {
   "metadata": {
    "ExecuteTime": {
     "end_time": "2024-05-15T13:07:36.417887Z",
     "start_time": "2024-05-15T13:07:36.416247Z"
    }
   },
   "cell_type": "code",
   "source": "",
   "id": "e3a02a41eabd1265",
   "outputs": [],
   "execution_count": 2
  },
  {
   "metadata": {},
   "cell_type": "code",
   "outputs": [],
   "execution_count": null,
   "source": "",
   "id": "ede76b4b0b8b51af"
  },
  {
   "metadata": {},
   "cell_type": "code",
   "outputs": [],
   "execution_count": null,
   "source": "",
   "id": "474e5829f4d74014"
  },
  {
   "metadata": {},
   "cell_type": "markdown",
   "source": "## CountVectorizer",
   "id": "ae5c27d1a80bcc05"
  },
  {
   "metadata": {
    "ExecuteTime": {
     "end_time": "2024-05-15T13:56:21.047453Z",
     "start_time": "2024-05-15T13:56:09.107093Z"
    }
   },
   "cell_type": "code",
   "source": "from sklearn.feature_extraction.text import CountVectorizer",
   "id": "e453224460628e75",
   "outputs": [],
   "execution_count": 3
  },
  {
   "metadata": {
    "ExecuteTime": {
     "end_time": "2024-05-15T13:56:21.050522Z",
     "start_time": "2024-05-15T13:56:21.048530Z"
    }
   },
   "cell_type": "code",
   "source": "count_vectorizer = CountVectorizer()",
   "id": "bb70ff2cb9ef830",
   "outputs": [],
   "execution_count": 4
  },
  {
   "metadata": {
    "ExecuteTime": {
     "end_time": "2024-05-15T13:58:05.152783Z",
     "start_time": "2024-05-15T13:58:05.149803Z"
    }
   },
   "cell_type": "code",
   "source": "x1 = count_vectorizer.fit_transform(sample_data)",
   "id": "70323721d8f0bde5",
   "outputs": [],
   "execution_count": 12
  },
  {
   "metadata": {
    "ExecuteTime": {
     "end_time": "2024-05-15T13:58:11.440537Z",
     "start_time": "2024-05-15T13:58:11.437822Z"
    }
   },
   "cell_type": "code",
   "source": "x1.toarray()",
   "id": "317b37730e5b8b3a",
   "outputs": [
    {
     "data": {
      "text/plain": [
       "array([[0, 0, 1, 1, 0, 1, 0, 1, 0, 1],\n",
       "       [0, 1, 0, 1, 0, 1, 1, 1, 0, 1],\n",
       "       [1, 0, 0, 1, 1, 0, 0, 1, 1, 1],\n",
       "       [0, 0, 1, 1, 0, 1, 0, 1, 0, 1]])"
      ]
     },
     "execution_count": 14,
     "metadata": {},
     "output_type": "execute_result"
    }
   ],
   "execution_count": 14
  },
  {
   "metadata": {
    "ExecuteTime": {
     "end_time": "2024-05-15T14:00:14.328145Z",
     "start_time": "2024-05-15T14:00:14.325612Z"
    }
   },
   "cell_type": "code",
   "source": "count_vectorizer.get_feature_names_out()",
   "id": "33540c6bc90d6e64",
   "outputs": [
    {
     "data": {
      "text/plain": [
       "array(['and', 'document', 'first', 'is', 'one', 'paper', 'second', 'the',\n",
       "       'third', 'this'], dtype=object)"
      ]
     },
     "execution_count": 30,
     "metadata": {},
     "output_type": "execute_result"
    }
   ],
   "execution_count": 30
  },
  {
   "metadata": {
    "ExecuteTime": {
     "end_time": "2024-05-15T14:00:26.324825Z",
     "start_time": "2024-05-15T14:00:26.322242Z"
    }
   },
   "cell_type": "code",
   "source": "len(count_vectorizer.get_feature_names_out())",
   "id": "27a3b096cc8d73d7",
   "outputs": [
    {
     "data": {
      "text/plain": [
       "10"
      ]
     },
     "execution_count": 32,
     "metadata": {},
     "output_type": "execute_result"
    }
   ],
   "execution_count": 32
  },
  {
   "metadata": {},
   "cell_type": "markdown",
   "source": "## TfidfVectorizer",
   "id": "56a3e13f65bd9b3f"
  },
  {
   "metadata": {
    "ExecuteTime": {
     "end_time": "2024-05-15T13:58:22.882628Z",
     "start_time": "2024-05-15T13:58:22.880263Z"
    }
   },
   "cell_type": "code",
   "source": "from sklearn.feature_extraction.text import TfidfVectorizer",
   "id": "e20722dff7c82280",
   "outputs": [],
   "execution_count": 15
  },
  {
   "metadata": {
    "ExecuteTime": {
     "end_time": "2024-05-15T14:02:51.717984Z",
     "start_time": "2024-05-15T14:02:51.715911Z"
    }
   },
   "cell_type": "code",
   "source": "tfidf_vectorizer = TfidfVectorizer()",
   "id": "60810a6db321f726",
   "outputs": [],
   "execution_count": 69
  },
  {
   "metadata": {
    "ExecuteTime": {
     "end_time": "2024-05-15T14:02:52.330605Z",
     "start_time": "2024-05-15T14:02:52.327257Z"
    }
   },
   "cell_type": "code",
   "source": "x2 = tfidf_vectorizer.fit_transform(sample_data)",
   "id": "1d2172f9dbd3b285",
   "outputs": [],
   "execution_count": 70
  },
  {
   "metadata": {
    "ExecuteTime": {
     "end_time": "2024-05-15T14:02:52.632063Z",
     "start_time": "2024-05-15T14:02:52.628945Z"
    }
   },
   "cell_type": "code",
   "source": "x2.toarray()",
   "id": "e010a7b70cd1810b",
   "outputs": [
    {
     "data": {
      "text/plain": [
       "array([[0.        , 0.        , 0.58028582, 0.38408524, 0.        ,\n",
       "        0.46979139, 0.        , 0.38408524, 0.        , 0.38408524],\n",
       "       [0.        , 0.55690079, 0.        , 0.29061394, 0.        ,\n",
       "        0.35546256, 0.55690079, 0.29061394, 0.        , 0.29061394],\n",
       "       [0.51184851, 0.        , 0.        , 0.26710379, 0.51184851,\n",
       "        0.        , 0.        , 0.26710379, 0.51184851, 0.26710379],\n",
       "       [0.        , 0.        , 0.58028582, 0.38408524, 0.        ,\n",
       "        0.46979139, 0.        , 0.38408524, 0.        , 0.38408524]])"
      ]
     },
     "execution_count": 71,
     "metadata": {},
     "output_type": "execute_result"
    }
   ],
   "execution_count": 71
  },
  {
   "metadata": {
    "ExecuteTime": {
     "end_time": "2024-05-15T14:00:05.320530Z",
     "start_time": "2024-05-15T14:00:05.316910Z"
    }
   },
   "cell_type": "code",
   "source": "tfidf_vectorizer.get_feature_names_out()",
   "id": "1c6218c75aa6f53f",
   "outputs": [
    {
     "data": {
      "text/plain": [
       "array(['and', 'document', 'first', 'is', 'one', 'paper', 'second', 'the',\n",
       "       'third', 'this'], dtype=object)"
      ]
     },
     "execution_count": 29,
     "metadata": {},
     "output_type": "execute_result"
    }
   ],
   "execution_count": 29
  },
  {
   "metadata": {
    "ExecuteTime": {
     "end_time": "2024-05-15T14:00:35.515980Z",
     "start_time": "2024-05-15T14:00:35.513842Z"
    }
   },
   "cell_type": "code",
   "source": "len(tfidf_vectorizer.get_feature_names_out())",
   "id": "3ffe7b19904711bc",
   "outputs": [
    {
     "data": {
      "text/plain": [
       "10"
      ]
     },
     "execution_count": 33,
     "metadata": {},
     "output_type": "execute_result"
    }
   ],
   "execution_count": 33
  },
  {
   "metadata": {},
   "cell_type": "markdown",
   "source": "## N-grams vectorization",
   "id": "b1144b57836c8335"
  },
  {
   "metadata": {
    "ExecuteTime": {
     "end_time": "2024-05-15T14:00:44.005309Z",
     "start_time": "2024-05-15T14:00:44.003188Z"
    }
   },
   "cell_type": "code",
   "source": "from sklearn.feature_extraction.text import CountVectorizer",
   "id": "e823d9a0b983e25b",
   "outputs": [],
   "execution_count": 34
  },
  {
   "metadata": {
    "ExecuteTime": {
     "end_time": "2024-05-15T14:01:43.132608Z",
     "start_time": "2024-05-15T14:01:43.130631Z"
    }
   },
   "cell_type": "code",
   "source": "n_gram_vectorizer = CountVectorizer(ngram_range=(2, 2))",
   "id": "7181777e0ea84a89",
   "outputs": [],
   "execution_count": 55
  },
  {
   "metadata": {
    "ExecuteTime": {
     "end_time": "2024-05-15T14:01:43.602106Z",
     "start_time": "2024-05-15T14:01:43.599514Z"
    }
   },
   "cell_type": "code",
   "source": "x3 = n_gram_vectorizer.fit_transform(sample_data)",
   "id": "63a23e01f3f64c82",
   "outputs": [],
   "execution_count": 56
  },
  {
   "metadata": {
    "ExecuteTime": {
     "end_time": "2024-05-15T14:01:43.809167Z",
     "start_time": "2024-05-15T14:01:43.806166Z"
    }
   },
   "cell_type": "code",
   "source": "x3.toarray()",
   "id": "d674d4e2d9ca9039",
   "outputs": [
    {
     "data": {
      "text/plain": [
       "array([[0, 0, 1, 1, 0, 0, 1, 0, 0, 0, 0, 1, 0],\n",
       "       [0, 1, 0, 1, 0, 1, 0, 1, 0, 0, 1, 0, 0],\n",
       "       [1, 0, 0, 1, 0, 0, 0, 0, 1, 1, 0, 1, 0],\n",
       "       [0, 0, 1, 0, 1, 0, 1, 0, 0, 0, 0, 0, 1]])"
      ]
     },
     "execution_count": 57,
     "metadata": {},
     "output_type": "execute_result"
    }
   ],
   "execution_count": 57
  },
  {
   "metadata": {
    "ExecuteTime": {
     "end_time": "2024-05-15T14:01:43.969683Z",
     "start_time": "2024-05-15T14:01:43.967328Z"
    }
   },
   "cell_type": "code",
   "source": "n_gram_vectorizer.get_feature_names_out()",
   "id": "a2d5f4900f73f144",
   "outputs": [
    {
     "data": {
      "text/plain": [
       "array(['and this', 'document is', 'first paper', 'is the', 'is this',\n",
       "       'second paper', 'the first', 'the second', 'the third',\n",
       "       'third one', 'this document', 'this is', 'this the'], dtype=object)"
      ]
     },
     "execution_count": 58,
     "metadata": {},
     "output_type": "execute_result"
    }
   ],
   "execution_count": 58
  },
  {
   "metadata": {
    "ExecuteTime": {
     "end_time": "2024-05-15T14:01:44.193104Z",
     "start_time": "2024-05-15T14:01:44.190251Z"
    }
   },
   "cell_type": "code",
   "source": "len(n_gram_vectorizer.get_feature_names_out())",
   "id": "230e1a568a479605",
   "outputs": [
    {
     "data": {
      "text/plain": [
       "13"
      ]
     },
     "execution_count": 59,
     "metadata": {},
     "output_type": "execute_result"
    }
   ],
   "execution_count": 59
  },
  {
   "metadata": {
    "ExecuteTime": {
     "end_time": "2024-05-15T14:01:44.415629Z",
     "start_time": "2024-05-15T14:01:44.414214Z"
    }
   },
   "cell_type": "code",
   "source": "",
   "id": "b5f539c4571a8ab9",
   "outputs": [],
   "execution_count": 59
  },
  {
   "metadata": {},
   "cell_type": "code",
   "outputs": [],
   "execution_count": null,
   "source": "",
   "id": "dfbb5091b8b74842"
  }
 ],
 "metadata": {
  "kernelspec": {
   "display_name": "Python 3",
   "language": "python",
   "name": "python3"
  },
  "language_info": {
   "codemirror_mode": {
    "name": "ipython",
    "version": 2
   },
   "file_extension": ".py",
   "mimetype": "text/x-python",
   "name": "python",
   "nbconvert_exporter": "python",
   "pygments_lexer": "ipython2",
   "version": "2.7.6"
  }
 },
 "nbformat": 4,
 "nbformat_minor": 5
}
