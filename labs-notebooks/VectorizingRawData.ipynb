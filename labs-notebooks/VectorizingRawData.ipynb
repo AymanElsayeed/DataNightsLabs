{
 "cells": [
  {
   "metadata": {},
   "cell_type": "markdown",
   "source": [
    "#  Vectorizing Raw Data\n",
    "This is the process of converting text data into numerical data. This is done using the following techniques:\n",
    "* **CountVectorizer** : It Converts a collection of text documents to a matrix of token counts\n",
    "* **TfidfVectorizer** : It Converts a collection of raw documents to a matrix of TF-IDF features.\n",
    "* **N-grams vectorization** : It Converts a collection of text documents to a matrix of token counts"
   ],
   "id": "98b807d15fb0ea42"
  },
  {
   "metadata": {},
   "cell_type": "code",
   "outputs": [],
   "execution_count": null,
   "source": "",
   "id": "5fae89a3ba7b80dc"
  }
 ],
 "metadata": {
  "kernelspec": {
   "display_name": "Python 3",
   "language": "python",
   "name": "python3"
  },
  "language_info": {
   "codemirror_mode": {
    "name": "ipython",
    "version": 2
   },
   "file_extension": ".py",
   "mimetype": "text/x-python",
   "name": "python",
   "nbconvert_exporter": "python",
   "pygments_lexer": "ipython2",
   "version": "2.7.6"
  }
 },
 "nbformat": 4,
 "nbformat_minor": 5
}
