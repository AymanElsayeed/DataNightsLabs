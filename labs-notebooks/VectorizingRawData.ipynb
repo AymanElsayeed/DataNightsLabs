{
 "cells": [
  {
   "metadata": {},
   "cell_type": "markdown",
   "source": [
    "#  Vectorizing Raw Data\n",
    "This is the process of converting text data into numerical data. This is done using the following techniques:\n",
    "* **CountVectorizer** : It Converts a collection of text documents to a matrix of token counts\n",
    "* **TfidfVectorizer** : It Converts a collection of raw documents to a matrix of TF-IDF features.\n",
    "* **N-grams vectorization** : It Converts a collection of text documents to a matrix of token counts"
   ],
   "id": "98b807d15fb0ea42"
  },
  {
   "metadata": {
    "ExecuteTime": {
     "end_time": "2024-06-16T10:21:08.652924Z",
     "start_time": "2024-06-16T10:21:08.650124Z"
    }
   },
   "cell_type": "code",
   "source": [
    "sample_data = ['This is the first paper.',\n",
    "               'This document is the second paper.',\n",
    "               'And this is the third one.',\n",
    "               'Is this the first paper?']"
   ],
   "id": "366ae219efbbea5b",
   "outputs": [],
   "execution_count": 23
  },
  {
   "metadata": {},
   "cell_type": "markdown",
   "source": [
    "## Data Cleaning\n",
    "\n",
    "* Remove punctuations\n",
    "* Remove stop words\n",
    "* Lowercase the text (optional)\n",
    "* Stemming or Lemmatization (optional)\n",
    "* Remove numbers (optional)\n",
    "* Remove URLs (optional)\n",
    "* Remove HTML tags (optional)\n",
    "\n",
    "Assuming that the data is already cleaned, we can proceed to the next step."
   ],
   "id": "9d563dda441e903e"
  },
  {
   "metadata": {
    "ExecuteTime": {
     "end_time": "2024-06-16T10:21:26.655194Z",
     "start_time": "2024-06-16T10:21:26.653616Z"
    }
   },
   "cell_type": "code",
   "source": "# Data Cleaning",
   "id": "e3a02a41eabd1265",
   "outputs": [],
   "execution_count": 24
  },
  {
   "metadata": {},
   "cell_type": "markdown",
   "source": [
    "## CountVectorizer\n",
    "\n",
    "1. import CountVectorizer from sklearn.feature_extraction.text\n",
    "2. Create an instance of CountVectorizer\n",
    "3. Fit and transform the data\n",
    "4. Convert the sparse matrix to an array\n",
    "5. Get the feature names\n",
    "6. Get the length of the feature names"
   ],
   "id": "ae5c27d1a80bcc05"
  },
  {
   "metadata": {
    "ExecuteTime": {
     "end_time": "2024-06-16T10:20:50.751523Z",
     "start_time": "2024-06-16T10:20:50.675577Z"
    }
   },
   "cell_type": "code",
   "source": "from sklearn.feature_extraction.text import CountVectorizer",
   "id": "e453224460628e75",
   "outputs": [],
   "execution_count": 5
  },
  {
   "metadata": {
    "ExecuteTime": {
     "end_time": "2024-06-16T10:20:50.897232Z",
     "start_time": "2024-06-16T10:20:50.895183Z"
    }
   },
   "cell_type": "code",
   "source": "count_vectorizer = CountVectorizer()",
   "id": "bb70ff2cb9ef830",
   "outputs": [],
   "execution_count": 6
  },
  {
   "metadata": {
    "ExecuteTime": {
     "end_time": "2024-06-16T10:20:51.424127Z",
     "start_time": "2024-06-16T10:20:51.421310Z"
    }
   },
   "cell_type": "code",
   "source": "x1 = count_vectorizer.fit_transform(sample_data)",
   "id": "70323721d8f0bde5",
   "outputs": [],
   "execution_count": 7
  },
  {
   "metadata": {
    "ExecuteTime": {
     "end_time": "2024-06-16T10:20:51.629238Z",
     "start_time": "2024-06-16T10:20:51.625045Z"
    }
   },
   "cell_type": "code",
   "source": "x1.toarray()",
   "id": "317b37730e5b8b3a",
   "outputs": [
    {
     "data": {
      "text/plain": [
       "array([[0, 0, 1, 1, 0, 1, 0, 1, 0, 1],\n",
       "       [0, 1, 0, 1, 0, 1, 1, 1, 0, 1],\n",
       "       [1, 0, 0, 1, 1, 0, 0, 1, 1, 1],\n",
       "       [0, 0, 1, 1, 0, 1, 0, 1, 0, 1]])"
      ]
     },
     "execution_count": 8,
     "metadata": {},
     "output_type": "execute_result"
    }
   ],
   "execution_count": 8
  },
  {
   "metadata": {
    "ExecuteTime": {
     "end_time": "2024-06-16T10:20:51.968278Z",
     "start_time": "2024-06-16T10:20:51.965445Z"
    }
   },
   "cell_type": "code",
   "source": "count_vectorizer.get_feature_names_out()",
   "id": "33540c6bc90d6e64",
   "outputs": [
    {
     "data": {
      "text/plain": [
       "array(['and', 'document', 'first', 'is', 'one', 'paper', 'second', 'the',\n",
       "       'third', 'this'], dtype=object)"
      ]
     },
     "execution_count": 9,
     "metadata": {},
     "output_type": "execute_result"
    }
   ],
   "execution_count": 9
  },
  {
   "metadata": {
    "ExecuteTime": {
     "end_time": "2024-06-16T10:20:52.215041Z",
     "start_time": "2024-06-16T10:20:52.212338Z"
    }
   },
   "cell_type": "code",
   "source": "len(count_vectorizer.get_feature_names_out())",
   "id": "27a3b096cc8d73d7",
   "outputs": [
    {
     "data": {
      "text/plain": [
       "10"
      ]
     },
     "execution_count": 10,
     "metadata": {},
     "output_type": "execute_result"
    }
   ],
   "execution_count": 10
  },
  {
   "metadata": {},
   "cell_type": "markdown",
   "source": [
    "## TfidfVectorizer\n",
    "\n",
    "1. import TfidfVectorizer from sklearn.feature_extraction.text\n",
    "2. Create an instance of TfidfVectorizer\n",
    "3. Fit and transform the data\n",
    "4. Convert the sparse matrix to an array\n",
    "5. Get the feature names\n",
    "6. Get the length of the feature names"
   ],
   "id": "56a3e13f65bd9b3f"
  },
  {
   "metadata": {
    "ExecuteTime": {
     "end_time": "2024-06-16T10:20:52.657703Z",
     "start_time": "2024-06-16T10:20:52.655858Z"
    }
   },
   "cell_type": "code",
   "source": "from sklearn.feature_extraction.text import TfidfVectorizer",
   "id": "e20722dff7c82280",
   "outputs": [],
   "execution_count": 11
  },
  {
   "metadata": {
    "ExecuteTime": {
     "end_time": "2024-06-16T10:20:52.885029Z",
     "start_time": "2024-06-16T10:20:52.881414Z"
    }
   },
   "cell_type": "code",
   "source": "tfidf_vectorizer = TfidfVectorizer()",
   "id": "60810a6db321f726",
   "outputs": [],
   "execution_count": 12
  },
  {
   "metadata": {
    "ExecuteTime": {
     "end_time": "2024-06-16T10:20:53.230340Z",
     "start_time": "2024-06-16T10:20:53.227745Z"
    }
   },
   "cell_type": "code",
   "source": "x2 = tfidf_vectorizer.fit_transform(sample_data)",
   "id": "1d2172f9dbd3b285",
   "outputs": [],
   "execution_count": 13
  },
  {
   "metadata": {
    "ExecuteTime": {
     "end_time": "2024-06-16T10:20:53.428837Z",
     "start_time": "2024-06-16T10:20:53.425836Z"
    }
   },
   "cell_type": "code",
   "source": "x2.toarray()",
   "id": "e010a7b70cd1810b",
   "outputs": [
    {
     "data": {
      "text/plain": [
       "array([[0.        , 0.        , 0.58028582, 0.38408524, 0.        ,\n",
       "        0.46979139, 0.        , 0.38408524, 0.        , 0.38408524],\n",
       "       [0.        , 0.55690079, 0.        , 0.29061394, 0.        ,\n",
       "        0.35546256, 0.55690079, 0.29061394, 0.        , 0.29061394],\n",
       "       [0.51184851, 0.        , 0.        , 0.26710379, 0.51184851,\n",
       "        0.        , 0.        , 0.26710379, 0.51184851, 0.26710379],\n",
       "       [0.        , 0.        , 0.58028582, 0.38408524, 0.        ,\n",
       "        0.46979139, 0.        , 0.38408524, 0.        , 0.38408524]])"
      ]
     },
     "execution_count": 14,
     "metadata": {},
     "output_type": "execute_result"
    }
   ],
   "execution_count": 14
  },
  {
   "metadata": {
    "ExecuteTime": {
     "end_time": "2024-06-16T10:20:53.601863Z",
     "start_time": "2024-06-16T10:20:53.599514Z"
    }
   },
   "cell_type": "code",
   "source": "tfidf_vectorizer.get_feature_names_out()",
   "id": "1c6218c75aa6f53f",
   "outputs": [
    {
     "data": {
      "text/plain": [
       "array(['and', 'document', 'first', 'is', 'one', 'paper', 'second', 'the',\n",
       "       'third', 'this'], dtype=object)"
      ]
     },
     "execution_count": 15,
     "metadata": {},
     "output_type": "execute_result"
    }
   ],
   "execution_count": 15
  },
  {
   "metadata": {
    "ExecuteTime": {
     "end_time": "2024-06-16T10:20:53.834347Z",
     "start_time": "2024-06-16T10:20:53.831580Z"
    }
   },
   "cell_type": "code",
   "source": "len(tfidf_vectorizer.get_feature_names_out())",
   "id": "3ffe7b19904711bc",
   "outputs": [
    {
     "data": {
      "text/plain": [
       "10"
      ]
     },
     "execution_count": 16,
     "metadata": {},
     "output_type": "execute_result"
    }
   ],
   "execution_count": 16
  },
  {
   "metadata": {},
   "cell_type": "markdown",
   "source": [
    "## N-grams vectorization\n",
    "\n",
    "1. import CountVectorizer from sklearn.feature_extraction.text\n",
    "2. Create an instance of CountVectorizer\n",
    "3. Fit and transform the data\n",
    "4. Convert the sparse matrix to an array\n",
    "5. Get the feature names\n",
    "6. Get the length of the feature names"
   ],
   "id": "b1144b57836c8335"
  },
  {
   "metadata": {
    "ExecuteTime": {
     "end_time": "2024-06-16T10:20:54.375998Z",
     "start_time": "2024-06-16T10:20:54.372785Z"
    }
   },
   "cell_type": "code",
   "source": "from sklearn.feature_extraction.text import CountVectorizer",
   "id": "e823d9a0b983e25b",
   "outputs": [],
   "execution_count": 17
  },
  {
   "metadata": {
    "ExecuteTime": {
     "end_time": "2024-06-16T10:20:54.577844Z",
     "start_time": "2024-06-16T10:20:54.576142Z"
    }
   },
   "cell_type": "code",
   "source": "n_gram_vectorizer = CountVectorizer(ngram_range=(2, 2))",
   "id": "7181777e0ea84a89",
   "outputs": [],
   "execution_count": 18
  },
  {
   "metadata": {
    "ExecuteTime": {
     "end_time": "2024-06-16T10:20:54.785605Z",
     "start_time": "2024-06-16T10:20:54.783038Z"
    }
   },
   "cell_type": "code",
   "source": "x3 = n_gram_vectorizer.fit_transform(sample_data)",
   "id": "63a23e01f3f64c82",
   "outputs": [],
   "execution_count": 19
  },
  {
   "metadata": {
    "ExecuteTime": {
     "end_time": "2024-06-16T10:20:54.953697Z",
     "start_time": "2024-06-16T10:20:54.951066Z"
    }
   },
   "cell_type": "code",
   "source": "x3.toarray()",
   "id": "d674d4e2d9ca9039",
   "outputs": [
    {
     "data": {
      "text/plain": [
       "array([[0, 0, 1, 1, 0, 0, 1, 0, 0, 0, 0, 1, 0],\n",
       "       [0, 1, 0, 1, 0, 1, 0, 1, 0, 0, 1, 0, 0],\n",
       "       [1, 0, 0, 1, 0, 0, 0, 0, 1, 1, 0, 1, 0],\n",
       "       [0, 0, 1, 0, 1, 0, 1, 0, 0, 0, 0, 0, 1]])"
      ]
     },
     "execution_count": 20,
     "metadata": {},
     "output_type": "execute_result"
    }
   ],
   "execution_count": 20
  },
  {
   "metadata": {
    "ExecuteTime": {
     "end_time": "2024-06-16T10:20:55.131106Z",
     "start_time": "2024-06-16T10:20:55.128832Z"
    }
   },
   "cell_type": "code",
   "source": "n_gram_vectorizer.get_feature_names_out()",
   "id": "a2d5f4900f73f144",
   "outputs": [
    {
     "data": {
      "text/plain": [
       "array(['and this', 'document is', 'first paper', 'is the', 'is this',\n",
       "       'second paper', 'the first', 'the second', 'the third',\n",
       "       'third one', 'this document', 'this is', 'this the'], dtype=object)"
      ]
     },
     "execution_count": 21,
     "metadata": {},
     "output_type": "execute_result"
    }
   ],
   "execution_count": 21
  },
  {
   "metadata": {
    "ExecuteTime": {
     "end_time": "2024-06-16T10:20:55.407928Z",
     "start_time": "2024-06-16T10:20:55.405207Z"
    }
   },
   "cell_type": "code",
   "source": "len(n_gram_vectorizer.get_feature_names_out())",
   "id": "230e1a568a479605",
   "outputs": [
    {
     "data": {
      "text/plain": [
       "13"
      ]
     },
     "execution_count": 22,
     "metadata": {},
     "output_type": "execute_result"
    }
   ],
   "execution_count": 22
  },
  {
   "metadata": {
    "ExecuteTime": {
     "end_time": "2024-05-15T14:01:44.415629Z",
     "start_time": "2024-05-15T14:01:44.414214Z"
    }
   },
   "cell_type": "code",
   "source": "",
   "id": "b5f539c4571a8ab9",
   "outputs": [],
   "execution_count": 59
  },
  {
   "metadata": {},
   "cell_type": "code",
   "outputs": [],
   "execution_count": null,
   "source": "",
   "id": "dfbb5091b8b74842"
  }
 ],
 "metadata": {
  "kernelspec": {
   "display_name": "Python 3",
   "language": "python",
   "name": "python3"
  },
  "language_info": {
   "codemirror_mode": {
    "name": "ipython",
    "version": 2
   },
   "file_extension": ".py",
   "mimetype": "text/x-python",
   "name": "python",
   "nbconvert_exporter": "python",
   "pygments_lexer": "ipython2",
   "version": "2.7.6"
  }
 },
 "nbformat": 4,
 "nbformat_minor": 5
}
