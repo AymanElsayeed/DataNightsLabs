{
 "cells": [
  {
   "metadata": {},
   "cell_type": "markdown",
   "source": [
    "# Part Of Speech Tagging\n",
    "\n",
    "in this notebook, we will use the `nltk` library to perform Part Of Speech tagging on a given text."
   ],
   "id": "a0fa4f5083d58c0e"
  },
  {
   "metadata": {
    "ExecuteTime": {
     "end_time": "2024-05-31T09:30:52.475891Z",
     "start_time": "2024-05-31T09:30:51.490077Z"
    }
   },
   "cell_type": "code",
   "source": [
    "import pandas as pd\n",
    "import nltk\n"
   ],
   "id": "1baf42e73cd07909",
   "outputs": [],
   "execution_count": 6
  },
  {
   "metadata": {
    "ExecuteTime": {
     "end_time": "2024-05-31T09:30:52.487795Z",
     "start_time": "2024-05-31T09:30:52.477046Z"
    }
   },
   "cell_type": "code",
   "source": "spam = pd.read_csv('../assets/spam.csv')",
   "id": "507a95eea67f340",
   "outputs": [],
   "execution_count": 7
  },
  {
   "metadata": {
    "ExecuteTime": {
     "end_time": "2024-05-31T09:30:52.489587Z",
     "start_time": "2024-05-31T09:30:52.488398Z"
    }
   },
   "cell_type": "code",
   "source": "",
   "id": "eb04abcb4853d876",
   "outputs": [],
   "execution_count": 7
  },
  {
   "metadata": {
    "ExecuteTime": {
     "end_time": "2024-05-31T09:30:52.496953Z",
     "start_time": "2024-05-31T09:30:52.490691Z"
    }
   },
   "cell_type": "code",
   "source": "spam.head()",
   "id": "c57e2cdd2513ae4a",
   "outputs": [
    {
     "data": {
      "text/plain": [
       "                                                text target\n",
       "0  Go until jurong point, crazy.. Available only ...    ham\n",
       "1                      Ok lar... Joking wif u oni...    ham\n",
       "2  Free entry in 2 a wkly comp to win FA Cup fina...   spam\n",
       "3  U dun say so early hor... U c already then say...    ham\n",
       "4  Nah I don't think he goes to usf, he lives aro...    ham"
      ],
      "text/html": [
       "<div>\n",
       "<style scoped>\n",
       "    .dataframe tbody tr th:only-of-type {\n",
       "        vertical-align: middle;\n",
       "    }\n",
       "\n",
       "    .dataframe tbody tr th {\n",
       "        vertical-align: top;\n",
       "    }\n",
       "\n",
       "    .dataframe thead th {\n",
       "        text-align: right;\n",
       "    }\n",
       "</style>\n",
       "<table border=\"1\" class=\"dataframe\">\n",
       "  <thead>\n",
       "    <tr style=\"text-align: right;\">\n",
       "      <th></th>\n",
       "      <th>text</th>\n",
       "      <th>target</th>\n",
       "    </tr>\n",
       "  </thead>\n",
       "  <tbody>\n",
       "    <tr>\n",
       "      <th>0</th>\n",
       "      <td>Go until jurong point, crazy.. Available only ...</td>\n",
       "      <td>ham</td>\n",
       "    </tr>\n",
       "    <tr>\n",
       "      <th>1</th>\n",
       "      <td>Ok lar... Joking wif u oni...</td>\n",
       "      <td>ham</td>\n",
       "    </tr>\n",
       "    <tr>\n",
       "      <th>2</th>\n",
       "      <td>Free entry in 2 a wkly comp to win FA Cup fina...</td>\n",
       "      <td>spam</td>\n",
       "    </tr>\n",
       "    <tr>\n",
       "      <th>3</th>\n",
       "      <td>U dun say so early hor... U c already then say...</td>\n",
       "      <td>ham</td>\n",
       "    </tr>\n",
       "    <tr>\n",
       "      <th>4</th>\n",
       "      <td>Nah I don't think he goes to usf, he lives aro...</td>\n",
       "      <td>ham</td>\n",
       "    </tr>\n",
       "  </tbody>\n",
       "</table>\n",
       "</div>"
      ]
     },
     "execution_count": 8,
     "metadata": {},
     "output_type": "execute_result"
    }
   ],
   "execution_count": 8
  },
  {
   "metadata": {
    "ExecuteTime": {
     "end_time": "2024-05-31T09:30:52.663016Z",
     "start_time": "2024-05-31T09:30:52.661093Z"
    }
   },
   "cell_type": "code",
   "source": "text1 = spam[\"text\"][7]",
   "id": "5bf4f84dab059ef9",
   "outputs": [],
   "execution_count": 9
  },
  {
   "metadata": {
    "ExecuteTime": {
     "end_time": "2024-05-31T09:30:53.184889Z",
     "start_time": "2024-05-31T09:30:53.182325Z"
    }
   },
   "cell_type": "code",
   "source": "text1",
   "id": "e4b5d81955982c86",
   "outputs": [
    {
     "data": {
      "text/plain": [
       "\"As per your request 'Melle Melle (Oru Minnaminunginte Nurungu Vettam)' has been set as your callertune for all Callers. Press *9 to copy your friends Callertune\""
      ]
     },
     "execution_count": 10,
     "metadata": {},
     "output_type": "execute_result"
    }
   ],
   "execution_count": 10
  },
  {
   "metadata": {
    "ExecuteTime": {
     "end_time": "2024-05-31T09:30:55.119485Z",
     "start_time": "2024-05-31T09:30:55.109302Z"
    }
   },
   "cell_type": "code",
   "source": "tokens = nltk.word_tokenize(text1)",
   "id": "5e46d9df9f93c1e",
   "outputs": [],
   "execution_count": 11
  },
  {
   "metadata": {
    "ExecuteTime": {
     "end_time": "2024-05-29T08:48:51.371864Z",
     "start_time": "2024-05-29T08:48:51.368747Z"
    }
   },
   "cell_type": "code",
   "source": "tokens",
   "id": "d472939c0dce6a26",
   "outputs": [
    {
     "data": {
      "text/plain": [
       "['Go',\n",
       " 'until',\n",
       " 'jurong',\n",
       " 'point',\n",
       " ',',\n",
       " 'crazy',\n",
       " '..',\n",
       " 'Available',\n",
       " 'only',\n",
       " 'in',\n",
       " 'bugis',\n",
       " 'n',\n",
       " 'great',\n",
       " 'world',\n",
       " 'la',\n",
       " 'e',\n",
       " 'buffet',\n",
       " '...',\n",
       " 'Cine',\n",
       " 'there',\n",
       " 'got',\n",
       " 'amore',\n",
       " 'wat',\n",
       " '...']"
      ]
     },
     "execution_count": 18,
     "metadata": {},
     "output_type": "execute_result"
    }
   ],
   "execution_count": 18
  },
  {
   "metadata": {
    "ExecuteTime": {
     "end_time": "2024-05-29T08:48:52.063354Z",
     "start_time": "2024-05-29T08:48:52.057562Z"
    }
   },
   "cell_type": "code",
   "source": "nltk.pos_tag(tokens)",
   "id": "55a735994db10e7d",
   "outputs": [
    {
     "data": {
      "text/plain": [
       "[('Go', 'NNP'),\n",
       " ('until', 'IN'),\n",
       " ('jurong', 'JJ'),\n",
       " ('point', 'NN'),\n",
       " (',', ','),\n",
       " ('crazy', 'JJ'),\n",
       " ('..', 'NN'),\n",
       " ('Available', 'NNP'),\n",
       " ('only', 'RB'),\n",
       " ('in', 'IN'),\n",
       " ('bugis', 'NN'),\n",
       " ('n', 'RB'),\n",
       " ('great', 'JJ'),\n",
       " ('world', 'NN'),\n",
       " ('la', 'NN'),\n",
       " ('e', 'FW'),\n",
       " ('buffet', 'NN'),\n",
       " ('...', ':'),\n",
       " ('Cine', 'NNP'),\n",
       " ('there', 'EX'),\n",
       " ('got', 'VBD'),\n",
       " ('amore', 'RB'),\n",
       " ('wat', 'NN'),\n",
       " ('...', ':')]"
      ]
     },
     "execution_count": 19,
     "metadata": {},
     "output_type": "execute_result"
    }
   ],
   "execution_count": 19
  },
  {
   "metadata": {
    "ExecuteTime": {
     "end_time": "2024-05-29T08:48:52.737725Z",
     "start_time": "2024-05-29T08:48:52.732799Z"
    }
   },
   "cell_type": "code",
   "source": "nltk.help.upenn_tagset()",
   "id": "f84f9ce8d2f2fd21",
   "outputs": [
    {
     "name": "stdout",
     "output_type": "stream",
     "text": [
      "$: dollar\n",
      "    $ -$ --$ A$ C$ HK$ M$ NZ$ S$ U.S.$ US$\n",
      "'': closing quotation mark\n",
      "    ' ''\n",
      "(: opening parenthesis\n",
      "    ( [ {\n",
      "): closing parenthesis\n",
      "    ) ] }\n",
      ",: comma\n",
      "    ,\n",
      "--: dash\n",
      "    --\n",
      ".: sentence terminator\n",
      "    . ! ?\n",
      ":: colon or ellipsis\n",
      "    : ; ...\n",
      "CC: conjunction, coordinating\n",
      "    & 'n and both but either et for less minus neither nor or plus so\n",
      "    therefore times v. versus vs. whether yet\n",
      "CD: numeral, cardinal\n",
      "    mid-1890 nine-thirty forty-two one-tenth ten million 0.5 one forty-\n",
      "    seven 1987 twenty '79 zero two 78-degrees eighty-four IX '60s .025\n",
      "    fifteen 271,124 dozen quintillion DM2,000 ...\n",
      "DT: determiner\n",
      "    all an another any both del each either every half la many much nary\n",
      "    neither no some such that the them these this those\n",
      "EX: existential there\n",
      "    there\n",
      "FW: foreign word\n",
      "    gemeinschaft hund ich jeux habeas Haementeria Herr K'ang-si vous\n",
      "    lutihaw alai je jour objets salutaris fille quibusdam pas trop Monte\n",
      "    terram fiche oui corporis ...\n",
      "IN: preposition or conjunction, subordinating\n",
      "    astride among uppon whether out inside pro despite on by throughout\n",
      "    below within for towards near behind atop around if like until below\n",
      "    next into if beside ...\n",
      "JJ: adjective or numeral, ordinal\n",
      "    third ill-mannered pre-war regrettable oiled calamitous first separable\n",
      "    ectoplasmic battery-powered participatory fourth still-to-be-named\n",
      "    multilingual multi-disciplinary ...\n",
      "JJR: adjective, comparative\n",
      "    bleaker braver breezier briefer brighter brisker broader bumper busier\n",
      "    calmer cheaper choosier cleaner clearer closer colder commoner costlier\n",
      "    cozier creamier crunchier cuter ...\n",
      "JJS: adjective, superlative\n",
      "    calmest cheapest choicest classiest cleanest clearest closest commonest\n",
      "    corniest costliest crassest creepiest crudest cutest darkest deadliest\n",
      "    dearest deepest densest dinkiest ...\n",
      "LS: list item marker\n",
      "    A A. B B. C C. D E F First G H I J K One SP-44001 SP-44002 SP-44005\n",
      "    SP-44007 Second Third Three Two * a b c d first five four one six three\n",
      "    two\n",
      "MD: modal auxiliary\n",
      "    can cannot could couldn't dare may might must need ought shall should\n",
      "    shouldn't will would\n",
      "NN: noun, common, singular or mass\n",
      "    common-carrier cabbage knuckle-duster Casino afghan shed thermostat\n",
      "    investment slide humour falloff slick wind hyena override subhumanity\n",
      "    machinist ...\n",
      "NNP: noun, proper, singular\n",
      "    Motown Venneboerger Czestochwa Ranzer Conchita Trumplane Christos\n",
      "    Oceanside Escobar Kreisler Sawyer Cougar Yvette Ervin ODI Darryl CTCA\n",
      "    Shannon A.K.C. Meltex Liverpool ...\n",
      "NNPS: noun, proper, plural\n",
      "    Americans Americas Amharas Amityvilles Amusements Anarcho-Syndicalists\n",
      "    Andalusians Andes Andruses Angels Animals Anthony Antilles Antiques\n",
      "    Apache Apaches Apocrypha ...\n",
      "NNS: noun, common, plural\n",
      "    undergraduates scotches bric-a-brac products bodyguards facets coasts\n",
      "    divestitures storehouses designs clubs fragrances averages\n",
      "    subjectivists apprehensions muses factory-jobs ...\n",
      "PDT: pre-determiner\n",
      "    all both half many quite such sure this\n",
      "POS: genitive marker\n",
      "    ' 's\n",
      "PRP: pronoun, personal\n",
      "    hers herself him himself hisself it itself me myself one oneself ours\n",
      "    ourselves ownself self she thee theirs them themselves they thou thy us\n",
      "PRP$: pronoun, possessive\n",
      "    her his mine my our ours their thy your\n",
      "RB: adverb\n",
      "    occasionally unabatingly maddeningly adventurously professedly\n",
      "    stirringly prominently technologically magisterially predominately\n",
      "    swiftly fiscally pitilessly ...\n",
      "RBR: adverb, comparative\n",
      "    further gloomier grander graver greater grimmer harder harsher\n",
      "    healthier heavier higher however larger later leaner lengthier less-\n",
      "    perfectly lesser lonelier longer louder lower more ...\n",
      "RBS: adverb, superlative\n",
      "    best biggest bluntest earliest farthest first furthest hardest\n",
      "    heartiest highest largest least less most nearest second tightest worst\n",
      "RP: particle\n",
      "    aboard about across along apart around aside at away back before behind\n",
      "    by crop down ever fast for forth from go high i.e. in into just later\n",
      "    low more off on open out over per pie raising start teeth that through\n",
      "    under unto up up-pp upon whole with you\n",
      "SYM: symbol\n",
      "    % & ' '' ''. ) ). * + ,. < = > @ A[fj] U.S U.S.S.R * ** ***\n",
      "TO: \"to\" as preposition or infinitive marker\n",
      "    to\n",
      "UH: interjection\n",
      "    Goodbye Goody Gosh Wow Jeepers Jee-sus Hubba Hey Kee-reist Oops amen\n",
      "    huh howdy uh dammit whammo shucks heck anyways whodunnit honey golly\n",
      "    man baby diddle hush sonuvabitch ...\n",
      "VB: verb, base form\n",
      "    ask assemble assess assign assume atone attention avoid bake balkanize\n",
      "    bank begin behold believe bend benefit bevel beware bless boil bomb\n",
      "    boost brace break bring broil brush build ...\n",
      "VBD: verb, past tense\n",
      "    dipped pleaded swiped regummed soaked tidied convened halted registered\n",
      "    cushioned exacted snubbed strode aimed adopted belied figgered\n",
      "    speculated wore appreciated contemplated ...\n",
      "VBG: verb, present participle or gerund\n",
      "    telegraphing stirring focusing angering judging stalling lactating\n",
      "    hankerin' alleging veering capping approaching traveling besieging\n",
      "    encrypting interrupting erasing wincing ...\n",
      "VBN: verb, past participle\n",
      "    multihulled dilapidated aerosolized chaired languished panelized used\n",
      "    experimented flourished imitated reunifed factored condensed sheared\n",
      "    unsettled primed dubbed desired ...\n",
      "VBP: verb, present tense, not 3rd person singular\n",
      "    predominate wrap resort sue twist spill cure lengthen brush terminate\n",
      "    appear tend stray glisten obtain comprise detest tease attract\n",
      "    emphasize mold postpone sever return wag ...\n",
      "VBZ: verb, present tense, 3rd person singular\n",
      "    bases reconstructs marks mixes displeases seals carps weaves snatches\n",
      "    slumps stretches authorizes smolders pictures emerges stockpiles\n",
      "    seduces fizzes uses bolsters slaps speaks pleads ...\n",
      "WDT: WH-determiner\n",
      "    that what whatever which whichever\n",
      "WP: WH-pronoun\n",
      "    that what whatever whatsoever which who whom whosoever\n",
      "WP$: WH-pronoun, possessive\n",
      "    whose\n",
      "WRB: Wh-adverb\n",
      "    how however whence whenever where whereby whereever wherein whereof why\n",
      "``: opening quotation mark\n",
      "    ` ``\n"
     ]
    }
   ],
   "execution_count": 20
  },
  {
   "metadata": {},
   "cell_type": "markdown",
   "source": "## Perform Part of sepach tagging using spacy",
   "id": "2e769560f3849b05"
  },
  {
   "metadata": {
    "ExecuteTime": {
     "end_time": "2024-05-31T09:30:11.936838Z",
     "start_time": "2024-05-31T09:30:11.934736Z"
    }
   },
   "cell_type": "code",
   "source": [
    "\n",
    "import spacy"
   ],
   "id": "dafa4b179ccb9c7c",
   "outputs": [],
   "execution_count": 2
  },
  {
   "metadata": {
    "ExecuteTime": {
     "end_time": "2024-05-31T09:30:34.167559Z",
     "start_time": "2024-05-31T09:30:33.794785Z"
    }
   },
   "cell_type": "code",
   "source": "nlp = spacy.load('en_core_web_sm')",
   "id": "99521ecfb5d04647",
   "outputs": [],
   "execution_count": 4
  },
  {
   "metadata": {
    "ExecuteTime": {
     "end_time": "2024-05-31T09:31:01.349808Z",
     "start_time": "2024-05-31T09:31:01.329590Z"
    }
   },
   "cell_type": "code",
   "source": "doc = nlp(text1)",
   "id": "a3a9fdca7abde6a2",
   "outputs": [],
   "execution_count": 12
  },
  {
   "metadata": {
    "ExecuteTime": {
     "end_time": "2024-05-31T09:31:14.262949Z",
     "start_time": "2024-05-31T09:31:14.260018Z"
    }
   },
   "cell_type": "code",
   "source": [
    "for token in doc:\n",
    "    print(token.text, token.pos_)"
   ],
   "id": "d75f12db4ae4d6f5",
   "outputs": [
    {
     "name": "stdout",
     "output_type": "stream",
     "text": [
      "As ADP\n",
      "per ADP\n",
      "your PRON\n",
      "request NOUN\n",
      "' PUNCT\n",
      "Melle PROPN\n",
      "Melle PROPN\n",
      "( PUNCT\n",
      "Oru PROPN\n",
      "Minnaminunginte PROPN\n",
      "Nurungu PROPN\n",
      "Vettam PROPN\n",
      ") PUNCT\n",
      "' PUNCT\n",
      "has AUX\n",
      "been AUX\n",
      "set VERB\n",
      "as ADP\n",
      "your PRON\n",
      "callertune NOUN\n",
      "for ADP\n",
      "all DET\n",
      "Callers PROPN\n",
      ". PUNCT\n",
      "Press PROPN\n",
      "* PUNCT\n",
      "9 NUM\n",
      "to PART\n",
      "copy VERB\n",
      "your PRON\n",
      "friends NOUN\n",
      "Callertune PROPN\n"
     ]
    }
   ],
   "execution_count": 13
  },
  {
   "metadata": {
    "ExecuteTime": {
     "end_time": "2024-05-31T10:01:34.896095Z",
     "start_time": "2024-05-31T10:01:34.893264Z"
    }
   },
   "cell_type": "code",
   "source": [
    "# print the POS tags meaning\n",
    "spacy.explain('PROPN')"
   ],
   "id": "53c7a86f4e6d768e",
   "outputs": [
    {
     "data": {
      "text/plain": [
       "'proper noun'"
      ]
     },
     "execution_count": 20,
     "metadata": {},
     "output_type": "execute_result"
    }
   ],
   "execution_count": 20
  },
  {
   "metadata": {},
   "cell_type": "markdown",
   "source": "## POS tagging using TextBlob",
   "id": "41637d215c634dee"
  },
  {
   "metadata": {
    "ExecuteTime": {
     "end_time": "2024-05-31T09:33:01.933311Z",
     "start_time": "2024-05-31T09:33:01.931389Z"
    }
   },
   "cell_type": "code",
   "source": "from textblob import TextBlob",
   "id": "2745cfa244ee139a",
   "outputs": [],
   "execution_count": 16
  },
  {
   "metadata": {
    "ExecuteTime": {
     "end_time": "2024-05-31T09:33:09.771856Z",
     "start_time": "2024-05-31T09:33:09.769604Z"
    }
   },
   "cell_type": "code",
   "source": "blob = TextBlob(text1)",
   "id": "db4ef6906c495ecd",
   "outputs": [],
   "execution_count": 17
  },
  {
   "metadata": {
    "ExecuteTime": {
     "end_time": "2024-05-31T09:33:17.181514Z",
     "start_time": "2024-05-31T09:33:17.175458Z"
    }
   },
   "cell_type": "code",
   "source": [
    "# POS tagging\n",
    "blob.tags"
   ],
   "id": "5eac67bc7fa4d36f",
   "outputs": [
    {
     "data": {
      "text/plain": [
       "[('As', 'IN'),\n",
       " ('per', 'IN'),\n",
       " ('your', 'PRP$'),\n",
       " ('request', 'NN'),\n",
       " (\"'Melle\", 'POS'),\n",
       " ('Melle', 'NNP'),\n",
       " ('Oru', 'NNP'),\n",
       " ('Minnaminunginte', 'NNP'),\n",
       " ('Nurungu', 'NNP'),\n",
       " ('Vettam', 'NNP'),\n",
       " (\"'\", 'POS'),\n",
       " ('has', 'VBZ'),\n",
       " ('been', 'VBN'),\n",
       " ('set', 'VBN'),\n",
       " ('as', 'IN'),\n",
       " ('your', 'PRP$'),\n",
       " ('callertune', 'NN'),\n",
       " ('for', 'IN'),\n",
       " ('all', 'DT'),\n",
       " ('Callers', 'NNP'),\n",
       " ('Press', 'NNP'),\n",
       " ('*', 'VBD'),\n",
       " ('9', 'CD'),\n",
       " ('to', 'TO'),\n",
       " ('copy', 'VB'),\n",
       " ('your', 'PRP$'),\n",
       " ('friends', 'NNS'),\n",
       " ('Callertune', 'NNP')]"
      ]
     },
     "execution_count": 18,
     "metadata": {},
     "output_type": "execute_result"
    }
   ],
   "execution_count": 18
  },
  {
   "metadata": {
    "ExecuteTime": {
     "end_time": "2024-05-31T10:02:51.918693Z",
     "start_time": "2024-05-31T10:02:51.917113Z"
    }
   },
   "cell_type": "code",
   "source": "",
   "id": "afa4d11e018cbf1a",
   "outputs": [],
   "execution_count": 21
  },
  {
   "metadata": {},
   "cell_type": "markdown",
   "source": "## Exercises",
   "id": "8cba33d0574f26e2"
  },
  {
   "metadata": {},
   "cell_type": "markdown",
   "source": "# 1. Perform Part Of Speech tagging on each text in the spam dataset, and store the results in a new column called `pos`",
   "id": "1f151ff75f948921"
  },
  {
   "metadata": {
    "ExecuteTime": {
     "end_time": "2024-05-29T08:50:54.554435Z",
     "start_time": "2024-05-29T08:50:54.552612Z"
    }
   },
   "cell_type": "code",
   "source": "",
   "id": "8afd5f0a50c614a9",
   "outputs": [],
   "execution_count": 20
  },
  {
   "metadata": {},
   "cell_type": "markdown",
   "source": [
    "2. Find the number of nouns in each text\n",
    "3. Find the number of verbs in each text\n",
    "4. Find the number of adjectives in each text\n",
    "5. Find the number of adverbs in each text\n",
    "6. Find the number of pronouns in each text\n",
    "7. Find the number of prepositions in each text\n",
    "8. Find the number of conjunctions in each text\n",
    "9. Find the number of interjections in each text"
   ],
   "id": "8a393f8d79f2433e"
  },
  {
   "metadata": {},
   "cell_type": "code",
   "outputs": [],
   "execution_count": null,
   "source": "",
   "id": "3b6d1569a9487563"
  }
 ],
 "metadata": {
  "kernelspec": {
   "display_name": "Python 3",
   "language": "python",
   "name": "python3"
  },
  "language_info": {
   "codemirror_mode": {
    "name": "ipython",
    "version": 2
   },
   "file_extension": ".py",
   "mimetype": "text/x-python",
   "name": "python",
   "nbconvert_exporter": "python",
   "pygments_lexer": "ipython2",
   "version": "2.7.6"
  }
 },
 "nbformat": 4,
 "nbformat_minor": 5
}
