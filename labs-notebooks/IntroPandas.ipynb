{
 "cells": [
  {
   "cell_type": "markdown",
   "id": "907c5cb9346005b0",
   "metadata": {},
   "source": [
    "# introduction to pandas\n",
    "\n",
    "* Pandas is a fast, powerful, flexible and easy to use open source data analysis and data manipulation library built on top of the Python programming language.\n",
    "* It is a high-level data manipulation tool developed by Wes McKinney in 2008.\n",
    "* It is built on the Numpy package and its key data structure is called DataFrame.\n",
    "* It is used for data manipulation, data analysis, data cleaning and data visualization.\n",
    "* It is widely used in data science, machine learning and data analytics.\n",
    "* It can handle large datasets and is very fast.\n",
    "* It can read data from various file formats like CSV, Excel, JSON, SQL, HTML, etc.\n",
    "\n",
    "1. [Create Data Frame](#create-a-dataframe)\n",
    "2. [Read CSV File](#read-a-csv-file)\n",
    "3. [Slices and Indexing](#Slicing-and-indexing-a-dataframe)\n",
    "4. [Selecting a Column](#Select-a-column)\n",
    "5. [Basic Statistics](#basic-statistics)\n",
    "6. [Apply a Function](#apply-a-function)\n",
    "7. [Masking](#masking)\n"
   ]
  },
  {
   "cell_type": "code",
   "id": "8fc6d6eb77c0dd81",
   "metadata": {
    "ExecuteTime": {
     "end_time": "2024-05-19T08:40:28.652021Z",
     "start_time": "2024-05-19T08:40:28.649953Z"
    }
   },
   "source": [
    "import pandas as pd\n",
    "import seaborn as sns"
   ],
   "execution_count": 3,
   "outputs": []
  },
  {
   "cell_type": "code",
   "execution_count": 67,
   "id": "6c6206091a6d92b",
   "metadata": {
    "ExecuteTime": {
     "end_time": "2024-05-16T12:49:34.468565Z",
     "start_time": "2024-05-16T12:49:34.466678Z"
    }
   },
   "source": [],
   "outputs": []
  },
  {
   "cell_type": "markdown",
   "id": "330275a995442932",
   "metadata": {},
   "source": [
    "### create a series"
   ]
  },
  {
   "cell_type": "code",
   "execution_count": 67,
   "id": "e8f8c1e5cc0ef529",
   "metadata": {
    "ExecuteTime": {
     "end_time": "2024-05-16T12:49:35.295885Z",
     "start_time": "2024-05-16T12:49:35.293997Z"
    }
   },
   "source": [],
   "outputs": []
  },
  {
   "cell_type": "markdown",
   "id": "e4e147df3c98c40d",
   "metadata": {},
   "source": [
    "### create a dataframe"
   ]
  },
  {
   "cell_type": "code",
   "execution_count": 68,
   "id": "eaeeb96029abe09c",
   "metadata": {
    "ExecuteTime": {
     "end_time": "2024-05-16T12:49:35.621760Z",
     "start_time": "2024-05-16T12:49:35.617993Z"
    }
   },
   "source": [
    "# create a dataframe\n",
    "df = pd.DataFrame({\n",
    "    'name': ['John', 'Smith', 'Paul'],\n",
    "    'age': [23, 45, 32],\n",
    "    'city': ['New York', 'Chicago', 'Los Angeles']\n",
    "})"
   ],
   "outputs": []
  },
  {
   "cell_type": "code",
   "execution_count": 69,
   "id": "3e01b1079b2aef1c",
   "metadata": {
    "ExecuteTime": {
     "end_time": "2024-05-16T12:49:35.786101Z",
     "start_time": "2024-05-16T12:49:35.781352Z"
    }
   },
   "source": [
    "df"
   ],
   "outputs": []
  },
  {
   "cell_type": "markdown",
   "id": "e97a8b3becdc0773",
   "metadata": {},
   "source": [
    "### read a csv file"
   ]
  },
  {
   "cell_type": "code",
   "id": "cc8acd64aa07973b",
   "metadata": {
    "ExecuteTime": {
     "end_time": "2024-05-19T08:40:31.488834Z",
     "start_time": "2024-05-19T08:40:31.484080Z"
    }
   },
   "source": [
    "\n",
    "iris = sns.load_dataset('iris')"
   ],
   "execution_count": 4,
   "outputs": []
  },
  {
   "cell_type": "code",
   "execution_count": 71,
   "id": "30c7bbd284663c39",
   "metadata": {
    "ExecuteTime": {
     "end_time": "2024-05-16T12:49:36.235900Z",
     "start_time": "2024-05-16T12:49:36.231664Z"
    }
   },
   "source": [
    "# head and tail\n",
    "iris.head()"
   ],
   "outputs": []
  },
  {
   "cell_type": "markdown",
   "id": "e570f0a0ebfee7e7",
   "metadata": {},
   "source": [
    "## Slicing and indexing a dataframe"
   ]
  },
  {
   "cell_type": "code",
   "execution_count": 72,
   "id": "565d2e53423ac970",
   "metadata": {
    "ExecuteTime": {
     "end_time": "2024-05-16T12:49:36.544709Z",
     "start_time": "2024-05-16T12:49:36.540585Z"
    }
   },
   "source": [
    "# Slice a dataframe\n",
    "iris.iloc[0:5, 0:2]"
   ],
   "outputs": []
  },
  {
   "cell_type": "code",
   "execution_count": 73,
   "id": "df02eed57e57cc14",
   "metadata": {
    "ExecuteTime": {
     "end_time": "2024-05-16T12:49:36.682761Z",
     "start_time": "2024-05-16T12:49:36.677829Z"
    }
   },
   "source": [
    "iris.loc[0:5, 'sepal_length':'petal_width']"
   ],
   "outputs": []
  },
  {
   "cell_type": "markdown",
   "id": "b271a07b32f3a0b2",
   "metadata": {},
   "source": [
    "## Select a column"
   ]
  },
  {
   "cell_type": "code",
   "execution_count": 74,
   "id": "18fa7bc14d9dfd74",
   "metadata": {
    "ExecuteTime": {
     "end_time": "2024-05-16T12:49:36.949936Z",
     "start_time": "2024-05-16T12:49:36.946841Z"
    }
   },
   "source": [
    "iris.species"
   ],
   "outputs": []
  },
  {
   "cell_type": "code",
   "execution_count": 75,
   "id": "45f732aa2015f1e3",
   "metadata": {
    "ExecuteTime": {
     "end_time": "2024-05-16T12:49:37.119519Z",
     "start_time": "2024-05-16T12:49:37.116302Z"
    }
   },
   "source": [
    "iris['species']"
   ],
   "outputs": []
  },
  {
   "cell_type": "code",
   "execution_count": 76,
   "id": "4b22fc79b19cdc9a",
   "metadata": {
    "ExecuteTime": {
     "end_time": "2024-05-16T12:49:37.254115Z",
     "start_time": "2024-05-16T12:49:37.250548Z"
    }
   },
   "source": [
    "iris[['species']]"
   ],
   "outputs": []
  },
  {
   "metadata": {},
   "cell_type": "code",
   "execution_count": null,
   "source": "# Drop a column",
   "id": "34e2cfa19645f15b",
   "outputs": []
  },
  {
   "metadata": {
    "ExecuteTime": {
     "end_time": "2024-05-19T08:40:35.734548Z",
     "start_time": "2024-05-19T08:40:35.728978Z"
    }
   },
   "cell_type": "code",
   "source": [
    "# finding missing values\n",
    "iris.isnull().sum()"
   ],
   "id": "f2ce68febbb67b13",
   "execution_count": 5,
   "outputs": []
  },
  {
   "cell_type": "code",
   "execution_count": 76,
   "id": "efea8ffee899004b",
   "metadata": {
    "ExecuteTime": {
     "end_time": "2024-05-16T12:49:37.412753Z",
     "start_time": "2024-05-16T12:49:37.411229Z"
    }
   },
   "source": [],
   "outputs": []
  },
  {
   "cell_type": "code",
   "execution_count": 76,
   "id": "43c6e1baea5d7935",
   "metadata": {
    "ExecuteTime": {
     "end_time": "2024-05-16T12:49:37.597536Z",
     "start_time": "2024-05-16T12:49:37.596040Z"
    }
   },
   "source": [],
   "outputs": []
  },
  {
   "cell_type": "markdown",
   "id": "4fc6fbaf9caf9d05",
   "metadata": {},
   "source": [
    "## Basic statistics"
   ]
  },
  {
   "cell_type": "code",
   "execution_count": 77,
   "id": "3959a8763ca0f062",
   "metadata": {
    "ExecuteTime": {
     "end_time": "2024-05-16T12:49:37.895081Z",
     "start_time": "2024-05-16T12:49:37.891276Z"
    }
   },
   "source": [
    "iris.petal_length.describe()"
   ],
   "outputs": []
  },
  {
   "cell_type": "code",
   "execution_count": 78,
   "id": "57ca7942d3149e04",
   "metadata": {
    "ExecuteTime": {
     "end_time": "2024-05-16T12:49:38.050486Z",
     "start_time": "2024-05-16T12:49:38.047196Z"
    }
   },
   "source": [
    "iris.petal_length.quantile([0.25, 0.75])"
   ],
   "outputs": []
  },
  {
   "cell_type": "code",
   "execution_count": 79,
   "id": "25ff25e3fea1bf58",
   "metadata": {
    "ExecuteTime": {
     "end_time": "2024-05-16T12:49:38.218086Z",
     "start_time": "2024-05-16T12:49:38.215178Z"
    }
   },
   "source": [
    "# min and max, median, mean\n",
    "iris.petal_length.min(), iris.petal_length.max(), iris.petal_length.median(), iris.petal_length.mean()"
   ],
   "outputs": []
  },
  {
   "cell_type": "code",
   "execution_count": 80,
   "id": "89733155583f4e08",
   "metadata": {
    "ExecuteTime": {
     "end_time": "2024-05-17T07:12:10.312211Z",
     "start_time": "2024-05-17T07:12:10.302533Z"
    }
   },
   "source": [
    "iris[[\"sepal_length\", \"petal_width\"]].corr()"
   ],
   "outputs": []
  },
  {
   "cell_type": "code",
   "execution_count": 81,
   "id": "86284aee134d6712",
   "metadata": {
    "ExecuteTime": {
     "end_time": "2024-05-17T07:12:22.749099Z",
     "start_time": "2024-05-17T07:12:22.745331Z"
    }
   },
   "source": [
    "iris[[\"petal_length\", \"petal_width\"]].corr()"
   ],
   "outputs": []
  },
  {
   "cell_type": "markdown",
   "id": "b05c404ca39f37ad",
   "metadata": {},
   "source": [
    "## apply a function"
   ]
  },
  {
   "cell_type": "code",
   "execution_count": 79,
   "id": "98d1d4005b31fde4",
   "metadata": {
    "ExecuteTime": {
     "end_time": "2024-05-16T12:49:38.883304Z",
     "start_time": "2024-05-16T12:49:38.881776Z"
    }
   },
   "source": [],
   "outputs": []
  },
  {
   "cell_type": "code",
   "execution_count": 79,
   "id": "67a47ab39a4fb21e",
   "metadata": {
    "ExecuteTime": {
     "end_time": "2024-05-16T12:49:39.288266Z",
     "start_time": "2024-05-16T12:49:39.287033Z"
    }
   },
   "source": [],
   "outputs": []
  },
  {
   "cell_type": "markdown",
   "id": "303bb9bcf0aad06b",
   "metadata": {},
   "source": [
    "## masking"
   ]
  },
  {
   "cell_type": "code",
   "execution_count": 79,
   "id": "fad9deaf0563a0aa",
   "metadata": {
    "ExecuteTime": {
     "end_time": "2024-05-16T12:49:39.668199Z",
     "start_time": "2024-05-16T12:49:39.666664Z"
    }
   },
   "source": [],
   "outputs": []
  },
  {
   "cell_type": "code",
   "execution_count": 79,
   "id": "d361c62ed097ae2f",
   "metadata": {
    "ExecuteTime": {
     "end_time": "2024-05-16T12:49:39.997840Z",
     "start_time": "2024-05-16T12:49:39.996341Z"
    }
   },
   "source": [],
   "outputs": []
  },
  {
   "cell_type": "code",
   "execution_count": 79,
   "id": "c03ad53e6f17f9e2",
   "metadata": {
    "ExecuteTime": {
     "end_time": "2024-05-16T12:49:40.512561Z",
     "start_time": "2024-05-16T12:49:40.510985Z"
    }
   },
   "source": [],
   "outputs": []
  },
  {
   "cell_type": "markdown",
   "id": "c43bc99afe975db6",
   "metadata": {},
   "source": [
    "## group-by"
   ]
  },
  {
   "cell_type": "code",
   "execution_count": 79,
   "id": "ad20ca90762af07e",
   "metadata": {
    "ExecuteTime": {
     "end_time": "2024-05-16T12:49:41.162148Z",
     "start_time": "2024-05-16T12:49:41.160702Z"
    }
   },
   "source": [],
   "outputs": []
  },
  {
   "cell_type": "code",
   "execution_count": 79,
   "id": "bc33dc39085d16d5",
   "metadata": {
    "ExecuteTime": {
     "end_time": "2024-05-16T12:49:41.746019Z",
     "start_time": "2024-05-16T12:49:41.744462Z"
    }
   },
   "source": [],
   "outputs": []
  },
  {
   "cell_type": "code",
   "execution_count": null,
   "id": "ff126352a3db4e17",
   "metadata": {},
   "source": [],
   "outputs": []
  }
 ],
 "metadata": {
  "kernelspec": {
   "display_name": "Python 3 (ipykernel)",
   "language": "python",
   "name": "python3"
  },
  "language_info": {
   "codemirror_mode": {
    "name": "ipython",
    "version": 3
   },
   "file_extension": ".py",
   "mimetype": "text/x-python",
   "name": "python",
   "nbconvert_exporter": "python",
   "pygments_lexer": "ipython3",
   "version": "3.12.0"
  }
 },
 "nbformat": 4,
 "nbformat_minor": 5
}
