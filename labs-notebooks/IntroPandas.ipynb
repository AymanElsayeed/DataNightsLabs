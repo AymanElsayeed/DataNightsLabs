{
 "cells": [
  {
   "metadata": {},
   "cell_type": "markdown",
   "source": [
    "# introduction to pandas\n",
    "\n",
    "* Pandas is a fast, powerful, flexible and easy to use open source data analysis and data manipulation library built on top of the Python programming language.\n",
    "* It is a high-level data manipulation tool developed by Wes McKinney in 2008.\n",
    "* It is built on the Numpy package and its key data structure is called DataFrame.\n",
    "* It is used for data manipulation, data analysis, data cleaning and data visualization.\n",
    "* It is widely used in data science, machine learning and data analytics.\n",
    "* It can handle large datasets and is very fast.\n",
    "* It can read data from various file formats like CSV, Excel, JSON, SQL, HTML, etc.\n",
    "\n",
    "1. [Create Data Frame](#create-a-dataframe)\n",
    "2. [Read CSV File](#read-a-csv-file)\n",
    "3. [Slices and Indexing](#Slicing-and-indexing-a-dataframe)\n",
    "4. [Selecting a Column](#Select-a-column)\n",
    "5. [Basic Statistics](#basic-statistics)\n",
    "6. [Apply a Function](#apply-a-function)\n",
    "7. [Masking](#masking)\n"
   ],
   "id": "907c5cb9346005b0"
  },
  {
   "metadata": {
    "ExecuteTime": {
     "end_time": "2024-05-16T12:49:33.991810Z",
     "start_time": "2024-05-16T12:49:33.986771Z"
    }
   },
   "cell_type": "code",
   "source": "",
   "id": "fa94bd66dc1d7ae2",
   "outputs": [],
   "execution_count": 66
  },
  {
   "metadata": {
    "ExecuteTime": {
     "end_time": "2024-05-16T12:49:34.178244Z",
     "start_time": "2024-05-16T12:49:34.175521Z"
    }
   },
   "cell_type": "code",
   "source": [
    "import pandas as pd\n",
    "import seaborn as sns"
   ],
   "id": "8fc6d6eb77c0dd81",
   "outputs": [],
   "execution_count": 67
  },
  {
   "metadata": {
    "ExecuteTime": {
     "end_time": "2024-05-16T12:49:34.468565Z",
     "start_time": "2024-05-16T12:49:34.466678Z"
    }
   },
   "cell_type": "code",
   "source": "",
   "id": "6c6206091a6d92b",
   "outputs": [],
   "execution_count": 67
  },
  {
   "metadata": {},
   "cell_type": "markdown",
   "source": "### create a series",
   "id": "330275a995442932"
  },
  {
   "metadata": {
    "ExecuteTime": {
     "end_time": "2024-05-16T12:49:35.295885Z",
     "start_time": "2024-05-16T12:49:35.293997Z"
    }
   },
   "cell_type": "code",
   "source": "",
   "id": "e8f8c1e5cc0ef529",
   "outputs": [],
   "execution_count": 67
  },
  {
   "metadata": {},
   "cell_type": "markdown",
   "source": "### create a dataframe",
   "id": "e4e147df3c98c40d"
  },
  {
   "metadata": {
    "ExecuteTime": {
     "end_time": "2024-05-16T12:49:35.621760Z",
     "start_time": "2024-05-16T12:49:35.617993Z"
    }
   },
   "cell_type": "code",
   "source": [
    "# create a dataframe\n",
    "df = pd.DataFrame({\n",
    "    'name': ['John', 'Smith', 'Paul'],\n",
    "    'age': [23, 45, 32],\n",
    "    'city': ['New York', 'Chicago', 'Los Angeles']\n",
    "})"
   ],
   "id": "eaeeb96029abe09c",
   "outputs": [],
   "execution_count": 68
  },
  {
   "metadata": {
    "ExecuteTime": {
     "end_time": "2024-05-16T12:49:35.786101Z",
     "start_time": "2024-05-16T12:49:35.781352Z"
    }
   },
   "cell_type": "code",
   "source": "df",
   "id": "3e01b1079b2aef1c",
   "outputs": [
    {
     "data": {
      "text/plain": [
       "    name  age         city\n",
       "0   John   23     New York\n",
       "1  Smith   45      Chicago\n",
       "2   Paul   32  Los Angeles"
      ],
      "text/html": [
       "<div>\n",
       "<style scoped>\n",
       "    .dataframe tbody tr th:only-of-type {\n",
       "        vertical-align: middle;\n",
       "    }\n",
       "\n",
       "    .dataframe tbody tr th {\n",
       "        vertical-align: top;\n",
       "    }\n",
       "\n",
       "    .dataframe thead th {\n",
       "        text-align: right;\n",
       "    }\n",
       "</style>\n",
       "<table border=\"1\" class=\"dataframe\">\n",
       "  <thead>\n",
       "    <tr style=\"text-align: right;\">\n",
       "      <th></th>\n",
       "      <th>name</th>\n",
       "      <th>age</th>\n",
       "      <th>city</th>\n",
       "    </tr>\n",
       "  </thead>\n",
       "  <tbody>\n",
       "    <tr>\n",
       "      <th>0</th>\n",
       "      <td>John</td>\n",
       "      <td>23</td>\n",
       "      <td>New York</td>\n",
       "    </tr>\n",
       "    <tr>\n",
       "      <th>1</th>\n",
       "      <td>Smith</td>\n",
       "      <td>45</td>\n",
       "      <td>Chicago</td>\n",
       "    </tr>\n",
       "    <tr>\n",
       "      <th>2</th>\n",
       "      <td>Paul</td>\n",
       "      <td>32</td>\n",
       "      <td>Los Angeles</td>\n",
       "    </tr>\n",
       "  </tbody>\n",
       "</table>\n",
       "</div>"
      ]
     },
     "execution_count": 69,
     "metadata": {},
     "output_type": "execute_result"
    }
   ],
   "execution_count": 69
  },
  {
   "metadata": {},
   "cell_type": "markdown",
   "source": "### read a csv file",
   "id": "e97a8b3becdc0773"
  },
  {
   "metadata": {
    "ExecuteTime": {
     "end_time": "2024-05-16T12:49:36.110599Z",
     "start_time": "2024-05-16T12:49:36.105822Z"
    }
   },
   "cell_type": "code",
   "source": [
    "\n",
    "iris = sns.load_dataset('iris')"
   ],
   "id": "cc8acd64aa07973b",
   "outputs": [],
   "execution_count": 70
  },
  {
   "metadata": {
    "ExecuteTime": {
     "end_time": "2024-05-16T12:49:36.235900Z",
     "start_time": "2024-05-16T12:49:36.231664Z"
    }
   },
   "cell_type": "code",
   "source": [
    "# head and tail\n",
    "iris.head()"
   ],
   "id": "30c7bbd284663c39",
   "outputs": [
    {
     "data": {
      "text/plain": [
       "   sepal_length  sepal_width  petal_length  petal_width species\n",
       "0           5.1          3.5           1.4          0.2  setosa\n",
       "1           4.9          3.0           1.4          0.2  setosa\n",
       "2           4.7          3.2           1.3          0.2  setosa\n",
       "3           4.6          3.1           1.5          0.2  setosa\n",
       "4           5.0          3.6           1.4          0.2  setosa"
      ],
      "text/html": [
       "<div>\n",
       "<style scoped>\n",
       "    .dataframe tbody tr th:only-of-type {\n",
       "        vertical-align: middle;\n",
       "    }\n",
       "\n",
       "    .dataframe tbody tr th {\n",
       "        vertical-align: top;\n",
       "    }\n",
       "\n",
       "    .dataframe thead th {\n",
       "        text-align: right;\n",
       "    }\n",
       "</style>\n",
       "<table border=\"1\" class=\"dataframe\">\n",
       "  <thead>\n",
       "    <tr style=\"text-align: right;\">\n",
       "      <th></th>\n",
       "      <th>sepal_length</th>\n",
       "      <th>sepal_width</th>\n",
       "      <th>petal_length</th>\n",
       "      <th>petal_width</th>\n",
       "      <th>species</th>\n",
       "    </tr>\n",
       "  </thead>\n",
       "  <tbody>\n",
       "    <tr>\n",
       "      <th>0</th>\n",
       "      <td>5.1</td>\n",
       "      <td>3.5</td>\n",
       "      <td>1.4</td>\n",
       "      <td>0.2</td>\n",
       "      <td>setosa</td>\n",
       "    </tr>\n",
       "    <tr>\n",
       "      <th>1</th>\n",
       "      <td>4.9</td>\n",
       "      <td>3.0</td>\n",
       "      <td>1.4</td>\n",
       "      <td>0.2</td>\n",
       "      <td>setosa</td>\n",
       "    </tr>\n",
       "    <tr>\n",
       "      <th>2</th>\n",
       "      <td>4.7</td>\n",
       "      <td>3.2</td>\n",
       "      <td>1.3</td>\n",
       "      <td>0.2</td>\n",
       "      <td>setosa</td>\n",
       "    </tr>\n",
       "    <tr>\n",
       "      <th>3</th>\n",
       "      <td>4.6</td>\n",
       "      <td>3.1</td>\n",
       "      <td>1.5</td>\n",
       "      <td>0.2</td>\n",
       "      <td>setosa</td>\n",
       "    </tr>\n",
       "    <tr>\n",
       "      <th>4</th>\n",
       "      <td>5.0</td>\n",
       "      <td>3.6</td>\n",
       "      <td>1.4</td>\n",
       "      <td>0.2</td>\n",
       "      <td>setosa</td>\n",
       "    </tr>\n",
       "  </tbody>\n",
       "</table>\n",
       "</div>"
      ]
     },
     "execution_count": 71,
     "metadata": {},
     "output_type": "execute_result"
    }
   ],
   "execution_count": 71
  },
  {
   "metadata": {},
   "cell_type": "markdown",
   "source": "## Slicing and indexing a dataframe",
   "id": "e570f0a0ebfee7e7"
  },
  {
   "metadata": {
    "ExecuteTime": {
     "end_time": "2024-05-16T12:49:36.544709Z",
     "start_time": "2024-05-16T12:49:36.540585Z"
    }
   },
   "cell_type": "code",
   "source": [
    "# Slice a dataframe\n",
    "iris.iloc[0:5, 0:2]"
   ],
   "id": "565d2e53423ac970",
   "outputs": [
    {
     "data": {
      "text/plain": [
       "   sepal_length  sepal_width\n",
       "0           5.1          3.5\n",
       "1           4.9          3.0\n",
       "2           4.7          3.2\n",
       "3           4.6          3.1\n",
       "4           5.0          3.6"
      ],
      "text/html": [
       "<div>\n",
       "<style scoped>\n",
       "    .dataframe tbody tr th:only-of-type {\n",
       "        vertical-align: middle;\n",
       "    }\n",
       "\n",
       "    .dataframe tbody tr th {\n",
       "        vertical-align: top;\n",
       "    }\n",
       "\n",
       "    .dataframe thead th {\n",
       "        text-align: right;\n",
       "    }\n",
       "</style>\n",
       "<table border=\"1\" class=\"dataframe\">\n",
       "  <thead>\n",
       "    <tr style=\"text-align: right;\">\n",
       "      <th></th>\n",
       "      <th>sepal_length</th>\n",
       "      <th>sepal_width</th>\n",
       "    </tr>\n",
       "  </thead>\n",
       "  <tbody>\n",
       "    <tr>\n",
       "      <th>0</th>\n",
       "      <td>5.1</td>\n",
       "      <td>3.5</td>\n",
       "    </tr>\n",
       "    <tr>\n",
       "      <th>1</th>\n",
       "      <td>4.9</td>\n",
       "      <td>3.0</td>\n",
       "    </tr>\n",
       "    <tr>\n",
       "      <th>2</th>\n",
       "      <td>4.7</td>\n",
       "      <td>3.2</td>\n",
       "    </tr>\n",
       "    <tr>\n",
       "      <th>3</th>\n",
       "      <td>4.6</td>\n",
       "      <td>3.1</td>\n",
       "    </tr>\n",
       "    <tr>\n",
       "      <th>4</th>\n",
       "      <td>5.0</td>\n",
       "      <td>3.6</td>\n",
       "    </tr>\n",
       "  </tbody>\n",
       "</table>\n",
       "</div>"
      ]
     },
     "execution_count": 72,
     "metadata": {},
     "output_type": "execute_result"
    }
   ],
   "execution_count": 72
  },
  {
   "metadata": {
    "ExecuteTime": {
     "end_time": "2024-05-16T12:49:36.682761Z",
     "start_time": "2024-05-16T12:49:36.677829Z"
    }
   },
   "cell_type": "code",
   "source": "iris.loc[0:5, 'sepal_length':'petal_width']",
   "id": "df02eed57e57cc14",
   "outputs": [
    {
     "data": {
      "text/plain": [
       "   sepal_length  sepal_width  petal_length  petal_width\n",
       "0           5.1          3.5           1.4          0.2\n",
       "1           4.9          3.0           1.4          0.2\n",
       "2           4.7          3.2           1.3          0.2\n",
       "3           4.6          3.1           1.5          0.2\n",
       "4           5.0          3.6           1.4          0.2\n",
       "5           5.4          3.9           1.7          0.4"
      ],
      "text/html": [
       "<div>\n",
       "<style scoped>\n",
       "    .dataframe tbody tr th:only-of-type {\n",
       "        vertical-align: middle;\n",
       "    }\n",
       "\n",
       "    .dataframe tbody tr th {\n",
       "        vertical-align: top;\n",
       "    }\n",
       "\n",
       "    .dataframe thead th {\n",
       "        text-align: right;\n",
       "    }\n",
       "</style>\n",
       "<table border=\"1\" class=\"dataframe\">\n",
       "  <thead>\n",
       "    <tr style=\"text-align: right;\">\n",
       "      <th></th>\n",
       "      <th>sepal_length</th>\n",
       "      <th>sepal_width</th>\n",
       "      <th>petal_length</th>\n",
       "      <th>petal_width</th>\n",
       "    </tr>\n",
       "  </thead>\n",
       "  <tbody>\n",
       "    <tr>\n",
       "      <th>0</th>\n",
       "      <td>5.1</td>\n",
       "      <td>3.5</td>\n",
       "      <td>1.4</td>\n",
       "      <td>0.2</td>\n",
       "    </tr>\n",
       "    <tr>\n",
       "      <th>1</th>\n",
       "      <td>4.9</td>\n",
       "      <td>3.0</td>\n",
       "      <td>1.4</td>\n",
       "      <td>0.2</td>\n",
       "    </tr>\n",
       "    <tr>\n",
       "      <th>2</th>\n",
       "      <td>4.7</td>\n",
       "      <td>3.2</td>\n",
       "      <td>1.3</td>\n",
       "      <td>0.2</td>\n",
       "    </tr>\n",
       "    <tr>\n",
       "      <th>3</th>\n",
       "      <td>4.6</td>\n",
       "      <td>3.1</td>\n",
       "      <td>1.5</td>\n",
       "      <td>0.2</td>\n",
       "    </tr>\n",
       "    <tr>\n",
       "      <th>4</th>\n",
       "      <td>5.0</td>\n",
       "      <td>3.6</td>\n",
       "      <td>1.4</td>\n",
       "      <td>0.2</td>\n",
       "    </tr>\n",
       "    <tr>\n",
       "      <th>5</th>\n",
       "      <td>5.4</td>\n",
       "      <td>3.9</td>\n",
       "      <td>1.7</td>\n",
       "      <td>0.4</td>\n",
       "    </tr>\n",
       "  </tbody>\n",
       "</table>\n",
       "</div>"
      ]
     },
     "execution_count": 73,
     "metadata": {},
     "output_type": "execute_result"
    }
   ],
   "execution_count": 73
  },
  {
   "metadata": {},
   "cell_type": "markdown",
   "source": "## Select a column",
   "id": "b271a07b32f3a0b2"
  },
  {
   "metadata": {
    "ExecuteTime": {
     "end_time": "2024-05-16T12:49:36.949936Z",
     "start_time": "2024-05-16T12:49:36.946841Z"
    }
   },
   "cell_type": "code",
   "source": "iris.species",
   "id": "18fa7bc14d9dfd74",
   "outputs": [
    {
     "data": {
      "text/plain": [
       "0         setosa\n",
       "1         setosa\n",
       "2         setosa\n",
       "3         setosa\n",
       "4         setosa\n",
       "         ...    \n",
       "145    virginica\n",
       "146    virginica\n",
       "147    virginica\n",
       "148    virginica\n",
       "149    virginica\n",
       "Name: species, Length: 150, dtype: object"
      ]
     },
     "execution_count": 74,
     "metadata": {},
     "output_type": "execute_result"
    }
   ],
   "execution_count": 74
  },
  {
   "metadata": {
    "ExecuteTime": {
     "end_time": "2024-05-16T12:49:37.119519Z",
     "start_time": "2024-05-16T12:49:37.116302Z"
    }
   },
   "cell_type": "code",
   "source": "iris['species']",
   "id": "45f732aa2015f1e3",
   "outputs": [
    {
     "data": {
      "text/plain": [
       "0         setosa\n",
       "1         setosa\n",
       "2         setosa\n",
       "3         setosa\n",
       "4         setosa\n",
       "         ...    \n",
       "145    virginica\n",
       "146    virginica\n",
       "147    virginica\n",
       "148    virginica\n",
       "149    virginica\n",
       "Name: species, Length: 150, dtype: object"
      ]
     },
     "execution_count": 75,
     "metadata": {},
     "output_type": "execute_result"
    }
   ],
   "execution_count": 75
  },
  {
   "metadata": {
    "ExecuteTime": {
     "end_time": "2024-05-16T12:49:37.254115Z",
     "start_time": "2024-05-16T12:49:37.250548Z"
    }
   },
   "cell_type": "code",
   "source": "iris[['species']]",
   "id": "4b22fc79b19cdc9a",
   "outputs": [
    {
     "data": {
      "text/plain": [
       "       species\n",
       "0       setosa\n",
       "1       setosa\n",
       "2       setosa\n",
       "3       setosa\n",
       "4       setosa\n",
       "..         ...\n",
       "145  virginica\n",
       "146  virginica\n",
       "147  virginica\n",
       "148  virginica\n",
       "149  virginica\n",
       "\n",
       "[150 rows x 1 columns]"
      ],
      "text/html": [
       "<div>\n",
       "<style scoped>\n",
       "    .dataframe tbody tr th:only-of-type {\n",
       "        vertical-align: middle;\n",
       "    }\n",
       "\n",
       "    .dataframe tbody tr th {\n",
       "        vertical-align: top;\n",
       "    }\n",
       "\n",
       "    .dataframe thead th {\n",
       "        text-align: right;\n",
       "    }\n",
       "</style>\n",
       "<table border=\"1\" class=\"dataframe\">\n",
       "  <thead>\n",
       "    <tr style=\"text-align: right;\">\n",
       "      <th></th>\n",
       "      <th>species</th>\n",
       "    </tr>\n",
       "  </thead>\n",
       "  <tbody>\n",
       "    <tr>\n",
       "      <th>0</th>\n",
       "      <td>setosa</td>\n",
       "    </tr>\n",
       "    <tr>\n",
       "      <th>1</th>\n",
       "      <td>setosa</td>\n",
       "    </tr>\n",
       "    <tr>\n",
       "      <th>2</th>\n",
       "      <td>setosa</td>\n",
       "    </tr>\n",
       "    <tr>\n",
       "      <th>3</th>\n",
       "      <td>setosa</td>\n",
       "    </tr>\n",
       "    <tr>\n",
       "      <th>4</th>\n",
       "      <td>setosa</td>\n",
       "    </tr>\n",
       "    <tr>\n",
       "      <th>...</th>\n",
       "      <td>...</td>\n",
       "    </tr>\n",
       "    <tr>\n",
       "      <th>145</th>\n",
       "      <td>virginica</td>\n",
       "    </tr>\n",
       "    <tr>\n",
       "      <th>146</th>\n",
       "      <td>virginica</td>\n",
       "    </tr>\n",
       "    <tr>\n",
       "      <th>147</th>\n",
       "      <td>virginica</td>\n",
       "    </tr>\n",
       "    <tr>\n",
       "      <th>148</th>\n",
       "      <td>virginica</td>\n",
       "    </tr>\n",
       "    <tr>\n",
       "      <th>149</th>\n",
       "      <td>virginica</td>\n",
       "    </tr>\n",
       "  </tbody>\n",
       "</table>\n",
       "<p>150 rows × 1 columns</p>\n",
       "</div>"
      ]
     },
     "execution_count": 76,
     "metadata": {},
     "output_type": "execute_result"
    }
   ],
   "execution_count": 76
  },
  {
   "metadata": {
    "ExecuteTime": {
     "end_time": "2024-05-16T12:49:37.412753Z",
     "start_time": "2024-05-16T12:49:37.411229Z"
    }
   },
   "cell_type": "code",
   "source": "",
   "id": "efea8ffee899004b",
   "outputs": [],
   "execution_count": 76
  },
  {
   "metadata": {
    "ExecuteTime": {
     "end_time": "2024-05-16T12:49:37.597536Z",
     "start_time": "2024-05-16T12:49:37.596040Z"
    }
   },
   "cell_type": "code",
   "source": "",
   "id": "43c6e1baea5d7935",
   "outputs": [],
   "execution_count": 76
  },
  {
   "metadata": {},
   "cell_type": "markdown",
   "source": "## Basic statistics",
   "id": "4fc6fbaf9caf9d05"
  },
  {
   "metadata": {
    "ExecuteTime": {
     "end_time": "2024-05-16T12:49:37.895081Z",
     "start_time": "2024-05-16T12:49:37.891276Z"
    }
   },
   "cell_type": "code",
   "source": "iris.petal_length.describe()",
   "id": "3959a8763ca0f062",
   "outputs": [
    {
     "data": {
      "text/plain": [
       "count    150.000000\n",
       "mean       3.758000\n",
       "std        1.765298\n",
       "min        1.000000\n",
       "25%        1.600000\n",
       "50%        4.350000\n",
       "75%        5.100000\n",
       "max        6.900000\n",
       "Name: petal_length, dtype: float64"
      ]
     },
     "execution_count": 77,
     "metadata": {},
     "output_type": "execute_result"
    }
   ],
   "execution_count": 77
  },
  {
   "metadata": {
    "ExecuteTime": {
     "end_time": "2024-05-16T12:49:38.050486Z",
     "start_time": "2024-05-16T12:49:38.047196Z"
    }
   },
   "cell_type": "code",
   "source": "iris.petal_length.quantile([0.25, 0.75])",
   "id": "57ca7942d3149e04",
   "outputs": [
    {
     "data": {
      "text/plain": [
       "0.25    1.6\n",
       "0.75    5.1\n",
       "Name: petal_length, dtype: float64"
      ]
     },
     "execution_count": 78,
     "metadata": {},
     "output_type": "execute_result"
    }
   ],
   "execution_count": 78
  },
  {
   "metadata": {
    "ExecuteTime": {
     "end_time": "2024-05-16T12:49:38.218086Z",
     "start_time": "2024-05-16T12:49:38.215178Z"
    }
   },
   "cell_type": "code",
   "source": [
    "# min and max, median, mean\n",
    "iris.petal_length.min(), iris.petal_length.max(), iris.petal_length.median(), iris.petal_length.mean()"
   ],
   "id": "25ff25e3fea1bf58",
   "outputs": [
    {
     "data": {
      "text/plain": [
       "(1.0, 6.9, 4.35, 3.7580000000000005)"
      ]
     },
     "execution_count": 79,
     "metadata": {},
     "output_type": "execute_result"
    }
   ],
   "execution_count": 79
  },
  {
   "cell_type": "code",
   "id": "89733155583f4e08",
   "metadata": {
    "ExecuteTime": {
     "end_time": "2024-05-17T07:12:10.312211Z",
     "start_time": "2024-05-17T07:12:10.302533Z"
    }
   },
   "source": "iris[[\"sepal_length\", \"petal_width\"]].corr()",
   "outputs": [
    {
     "data": {
      "text/plain": [
       "              sepal_length  petal_width\n",
       "sepal_length      1.000000     0.817941\n",
       "petal_width       0.817941     1.000000"
      ],
      "text/html": [
       "<div>\n",
       "<style scoped>\n",
       "    .dataframe tbody tr th:only-of-type {\n",
       "        vertical-align: middle;\n",
       "    }\n",
       "\n",
       "    .dataframe tbody tr th {\n",
       "        vertical-align: top;\n",
       "    }\n",
       "\n",
       "    .dataframe thead th {\n",
       "        text-align: right;\n",
       "    }\n",
       "</style>\n",
       "<table border=\"1\" class=\"dataframe\">\n",
       "  <thead>\n",
       "    <tr style=\"text-align: right;\">\n",
       "      <th></th>\n",
       "      <th>sepal_length</th>\n",
       "      <th>petal_width</th>\n",
       "    </tr>\n",
       "  </thead>\n",
       "  <tbody>\n",
       "    <tr>\n",
       "      <th>sepal_length</th>\n",
       "      <td>1.000000</td>\n",
       "      <td>0.817941</td>\n",
       "    </tr>\n",
       "    <tr>\n",
       "      <th>petal_width</th>\n",
       "      <td>0.817941</td>\n",
       "      <td>1.000000</td>\n",
       "    </tr>\n",
       "  </tbody>\n",
       "</table>\n",
       "</div>"
      ]
     },
     "execution_count": 80,
     "metadata": {},
     "output_type": "execute_result"
    }
   ],
   "execution_count": 80
  },
  {
   "metadata": {
    "ExecuteTime": {
     "end_time": "2024-05-17T07:12:22.749099Z",
     "start_time": "2024-05-17T07:12:22.745331Z"
    }
   },
   "cell_type": "code",
   "source": "iris[[\"petal_length\", \"petal_width\"]].corr()",
   "id": "86284aee134d6712",
   "outputs": [
    {
     "data": {
      "text/plain": [
       "              petal_length  petal_width\n",
       "petal_length      1.000000     0.962865\n",
       "petal_width       0.962865     1.000000"
      ],
      "text/html": [
       "<div>\n",
       "<style scoped>\n",
       "    .dataframe tbody tr th:only-of-type {\n",
       "        vertical-align: middle;\n",
       "    }\n",
       "\n",
       "    .dataframe tbody tr th {\n",
       "        vertical-align: top;\n",
       "    }\n",
       "\n",
       "    .dataframe thead th {\n",
       "        text-align: right;\n",
       "    }\n",
       "</style>\n",
       "<table border=\"1\" class=\"dataframe\">\n",
       "  <thead>\n",
       "    <tr style=\"text-align: right;\">\n",
       "      <th></th>\n",
       "      <th>petal_length</th>\n",
       "      <th>petal_width</th>\n",
       "    </tr>\n",
       "  </thead>\n",
       "  <tbody>\n",
       "    <tr>\n",
       "      <th>petal_length</th>\n",
       "      <td>1.000000</td>\n",
       "      <td>0.962865</td>\n",
       "    </tr>\n",
       "    <tr>\n",
       "      <th>petal_width</th>\n",
       "      <td>0.962865</td>\n",
       "      <td>1.000000</td>\n",
       "    </tr>\n",
       "  </tbody>\n",
       "</table>\n",
       "</div>"
      ]
     },
     "execution_count": 81,
     "metadata": {},
     "output_type": "execute_result"
    }
   ],
   "execution_count": 81
  },
  {
   "cell_type": "markdown",
   "id": "b05c404ca39f37ad",
   "metadata": {},
   "source": [
    "## apply a function"
   ]
  },
  {
   "cell_type": "code",
   "id": "98d1d4005b31fde4",
   "metadata": {
    "ExecuteTime": {
     "end_time": "2024-05-16T12:49:38.883304Z",
     "start_time": "2024-05-16T12:49:38.881776Z"
    }
   },
   "source": [],
   "outputs": [],
   "execution_count": 79
  },
  {
   "cell_type": "code",
   "id": "67a47ab39a4fb21e",
   "metadata": {
    "ExecuteTime": {
     "end_time": "2024-05-16T12:49:39.288266Z",
     "start_time": "2024-05-16T12:49:39.287033Z"
    }
   },
   "source": [],
   "outputs": [],
   "execution_count": 79
  },
  {
   "cell_type": "markdown",
   "id": "303bb9bcf0aad06b",
   "metadata": {},
   "source": [
    "## masking"
   ]
  },
  {
   "cell_type": "code",
   "id": "fad9deaf0563a0aa",
   "metadata": {
    "ExecuteTime": {
     "end_time": "2024-05-16T12:49:39.668199Z",
     "start_time": "2024-05-16T12:49:39.666664Z"
    }
   },
   "source": [],
   "outputs": [],
   "execution_count": 79
  },
  {
   "metadata": {
    "ExecuteTime": {
     "end_time": "2024-05-16T12:49:39.997840Z",
     "start_time": "2024-05-16T12:49:39.996341Z"
    }
   },
   "cell_type": "code",
   "source": "",
   "id": "d361c62ed097ae2f",
   "outputs": [],
   "execution_count": 79
  },
  {
   "metadata": {
    "ExecuteTime": {
     "end_time": "2024-05-16T12:49:40.512561Z",
     "start_time": "2024-05-16T12:49:40.510985Z"
    }
   },
   "cell_type": "code",
   "source": "",
   "id": "c03ad53e6f17f9e2",
   "outputs": [],
   "execution_count": 79
  },
  {
   "cell_type": "markdown",
   "id": "c43bc99afe975db6",
   "metadata": {},
   "source": [
    "## group-by"
   ]
  },
  {
   "cell_type": "code",
   "id": "ad20ca90762af07e",
   "metadata": {
    "ExecuteTime": {
     "end_time": "2024-05-16T12:49:41.162148Z",
     "start_time": "2024-05-16T12:49:41.160702Z"
    }
   },
   "source": [],
   "outputs": [],
   "execution_count": 79
  },
  {
   "metadata": {
    "ExecuteTime": {
     "end_time": "2024-05-16T12:49:41.746019Z",
     "start_time": "2024-05-16T12:49:41.744462Z"
    }
   },
   "cell_type": "code",
   "source": "",
   "id": "bc33dc39085d16d5",
   "outputs": [],
   "execution_count": 79
  },
  {
   "metadata": {},
   "cell_type": "code",
   "outputs": [],
   "execution_count": null,
   "source": "",
   "id": "ff126352a3db4e17"
  }
 ],
 "metadata": {
  "kernelspec": {
   "display_name": "Python 3 (ipykernel)",
   "language": "python",
   "name": "python3"
  },
  "language_info": {
   "codemirror_mode": {
    "name": "ipython",
    "version": 3
   },
   "file_extension": ".py",
   "mimetype": "text/x-python",
   "name": "python",
   "nbconvert_exporter": "python",
   "pygments_lexer": "ipython3",
   "version": "3.12.0"
  }
 },
 "nbformat": 4,
 "nbformat_minor": 5
}
