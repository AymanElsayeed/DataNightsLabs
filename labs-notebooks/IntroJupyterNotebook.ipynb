{
 "cells": [
  {
   "metadata": {},
   "cell_type": "markdown",
   "source": "# introduction to jupyter notebook",
   "id": "d60551ae7d26d04"
  },
  {
   "metadata": {},
   "cell_type": "markdown",
   "source": [
    "Create headings using markdown\n",
    "# Heading 1\n",
    "## Heading 2\n",
    "### Heading 3\n",
    "#### Heading 4"
   ],
   "id": "224d55d8b5795eb6"
  },
  {
   "metadata": {},
   "cell_type": "markdown",
   "source": [
    "Create lists using markdown\n",
    "- item 1\n",
    "- item 2\n",
    "- item 3"
   ],
   "id": "c1be09bfdff0bae6"
  },
  {
   "metadata": {},
   "cell_type": "markdown",
   "source": [
    "Create code blocks using markdown\n",
    "```python\n",
    "print(\"Hello World\")\n",
    "```"
   ],
   "id": "1576ad180bb936fd"
  },
  {
   "metadata": {},
   "cell_type": "markdown",
   "source": [
    "Create links using markdown\n",
    "[Google](https://www.google.com)\n"
   ],
   "id": "b192de522672c1e1"
  },
  {
   "metadata": {},
   "cell_type": "markdown",
   "source": [
    "Create images using markdown\n",
    "![Python Logo](https://www.python.org/static/community_logos/python-logo.png)"
   ],
   "id": "f9ec01a3f6376f40"
  },
  {
   "metadata": {},
   "cell_type": "markdown",
   "source": [
    "Create tables using markdown\n",
    "\n",
    "| Name | Age\n",
    "|------|-----\n",
    "| John | 25\n",
    "| Jane | 30"
   ],
   "id": "a70938456f319e64"
  },
  {
   "metadata": {},
   "cell_type": "markdown",
   "source": [
    "Create horizontal lines using markdown\n",
    "---\n"
   ],
   "id": "8e0a1d350b978412"
  },
  {
   "metadata": {},
   "cell_type": "markdown",
   "source": [
    "Create blockquotes using markdown\n",
    "> This is a blockquote"
   ],
   "id": "2b62852ac8d4e928"
  },
  {
   "metadata": {},
   "cell_type": "markdown",
   "source": [
    "Create inline code using markdown\n",
    "`print(\"Hello World\")`\n"
   ],
   "id": "a29a510917d30b9a"
  },
  {
   "metadata": {},
   "cell_type": "markdown",
   "source": [
    "Create bold and italic text using markdown\n",
    "**This is bold text**"
   ],
   "id": "1cc7bf3f64ebc9ae"
  },
  {
   "metadata": {},
   "cell_type": "markdown",
   "source": [
    "write mathematical equations using markdown\n",
    "$$y= x^2$$"
   ],
   "id": "3d8e3ceb8b85d0cf"
  },
  {
   "metadata": {},
   "cell_type": "markdown",
   "source": [
    "Write HTML code in markdown\n",
    "\n",
    "<font color='red'>This is some text!</font>"
   ],
   "id": "b1cba57419874ccb"
  },
  {
   "metadata": {
    "ExecuteTime": {
     "end_time": "2024-06-02T10:08:55.064506Z",
     "start_time": "2024-06-02T10:08:55.059111Z"
    }
   },
   "cell_type": "code",
   "source": [
    "# run magic commands\n",
    "# list all magic commands\n",
    "%lsmagic"
   ],
   "id": "59bc28ca0bda0da7",
   "outputs": [
    {
     "data": {
      "text/plain": [
       "Available line magics:\n",
       "%alias  %alias_magic  %autoawait  %autocall  %automagic  %autosave  %bookmark  %cat  %cd  %clear  %code_wrap  %colors  %conda  %config  %connect_info  %cp  %debug  %dhist  %dirs  %doctest_mode  %ed  %edit  %env  %gui  %hist  %history  %killbgscripts  %ldir  %less  %lf  %lk  %ll  %load  %load_ext  %loadpy  %logoff  %logon  %logstart  %logstate  %logstop  %ls  %lsmagic  %lx  %macro  %magic  %mamba  %man  %matplotlib  %micromamba  %mkdir  %more  %mv  %notebook  %page  %pastebin  %pdb  %pdef  %pdoc  %pfile  %pinfo  %pinfo2  %pip  %popd  %pprint  %precision  %prun  %psearch  %psource  %pushd  %pwd  %pycat  %pylab  %qtconsole  %quickref  %recall  %rehashx  %reload_ext  %rep  %rerun  %reset  %reset_selective  %rm  %rmdir  %run  %save  %sc  %set_env  %store  %sx  %system  %tb  %time  %timeit  %unalias  %unload_ext  %who  %who_ls  %whos  %xdel  %xmode\n",
       "\n",
       "Available cell magics:\n",
       "%%!  %%HTML  %%SVG  %%bash  %%capture  %%code_wrap  %%debug  %%file  %%html  %%javascript  %%js  %%latex  %%markdown  %%perl  %%prun  %%pypy  %%python  %%python2  %%python3  %%ruby  %%script  %%sh  %%svg  %%sx  %%system  %%time  %%timeit  %%writefile\n",
       "\n",
       "Automagic is ON, % prefix IS NOT needed for line magics."
      ],
      "application/json": {
       "line": {
        "automagic": "AutoMagics",
        "autocall": "AutoMagics",
        "alias_magic": "BasicMagics",
        "lsmagic": "BasicMagics",
        "magic": "BasicMagics",
        "page": "BasicMagics",
        "pprint": "BasicMagics",
        "colors": "BasicMagics",
        "xmode": "BasicMagics",
        "quickref": "BasicMagics",
        "doctest_mode": "BasicMagics",
        "gui": "BasicMagics",
        "precision": "BasicMagics",
        "notebook": "BasicMagics",
        "save": "CodeMagics",
        "pastebin": "CodeMagics",
        "loadpy": "CodeMagics",
        "load": "CodeMagics",
        "edit": "KernelMagics",
        "config": "ConfigMagics",
        "prun": "ExecutionMagics",
        "pdb": "ExecutionMagics",
        "debug": "ExecutionMagics",
        "tb": "ExecutionMagics",
        "run": "ExecutionMagics",
        "timeit": "ExecutionMagics",
        "time": "ExecutionMagics",
        "macro": "ExecutionMagics",
        "code_wrap": "ExecutionMagics",
        "load_ext": "ExtensionMagics",
        "unload_ext": "ExtensionMagics",
        "reload_ext": "ExtensionMagics",
        "history": "HistoryMagics",
        "recall": "HistoryMagics",
        "rerun": "HistoryMagics",
        "logstart": "LoggingMagics",
        "logstop": "LoggingMagics",
        "logoff": "LoggingMagics",
        "logon": "LoggingMagics",
        "logstate": "LoggingMagics",
        "pinfo": "NamespaceMagics",
        "pinfo2": "NamespaceMagics",
        "pdef": "NamespaceMagics",
        "pdoc": "NamespaceMagics",
        "psource": "NamespaceMagics",
        "pfile": "NamespaceMagics",
        "psearch": "NamespaceMagics",
        "who_ls": "NamespaceMagics",
        "who": "NamespaceMagics",
        "whos": "NamespaceMagics",
        "reset": "NamespaceMagics",
        "reset_selective": "NamespaceMagics",
        "xdel": "NamespaceMagics",
        "alias": "OSMagics",
        "unalias": "OSMagics",
        "rehashx": "OSMagics",
        "pwd": "OSMagics",
        "cd": "OSMagics",
        "env": "OSMagics",
        "set_env": "OSMagics",
        "pushd": "OSMagics",
        "popd": "OSMagics",
        "dirs": "OSMagics",
        "dhist": "OSMagics",
        "sc": "OSMagics",
        "sx": "OSMagics",
        "system": "OSMagics",
        "bookmark": "OSMagics",
        "pycat": "OSMagics",
        "pip": "PackagingMagics",
        "conda": "PackagingMagics",
        "mamba": "PackagingMagics",
        "micromamba": "PackagingMagics",
        "matplotlib": "PylabMagics",
        "pylab": "PylabMagics",
        "killbgscripts": "ScriptMagics",
        "autoawait": "AsyncMagics",
        "ed": "Other",
        "hist": "Other",
        "rep": "Other",
        "clear": "KernelMagics",
        "less": "KernelMagics",
        "more": "KernelMagics",
        "man": "KernelMagics",
        "connect_info": "KernelMagics",
        "qtconsole": "KernelMagics",
        "autosave": "KernelMagics",
        "mkdir": "Other",
        "rmdir": "Other",
        "mv": "Other",
        "rm": "Other",
        "cp": "Other",
        "cat": "Other",
        "ls": "Other",
        "ll": "Other",
        "lf": "Other",
        "lk": "Other",
        "ldir": "Other",
        "lx": "Other",
        "store": "StoreMagics"
       },
       "cell": {
        "js": "DisplayMagics",
        "javascript": "DisplayMagics",
        "latex": "DisplayMagics",
        "svg": "DisplayMagics",
        "html": "DisplayMagics",
        "markdown": "DisplayMagics",
        "prun": "ExecutionMagics",
        "debug": "ExecutionMagics",
        "timeit": "ExecutionMagics",
        "time": "ExecutionMagics",
        "capture": "ExecutionMagics",
        "code_wrap": "ExecutionMagics",
        "sx": "OSMagics",
        "system": "OSMagics",
        "!": "OSMagics",
        "writefile": "OSMagics",
        "script": "ScriptMagics",
        "sh": "Other",
        "bash": "Other",
        "perl": "Other",
        "ruby": "Other",
        "python": "Other",
        "python2": "Other",
        "python3": "Other",
        "pypy": "Other",
        "SVG": "Other",
        "HTML": "Other",
        "file": "Other"
       }
      }
     },
     "execution_count": 3,
     "metadata": {},
     "output_type": "execute_result"
    }
   ],
   "execution_count": 3
  },
  {
   "metadata": {
    "ExecuteTime": {
     "end_time": "2024-06-02T10:09:39.257867Z",
     "start_time": "2024-06-02T10:09:39.255277Z"
    }
   },
   "cell_type": "code",
   "source": [
    "# run magic command\n",
    "%pwd"
   ],
   "id": "c6d78f1dbb2160cd",
   "outputs": [
    {
     "data": {
      "text/plain": [
       "'/Users/aymanelsayeed/PycharmProjects/DataNightsLabs/labs-notebooks'"
      ]
     },
     "execution_count": 5,
     "metadata": {},
     "output_type": "execute_result"
    }
   ],
   "execution_count": 5
  },
  {
   "metadata": {
    "ExecuteTime": {
     "end_time": "2024-06-02T10:10:40.138498Z",
     "start_time": "2024-06-02T10:10:39.994390Z"
    }
   },
   "cell_type": "code",
   "source": [
    "# run shell commands\n",
    "# list all files in the current directory\n",
    "!ls"
   ],
   "id": "a82e4b5d14f84a3b",
   "outputs": [
    {
     "name": "stdout",
     "output_type": "stream",
     "text": [
      "DataCleaning.ipynb         \u001B[1m\u001B[36mNeuron-Networks\u001B[m\u001B[m\r\n",
      "EDA.ipynb                  NumPy.ipynb\r\n",
      "Ex.ipynb                   POST.ipynb\r\n",
      "IntroPandas.ipynb          VectorizingRawData.ipynb\r\n",
      "IntroSeaborn.ipynb         assignment4.ipynb\r\n",
      "JupyterNotebookIntro.ipynb lab-001.ipynb\r\n",
      "NER.ipynb\r\n"
     ]
    }
   ],
   "execution_count": 6
  },
  {
   "metadata": {},
   "cell_type": "markdown",
   "source": "For more information on magic commands, visit the [official documentation](https://ipython.readthedocs.io/en/stable/interactive/magics.html)",
   "id": "62ce97d974ac53f1"
  },
  {
   "metadata": {},
   "cell_type": "markdown",
   "source": "For more info about jupyter notebook, visit the [official documentation](https://jupyter-notebook.readthedocs.io/en/stable/notebook.html)",
   "id": "d98284d05e2720e3"
  },
  {
   "metadata": {},
   "cell_type": "code",
   "outputs": [],
   "execution_count": null,
   "source": "",
   "id": "fbee1e720be35939"
  }
 ],
 "metadata": {
  "kernelspec": {
   "display_name": "Python 3",
   "language": "python",
   "name": "python3"
  },
  "language_info": {
   "codemirror_mode": {
    "name": "ipython",
    "version": 2
   },
   "file_extension": ".py",
   "mimetype": "text/x-python",
   "name": "python",
   "nbconvert_exporter": "python",
   "pygments_lexer": "ipython2",
   "version": "2.7.6"
  }
 },
 "nbformat": 4,
 "nbformat_minor": 5
}
