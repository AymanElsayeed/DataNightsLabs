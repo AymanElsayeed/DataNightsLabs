{
 "cells": [
  {
   "cell_type": "code",
   "id": "initial_id",
   "metadata": {
    "collapsed": true,
    "ExecuteTime": {
     "end_time": "2024-05-16T09:01:31.740397Z",
     "start_time": "2024-05-16T09:01:31.738692Z"
    }
   },
   "source": [
    "import pandas as pd\n",
    "import seaborn as sns"
   ],
   "outputs": [],
   "execution_count": 6
  },
  {
   "metadata": {
    "ExecuteTime": {
     "end_time": "2024-05-16T08:58:03.995595Z",
     "start_time": "2024-05-16T08:58:03.986836Z"
    }
   },
   "cell_type": "code",
   "source": "spam = pd.read_csv('../assets/spam.csv')",
   "id": "2f69854f8333c2d4",
   "outputs": [],
   "execution_count": 2
  },
  {
   "metadata": {
    "ExecuteTime": {
     "end_time": "2024-05-16T08:59:25.300552Z",
     "start_time": "2024-05-16T08:59:25.296220Z"
    }
   },
   "cell_type": "code",
   "source": "spam.head()",
   "id": "5c6f643f8c28701c",
   "outputs": [
    {
     "data": {
      "text/plain": [
       "                                                text target\n",
       "0  Go until jurong point, crazy.. Available only ...    ham\n",
       "1                      Ok lar... Joking wif u oni...    ham\n",
       "2  Free entry in 2 a wkly comp to win FA Cup fina...   spam\n",
       "3  U dun say so early hor... U c already then say...    ham\n",
       "4  Nah I don't think he goes to usf, he lives aro...    ham"
      ],
      "text/html": [
       "<div>\n",
       "<style scoped>\n",
       "    .dataframe tbody tr th:only-of-type {\n",
       "        vertical-align: middle;\n",
       "    }\n",
       "\n",
       "    .dataframe tbody tr th {\n",
       "        vertical-align: top;\n",
       "    }\n",
       "\n",
       "    .dataframe thead th {\n",
       "        text-align: right;\n",
       "    }\n",
       "</style>\n",
       "<table border=\"1\" class=\"dataframe\">\n",
       "  <thead>\n",
       "    <tr style=\"text-align: right;\">\n",
       "      <th></th>\n",
       "      <th>text</th>\n",
       "      <th>target</th>\n",
       "    </tr>\n",
       "  </thead>\n",
       "  <tbody>\n",
       "    <tr>\n",
       "      <th>0</th>\n",
       "      <td>Go until jurong point, crazy.. Available only ...</td>\n",
       "      <td>ham</td>\n",
       "    </tr>\n",
       "    <tr>\n",
       "      <th>1</th>\n",
       "      <td>Ok lar... Joking wif u oni...</td>\n",
       "      <td>ham</td>\n",
       "    </tr>\n",
       "    <tr>\n",
       "      <th>2</th>\n",
       "      <td>Free entry in 2 a wkly comp to win FA Cup fina...</td>\n",
       "      <td>spam</td>\n",
       "    </tr>\n",
       "    <tr>\n",
       "      <th>3</th>\n",
       "      <td>U dun say so early hor... U c already then say...</td>\n",
       "      <td>ham</td>\n",
       "    </tr>\n",
       "    <tr>\n",
       "      <th>4</th>\n",
       "      <td>Nah I don't think he goes to usf, he lives aro...</td>\n",
       "      <td>ham</td>\n",
       "    </tr>\n",
       "  </tbody>\n",
       "</table>\n",
       "</div>"
      ]
     },
     "execution_count": 5,
     "metadata": {},
     "output_type": "execute_result"
    }
   ],
   "execution_count": 5
  },
  {
   "metadata": {},
   "cell_type": "markdown",
   "source": [
    "### Question 1\n",
    "What percentage of the documents in `spam` data are spam?, and creat bar chart"
   ],
   "id": "4205b49325fc65c6"
  },
  {
   "metadata": {
    "ExecuteTime": {
     "end_time": "2024-05-16T08:58:29.410001Z",
     "start_time": "2024-05-16T08:58:29.403328Z"
    }
   },
   "cell_type": "code",
   "source": "spam.target.value_counts(normalize=True)",
   "id": "4f1bb29384e6661d",
   "outputs": [
    {
     "data": {
      "text/plain": [
       "target\n",
       "ham     0.865937\n",
       "spam    0.134063\n",
       "Name: proportion, dtype: float64"
      ]
     },
     "execution_count": 4,
     "metadata": {},
     "output_type": "execute_result"
    }
   ],
   "execution_count": 4
  },
  {
   "metadata": {
    "ExecuteTime": {
     "end_time": "2024-05-16T09:04:19.073997Z",
     "start_time": "2024-05-16T09:04:19.072325Z"
    }
   },
   "cell_type": "code",
   "source": "",
   "id": "88ec2c9aeff6409b",
   "outputs": [],
   "execution_count": 13
  },
  {
   "metadata": {},
   "cell_type": "markdown",
   "source": [
    "### Question 2\n",
    "Calculate the length of each text, save it in column called length"
   ],
   "id": "1e3960fcc588ee78"
  },
  {
   "metadata": {},
   "cell_type": "code",
   "outputs": [],
   "execution_count": null,
   "source": "",
   "id": "bad3b986cfbe9922"
  },
  {
   "metadata": {},
   "cell_type": "markdown",
   "source": [
    "### Question 3\n",
    "\n",
    "Find the longest spam message"
   ],
   "id": "2c4e25b1f03d2198"
  },
  {
   "metadata": {
    "ExecuteTime": {
     "end_time": "2024-05-16T09:06:30.547770Z",
     "start_time": "2024-05-16T09:06:30.545986Z"
    }
   },
   "cell_type": "code",
   "source": "",
   "id": "2c5de4ee96f40e32",
   "outputs": [],
   "execution_count": 13
  },
  {
   "metadata": {},
   "cell_type": "markdown",
   "source": [
    "### Questions 4\n",
    "Find the shortest spam message"
   ],
   "id": "e9bd9c9fecd22511"
  },
  {
   "metadata": {},
   "cell_type": "code",
   "outputs": [],
   "execution_count": null,
   "source": "",
   "id": "688103af02db24d6"
  },
  {
   "metadata": {},
   "cell_type": "markdown",
   "source": [
    "### Question 5\n",
    "\n",
    "Find the longest ham message"
   ],
   "id": "84ace14f2c5db5f9"
  },
  {
   "metadata": {
    "ExecuteTime": {
     "end_time": "2024-05-16T09:08:09.000328Z",
     "start_time": "2024-05-16T09:08:08.998786Z"
    }
   },
   "cell_type": "code",
   "source": "",
   "id": "911e648621813447",
   "outputs": [],
   "execution_count": 13
  },
  {
   "metadata": {},
   "cell_type": "markdown",
   "source": [
    "### Questions 6\n",
    "Find the shortest ham message"
   ],
   "id": "8cda0f42f183a929"
  },
  {
   "metadata": {
    "ExecuteTime": {
     "end_time": "2024-05-16T09:09:00.885740Z",
     "start_time": "2024-05-16T09:09:00.883575Z"
    }
   },
   "cell_type": "code",
   "source": "",
   "id": "867a37712e40f21d",
   "outputs": [],
   "execution_count": 14
  },
  {
   "metadata": {},
   "cell_type": "markdown",
   "source": [
    "### Questions 7\n",
    "Find the average length for ham message"
   ],
   "id": "102463695c8ad787"
  },
  {
   "metadata": {
    "ExecuteTime": {
     "end_time": "2024-05-16T09:09:27.055461Z",
     "start_time": "2024-05-16T09:09:27.054001Z"
    }
   },
   "cell_type": "code",
   "source": "",
   "id": "bbec04237c964bef",
   "outputs": [],
   "execution_count": 14
  },
  {
   "metadata": {},
   "cell_type": "markdown",
   "source": [
    "### Questions 8\n",
    "Find the average length for spam message"
   ],
   "id": "92c61d0094cdba8e"
  },
  {
   "metadata": {},
   "cell_type": "code",
   "outputs": [],
   "execution_count": null,
   "source": "",
   "id": "b4f9f4410164df5"
  }
 ],
 "metadata": {
  "kernelspec": {
   "display_name": "Python 3",
   "language": "python",
   "name": "python3"
  },
  "language_info": {
   "codemirror_mode": {
    "name": "ipython",
    "version": 2
   },
   "file_extension": ".py",
   "mimetype": "text/x-python",
   "name": "python",
   "nbconvert_exporter": "python",
   "pygments_lexer": "ipython2",
   "version": "2.7.6"
  }
 },
 "nbformat": 4,
 "nbformat_minor": 5
}
