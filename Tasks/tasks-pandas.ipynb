{
 "cells": [
  {
   "cell_type": "code",
   "id": "initial_id",
   "metadata": {
    "collapsed": true,
    "ExecuteTime": {
     "end_time": "2024-06-09T12:36:33.167673Z",
     "start_time": "2024-06-09T12:36:33.165598Z"
    }
   },
   "source": "import pandas as pd",
   "outputs": [],
   "execution_count": 3
  },
  {
   "metadata": {
    "ExecuteTime": {
     "end_time": "2024-06-09T12:36:33.488550Z",
     "start_time": "2024-06-09T12:36:33.479122Z"
    }
   },
   "cell_type": "code",
   "source": [
    "spam = pd.read_csv('../assets/spam.csv')\n",
    "iris = pd.read_csv('../assets/iris.csv')"
   ],
   "id": "2f69854f8333c2d4",
   "outputs": [],
   "execution_count": 4
  },
  {
   "metadata": {
    "ExecuteTime": {
     "end_time": "2024-05-19T08:41:04.955345Z",
     "start_time": "2024-05-19T08:41:04.948945Z"
    }
   },
   "cell_type": "code",
   "source": "spam.head()",
   "id": "5c6f643f8c28701c",
   "outputs": [
    {
     "data": {
      "text/plain": [
       "                                                text target\n",
       "0  Go until jurong point, crazy.. Available only ...    ham\n",
       "1                      Ok lar... Joking wif u oni...    ham\n",
       "2  Free entry in 2 a wkly comp to win FA Cup fina...   spam\n",
       "3  U dun say so early hor... U c already then say...    ham\n",
       "4  Nah I don't think he goes to usf, he lives aro...    ham"
      ],
      "text/html": [
       "<div>\n",
       "<style scoped>\n",
       "    .dataframe tbody tr th:only-of-type {\n",
       "        vertical-align: middle;\n",
       "    }\n",
       "\n",
       "    .dataframe tbody tr th {\n",
       "        vertical-align: top;\n",
       "    }\n",
       "\n",
       "    .dataframe thead th {\n",
       "        text-align: right;\n",
       "    }\n",
       "</style>\n",
       "<table border=\"1\" class=\"dataframe\">\n",
       "  <thead>\n",
       "    <tr style=\"text-align: right;\">\n",
       "      <th></th>\n",
       "      <th>text</th>\n",
       "      <th>target</th>\n",
       "    </tr>\n",
       "  </thead>\n",
       "  <tbody>\n",
       "    <tr>\n",
       "      <th>0</th>\n",
       "      <td>Go until jurong point, crazy.. Available only ...</td>\n",
       "      <td>ham</td>\n",
       "    </tr>\n",
       "    <tr>\n",
       "      <th>1</th>\n",
       "      <td>Ok lar... Joking wif u oni...</td>\n",
       "      <td>ham</td>\n",
       "    </tr>\n",
       "    <tr>\n",
       "      <th>2</th>\n",
       "      <td>Free entry in 2 a wkly comp to win FA Cup fina...</td>\n",
       "      <td>spam</td>\n",
       "    </tr>\n",
       "    <tr>\n",
       "      <th>3</th>\n",
       "      <td>U dun say so early hor... U c already then say...</td>\n",
       "      <td>ham</td>\n",
       "    </tr>\n",
       "    <tr>\n",
       "      <th>4</th>\n",
       "      <td>Nah I don't think he goes to usf, he lives aro...</td>\n",
       "      <td>ham</td>\n",
       "    </tr>\n",
       "  </tbody>\n",
       "</table>\n",
       "</div>"
      ]
     },
     "execution_count": 3,
     "metadata": {},
     "output_type": "execute_result"
    }
   ],
   "execution_count": 3
  },
  {
   "metadata": {},
   "cell_type": "markdown",
   "source": [
    "### Question 1\n",
    "What percentage of the documents in `spam` data are spam?, and creat bar chart"
   ],
   "id": "4205b49325fc65c6"
  },
  {
   "metadata": {},
   "cell_type": "markdown",
   "source": [
    "<style>\n",
    "    .answer {\n",
    "        display: none;\n",
    "    }\n",
    "</style>\n",
    "\n",
    "<details>\n",
    "    <summary>Click to reveal answer</summary>\n",
    "    <div class=\"answer\">\n",
    "    <pre>\n",
    "    <code>\n",
    "    spam.target.value_counts(normalize=True)\n",
    "    </code>\n",
    "    </pre>\n",
    "    </div>\n",
    "</details>\n"
   ],
   "id": "9aa460aef2aa829f"
  },
  {
   "metadata": {
    "ExecuteTime": {
     "end_time": "2024-05-19T08:41:08.969114Z",
     "start_time": "2024-05-19T08:41:08.967219Z"
    }
   },
   "cell_type": "code",
   "source": "",
   "id": "4f1bb29384e6661d",
   "outputs": [],
   "execution_count": 3
  },
  {
   "metadata": {
    "ExecuteTime": {
     "end_time": "2024-05-17T13:21:31.040434Z",
     "start_time": "2024-05-17T13:21:31.038392Z"
    }
   },
   "cell_type": "code",
   "source": "",
   "id": "88ec2c9aeff6409b",
   "outputs": [],
   "execution_count": 19
  },
  {
   "metadata": {},
   "cell_type": "markdown",
   "source": [
    "### Question 2\n",
    "Calculate the length of each text, save it in column called length"
   ],
   "id": "1e3960fcc588ee78"
  },
  {
   "metadata": {},
   "cell_type": "markdown",
   "source": [
    "<details>\n",
    "    <summary>Click to reveal answer</summary>\n",
    "    <p>spam['length'] = spam.text.str.len()</p>\n",
    "</details>\n"
   ],
   "id": "176730d3c54302c"
  },
  {
   "metadata": {
    "ExecuteTime": {
     "end_time": "2024-06-09T12:37:25.037932Z",
     "start_time": "2024-06-09T12:37:25.033729Z"
    }
   },
   "cell_type": "code",
   "source": "spam['length'] = spam.text.str.len()",
   "id": "bad3b986cfbe9922",
   "outputs": [],
   "execution_count": 6
  },
  {
   "metadata": {
    "ExecuteTime": {
     "end_time": "2024-05-19T08:41:17.363548Z",
     "start_time": "2024-05-19T08:41:17.361727Z"
    }
   },
   "cell_type": "code",
   "source": "",
   "id": "61c72d7000c06bae",
   "outputs": [],
   "execution_count": 3
  },
  {
   "metadata": {},
   "cell_type": "markdown",
   "source": [
    "### Question 3\n",
    "\n",
    "Find the longest spam message"
   ],
   "id": "2c4e25b1f03d2198"
  },
  {
   "metadata": {},
   "cell_type": "markdown",
   "source": [
    "<style>\n",
    "    .answer {\n",
    "        display: none;\n",
    "    }\n",
    "</style>\n",
    "\n",
    "<details>\n",
    "    <summary>Click to reveal answer</summary>\n",
    "    <p class=\"answer\">\n",
    "    spam[spam[\"target\"] == \"spam\"].sort_values(by=\"length\", ascending=False).head(1)\n",
    "    </p>\n",
    "</details>\n"
   ],
   "id": "17aa99abb4ec6346"
  },
  {
   "metadata": {},
   "cell_type": "markdown",
   "source": "",
   "id": "f6ebd72faf35f25b"
  },
  {
   "metadata": {
    "ExecuteTime": {
     "end_time": "2024-05-19T08:45:36.639999Z",
     "start_time": "2024-05-19T08:45:36.637983Z"
    }
   },
   "cell_type": "code",
   "source": "",
   "id": "2c5de4ee96f40e32",
   "outputs": [],
   "execution_count": 13
  },
  {
   "metadata": {},
   "cell_type": "markdown",
   "source": [
    "### Questions 4\n",
    "Find the shortest spam message"
   ],
   "id": "e9bd9c9fecd22511"
  },
  {
   "metadata": {},
   "cell_type": "markdown",
   "source": [
    "<style>\n",
    "    .answer {\n",
    "        display: none;\n",
    "    }\n",
    "</style>\n",
    "\n",
    "<details>\n",
    "    <summary>Click to reveal answer</summary>\n",
    "    <div class=\"answer\">\n",
    "        <pre><code>\n",
    "        spam[spam[\"target\"] == \"spam\"].sort_values(by=\"length\", ascending=True).head(1)\n",
    "    </code></pre>\n",
    "    </div>\n",
    "</details>\n"
   ],
   "id": "59da8c420d61128f"
  },
  {
   "metadata": {
    "ExecuteTime": {
     "end_time": "2024-05-19T08:45:03.659466Z",
     "start_time": "2024-05-19T08:45:03.657844Z"
    }
   },
   "cell_type": "code",
   "source": "",
   "id": "688103af02db24d6",
   "outputs": [],
   "execution_count": 13
  },
  {
   "metadata": {},
   "cell_type": "markdown",
   "source": [
    "### Question 5\n",
    "\n",
    "Find the longest ham message"
   ],
   "id": "84ace14f2c5db5f9"
  },
  {
   "metadata": {},
   "cell_type": "markdown",
   "source": [
    "<style>\n",
    "    .answer {\n",
    "        display: none;\n",
    "    }\n",
    "</style>\n",
    "\n",
    "<details>\n",
    "    <summary>Click to reveal answer</summary>\n",
    "    <div class=\"answer\">\n",
    "        <pre><code>\n",
    "        spam[spam[\"target\"] == \"ham\"].sort_values(by=\"length\", ascending=False).head(1)\n",
    "    </code></pre>\n",
    "    </div>\n",
    "</details>\n"
   ],
   "id": "ae0351d33239b133"
  },
  {
   "metadata": {
    "ExecuteTime": {
     "end_time": "2024-05-19T08:44:46.749653Z",
     "start_time": "2024-05-19T08:44:46.748069Z"
    }
   },
   "cell_type": "code",
   "source": "",
   "id": "911e648621813447",
   "outputs": [],
   "execution_count": 13
  },
  {
   "metadata": {},
   "cell_type": "markdown",
   "source": [
    "### Questions 6\n",
    "Find the shortest ham message"
   ],
   "id": "8cda0f42f183a929"
  },
  {
   "metadata": {},
   "cell_type": "markdown",
   "source": [
    "<style>\n",
    "    .answer {\n",
    "        display: none;\n",
    "    }\n",
    "</style>\n",
    "\n",
    "<details>\n",
    "    <summary>Click to reveal answer</summary>\n",
    "    <div class=\"answer\">\n",
    "        <pre><code>\n",
    "        spam[spam[\"target\"] == \"ham\"].sort_values(by=\"length\", ascending=True).head(1)\n",
    "    </code></pre>\n",
    "    </div>\n",
    "</details>\n"
   ],
   "id": "e8b81c91baa2a3c5"
  },
  {
   "metadata": {
    "ExecuteTime": {
     "end_time": "2024-05-19T08:44:20.024321Z",
     "start_time": "2024-05-19T08:44:20.022853Z"
    }
   },
   "cell_type": "code",
   "source": "",
   "id": "867a37712e40f21d",
   "outputs": [],
   "execution_count": 12
  },
  {
   "metadata": {},
   "cell_type": "markdown",
   "source": [
    "### Questions 7\n",
    "Find the average length for ham message"
   ],
   "id": "102463695c8ad787"
  },
  {
   "metadata": {},
   "cell_type": "markdown",
   "source": [
    "<style>\n",
    "    .answer {\n",
    "        display: none;\n",
    "    }\n",
    "</style>\n",
    "\n",
    "<details>\n",
    "    <summary>Click to reveal answer</summary>\n",
    "    <div class=\"answer\">\n",
    "        <pre><code>\n",
    "        spam[spam[\"target\"] == \"ham\"].length.mean()\n",
    "    </code></pre>\n",
    "    </div>\n",
    "</details>\n"
   ],
   "id": "57f3fb9d4d4da81a"
  },
  {
   "metadata": {
    "ExecuteTime": {
     "end_time": "2024-05-19T08:44:08.416832Z",
     "start_time": "2024-05-19T08:44:08.415113Z"
    }
   },
   "cell_type": "code",
   "source": "",
   "id": "bbec04237c964bef",
   "outputs": [],
   "execution_count": 12
  },
  {
   "metadata": {},
   "cell_type": "markdown",
   "source": [
    "### Questions 8\n",
    "Find the average length for spam message"
   ],
   "id": "92c61d0094cdba8e"
  },
  {
   "metadata": {},
   "cell_type": "markdown",
   "source": [
    "<style>\n",
    "    .answer { display: none;}\n",
    "</style>\n",
    "\n",
    "<details>\n",
    "    <summary>Click to reveal answer</summary>\n",
    "    <div class=\"answer\">\n",
    "        <pre><code>\n",
    "        spam[spam[\"target\"] == \"spam\"].length.mean()\n",
    "    </code></pre>\n",
    "    </div>\n",
    "</details>\n"
   ],
   "id": "7fde52a5db818270"
  },
  {
   "metadata": {
    "ExecuteTime": {
     "end_time": "2024-05-19T08:43:47.887608Z",
     "start_time": "2024-05-19T08:43:47.886157Z"
    }
   },
   "cell_type": "code",
   "source": "",
   "id": "b4f9f4410164df5",
   "outputs": [],
   "execution_count": 12
  },
  {
   "metadata": {},
   "cell_type": "markdown",
   "source": [
    "### Questions 9\n",
    "How many messages spam and ham their length is greater than then average?"
   ],
   "id": "fce5c94a9741fd92"
  },
  {
   "metadata": {},
   "cell_type": "markdown",
   "source": [
    "<details>\n",
    "    <summary>Click to reveal answer</summary>\n",
    "    <div class=\"answer\">\n",
    "        <pre><code>\n",
    "        only_spam = spam[spam[\"target\"] == \"spam\"]\n",
    "        only_ham = spam[spam[\"target\"] == \"ham\"]\n",
    "        avg_spam = only_spam.length.mean()\n",
    "        avg_ham = only_ham.length.mean()\n",
    "        spam_above_avg = only_spam[only_spam.length > avg_spam]\n",
    "        ham_above_avg = only_ham[only_ham.length > avg_ham]\n",
    "    </code></pre>\n",
    "    </div>\n",
    "</details>"
   ],
   "id": "a5baec9142d0d25d"
  },
  {
   "metadata": {},
   "cell_type": "markdown",
   "source": [
    "### Questions 10\n",
    "Using the `iris` dataset, find the average sepal length for each species"
   ],
   "id": "60f08edf020c6d5d"
  },
  {
   "metadata": {
    "ExecuteTime": {
     "end_time": "2024-06-08T09:36:58.944291Z",
     "start_time": "2024-06-08T09:36:58.942156Z"
    }
   },
   "cell_type": "code",
   "source": "",
   "id": "f3d23a60a1ad9d5e",
   "outputs": [],
   "execution_count": 2
  },
  {
   "metadata": {},
   "cell_type": "markdown",
   "source": [
    "<details>\n",
    "    <summary>Click to reveal answer</summary>\n",
    "    <div class=\"answer\">\n",
    "        <pre><code>\n",
    "        iris.groupby('species').sepal_length.mean()\n",
    "    </code></pre>\n",
    "    </div>\n",
    "</details>"
   ],
   "id": "237653c86a0dc028"
  },
  {
   "metadata": {},
   "cell_type": "markdown",
   "source": [
    "### Questions 11\n",
    "Using the `iris` dataset, crate a bar chart of the average sepal length for each species."
   ],
   "id": "d8bbf2d5b62ab2dd"
  },
  {
   "metadata": {
    "ExecuteTime": {
     "end_time": "2024-06-08T09:39:13.594995Z",
     "start_time": "2024-06-08T09:39:13.494782Z"
    }
   },
   "cell_type": "code",
   "source": "",
   "id": "435210f5f0872fa0",
   "outputs": [
    {
     "data": {
      "text/plain": [
       "<Axes: xlabel='species'>"
      ]
     },
     "execution_count": 3,
     "metadata": {},
     "output_type": "execute_result"
    },
    {
     "data": {
      "text/plain": [
       "<Figure size 640x480 with 1 Axes>"
      ],
      "image/png": "[encoded data removed]"
     },
     "metadata": {},
     "output_type": "display_data"
    }
   ],
   "execution_count": 3
  },
  {
   "metadata": {},
   "cell_type": "markdown",
   "source": [
    "<details>\n",
    "    <summary>Click to reveal answer</summary>\n",
    "    <div class=\"answer\">\n",
    "        <pre><code>\n",
    "        iris.groupby('species').sepal_length.mean().plot(kind='bar')\n",
    "    </code></pre>\n",
    "    </div>\n",
    "</details>"
   ],
   "id": "863827d66e5d31ef"
  },
  {
   "metadata": {},
   "cell_type": "markdown",
   "source": [
    "## Questions 12\n",
    "Using the `iris` dataset, Create a scatter plot of sepal length vs sepal width\n"
   ],
   "id": "92aa2164a7659643"
  },
  {
   "metadata": {
    "ExecuteTime": {
     "end_time": "2024-06-08T09:43:11.376372Z",
     "start_time": "2024-06-08T09:43:11.292725Z"
    }
   },
   "cell_type": "code",
   "source": "",
   "id": "f14d8c5b83df3f07",
   "outputs": [
    {
     "data": {
      "text/plain": [
       "<Axes: xlabel='sepal_length', ylabel='sepal_width'>"
      ]
     },
     "execution_count": 18,
     "metadata": {},
     "output_type": "execute_result"
    },
    {
     "data": {
      "text/plain": [
       "<Figure size 640x480 with 1 Axes>"
      ],
      "image/png": "[encoded data removed]"
     },
     "metadata": {},
     "output_type": "display_data"
    }
   ],
   "execution_count": 18
  },
  {
   "metadata": {},
   "cell_type": "markdown",
   "source": [
    "<details>\n",
    "    <summary>Click to reveal answer</summary>\n",
    "    <div class=\"answer\">\n",
    "        <pre><code>\n",
    "        iris.plot.scatter(x='sepal_length', y='sepal_width')\n",
    "    </code></pre>\n",
    "    </div>\n",
    "</details>"
   ],
   "id": "e162ada9892972ed"
  },
  {
   "metadata": {},
   "cell_type": "code",
   "outputs": [],
   "execution_count": null,
   "source": "",
   "id": "412d3a6c96e8200c"
  }
 ],
 "metadata": {
  "kernelspec": {
   "display_name": "Python 3",
   "language": "python",
   "name": "python3"
  },
  "language_info": {
   "codemirror_mode": {
    "name": "ipython",
    "version": 2
   },
   "file_extension": ".py",
   "mimetype": "text/x-python",
   "name": "python",
   "nbconvert_exporter": "python",
   "pygments_lexer": "ipython2",
   "version": "2.7.6"
  }
 },
 "nbformat": 4,
 "nbformat_minor": 5
}
