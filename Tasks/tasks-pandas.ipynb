{
 "cells": [
  {
   "cell_type": "code",
   "id": "initial_id",
   "metadata": {
    "collapsed": true,
    "ExecuteTime": {
     "end_time": "2024-05-19T08:41:04.067916Z",
     "start_time": "2024-05-19T08:41:04.066396Z"
    }
   },
   "source": [
    "import pandas as pd\n",
    "import seaborn as sns"
   ],
   "outputs": [],
   "execution_count": 1
  },
  {
   "metadata": {
    "ExecuteTime": {
     "end_time": "2024-05-19T08:41:04.077129Z",
     "start_time": "2024-05-19T08:41:04.068765Z"
    }
   },
   "cell_type": "code",
   "source": "spam = pd.read_csv('../assets/spam.csv')",
   "id": "2f69854f8333c2d4",
   "outputs": [],
   "execution_count": 2
  },
  {
   "metadata": {
    "ExecuteTime": {
     "end_time": "2024-05-19T08:41:04.955345Z",
     "start_time": "2024-05-19T08:41:04.948945Z"
    }
   },
   "cell_type": "code",
   "source": "spam.head()",
   "id": "5c6f643f8c28701c",
   "outputs": [
    {
     "data": {
      "text/plain": [
       "                                                text target\n",
       "0  Go until jurong point, crazy.. Available only ...    ham\n",
       "1                      Ok lar... Joking wif u oni...    ham\n",
       "2  Free entry in 2 a wkly comp to win FA Cup fina...   spam\n",
       "3  U dun say so early hor... U c already then say...    ham\n",
       "4  Nah I don't think he goes to usf, he lives aro...    ham"
      ],
      "text/html": [
       "<div>\n",
       "<style scoped>\n",
       "    .dataframe tbody tr th:only-of-type {\n",
       "        vertical-align: middle;\n",
       "    }\n",
       "\n",
       "    .dataframe tbody tr th {\n",
       "        vertical-align: top;\n",
       "    }\n",
       "\n",
       "    .dataframe thead th {\n",
       "        text-align: right;\n",
       "    }\n",
       "</style>\n",
       "<table border=\"1\" class=\"dataframe\">\n",
       "  <thead>\n",
       "    <tr style=\"text-align: right;\">\n",
       "      <th></th>\n",
       "      <th>text</th>\n",
       "      <th>target</th>\n",
       "    </tr>\n",
       "  </thead>\n",
       "  <tbody>\n",
       "    <tr>\n",
       "      <th>0</th>\n",
       "      <td>Go until jurong point, crazy.. Available only ...</td>\n",
       "      <td>ham</td>\n",
       "    </tr>\n",
       "    <tr>\n",
       "      <th>1</th>\n",
       "      <td>Ok lar... Joking wif u oni...</td>\n",
       "      <td>ham</td>\n",
       "    </tr>\n",
       "    <tr>\n",
       "      <th>2</th>\n",
       "      <td>Free entry in 2 a wkly comp to win FA Cup fina...</td>\n",
       "      <td>spam</td>\n",
       "    </tr>\n",
       "    <tr>\n",
       "      <th>3</th>\n",
       "      <td>U dun say so early hor... U c already then say...</td>\n",
       "      <td>ham</td>\n",
       "    </tr>\n",
       "    <tr>\n",
       "      <th>4</th>\n",
       "      <td>Nah I don't think he goes to usf, he lives aro...</td>\n",
       "      <td>ham</td>\n",
       "    </tr>\n",
       "  </tbody>\n",
       "</table>\n",
       "</div>"
      ]
     },
     "execution_count": 3,
     "metadata": {},
     "output_type": "execute_result"
    }
   ],
   "execution_count": 3
  },
  {
   "metadata": {},
   "cell_type": "markdown",
   "source": [
    "### Question 1\n",
    "What percentage of the documents in `spam` data are spam?, and creat bar chart"
   ],
   "id": "4205b49325fc65c6"
  },
  {
   "metadata": {},
   "cell_type": "markdown",
   "source": [
    "<style>\n",
    "    .answer {\n",
    "        display: none;\n",
    "    }\n",
    "</style>\n",
    "\n",
    "<details>\n",
    "    <summary>Click to reveal answer</summary>\n",
    "    <div class=\"answer\">\n",
    "    <pre>\n",
    "    <code>\n",
    "    spam.target.value_counts(normalize=True)\n",
    "    </code>\n",
    "    </pre>\n",
    "    </div>\n",
    "</details>\n"
   ],
   "id": "9aa460aef2aa829f"
  },
  {
   "metadata": {
    "ExecuteTime": {
     "end_time": "2024-05-19T08:41:08.969114Z",
     "start_time": "2024-05-19T08:41:08.967219Z"
    }
   },
   "cell_type": "code",
   "source": "",
   "id": "4f1bb29384e6661d",
   "outputs": [],
   "execution_count": 3
  },
  {
   "metadata": {
    "ExecuteTime": {
     "end_time": "2024-05-17T13:21:31.040434Z",
     "start_time": "2024-05-17T13:21:31.038392Z"
    }
   },
   "cell_type": "code",
   "source": "",
   "id": "88ec2c9aeff6409b",
   "outputs": [],
   "execution_count": 19
  },
  {
   "metadata": {},
   "cell_type": "markdown",
   "source": [
    "### Question 2\n",
    "Calculate the length of each text, save it in column called length"
   ],
   "id": "1e3960fcc588ee78"
  },
  {
   "metadata": {},
   "cell_type": "markdown",
   "source": [
    "<details>\n",
    "    <summary>Click to reveal answer</summary>\n",
    "    <p>spam['length'] = spam.text.str.len()</p>\n",
    "</details>\n"
   ],
   "id": "176730d3c54302c"
  },
  {
   "metadata": {
    "ExecuteTime": {
     "end_time": "2024-05-19T08:45:42.216239Z",
     "start_time": "2024-05-19T08:45:42.214545Z"
    }
   },
   "cell_type": "code",
   "source": "",
   "id": "bad3b986cfbe9922",
   "outputs": [],
   "execution_count": 13
  },
  {
   "metadata": {
    "ExecuteTime": {
     "end_time": "2024-05-19T08:41:17.363548Z",
     "start_time": "2024-05-19T08:41:17.361727Z"
    }
   },
   "cell_type": "code",
   "source": "",
   "id": "61c72d7000c06bae",
   "outputs": [],
   "execution_count": 3
  },
  {
   "metadata": {},
   "cell_type": "markdown",
   "source": [
    "### Question 3\n",
    "\n",
    "Find the longest spam message"
   ],
   "id": "2c4e25b1f03d2198"
  },
  {
   "metadata": {},
   "cell_type": "markdown",
   "source": [
    "<style>\n",
    "    .answer {\n",
    "        display: none;\n",
    "    }\n",
    "</style>\n",
    "\n",
    "<details>\n",
    "    <summary>Click to reveal answer</summary>\n",
    "    <p class=\"answer\">\n",
    "    spam[spam[\"target\"] == \"spam\"].sort_values(by=\"length\", ascending=False).head(1)\n",
    "    </p>\n",
    "</details>\n"
   ],
   "id": "17aa99abb4ec6346"
  },
  {
   "metadata": {},
   "cell_type": "markdown",
   "source": "",
   "id": "f6ebd72faf35f25b"
  },
  {
   "metadata": {
    "ExecuteTime": {
     "end_time": "2024-05-19T08:45:36.639999Z",
     "start_time": "2024-05-19T08:45:36.637983Z"
    }
   },
   "cell_type": "code",
   "source": "",
   "id": "2c5de4ee96f40e32",
   "outputs": [],
   "execution_count": 13
  },
  {
   "metadata": {},
   "cell_type": "markdown",
   "source": [
    "### Questions 4\n",
    "Find the shortest spam message"
   ],
   "id": "e9bd9c9fecd22511"
  },
  {
   "metadata": {},
   "cell_type": "markdown",
   "source": [
    "<style>\n",
    "    .answer {\n",
    "        display: none;\n",
    "    }\n",
    "</style>\n",
    "\n",
    "<details>\n",
    "    <summary>Click to reveal answer</summary>\n",
    "    <div class=\"answer\">\n",
    "        <pre><code>\n",
    "        spam[spam[\"target\"] == \"spam\"].sort_values(by=\"length\", ascending=True).head(1)\n",
    "    </code></pre>\n",
    "    </div>\n",
    "</details>\n"
   ],
   "id": "59da8c420d61128f"
  },
  {
   "metadata": {
    "ExecuteTime": {
     "end_time": "2024-05-19T08:45:03.659466Z",
     "start_time": "2024-05-19T08:45:03.657844Z"
    }
   },
   "cell_type": "code",
   "source": "",
   "id": "688103af02db24d6",
   "outputs": [],
   "execution_count": 13
  },
  {
   "metadata": {},
   "cell_type": "markdown",
   "source": [
    "### Question 5\n",
    "\n",
    "Find the longest ham message"
   ],
   "id": "84ace14f2c5db5f9"
  },
  {
   "metadata": {},
   "cell_type": "markdown",
   "source": [
    "<style>\n",
    "    .answer {\n",
    "        display: none;\n",
    "    }\n",
    "</style>\n",
    "\n",
    "<details>\n",
    "    <summary>Click to reveal answer</summary>\n",
    "    <div class=\"answer\">\n",
    "        <pre><code>\n",
    "        spam[spam[\"target\"] == \"ham\"].sort_values(by=\"length\", ascending=False).head(1)\n",
    "    </code></pre>\n",
    "    </div>\n",
    "</details>\n"
   ],
   "id": "ae0351d33239b133"
  },
  {
   "metadata": {
    "ExecuteTime": {
     "end_time": "2024-05-19T08:44:46.749653Z",
     "start_time": "2024-05-19T08:44:46.748069Z"
    }
   },
   "cell_type": "code",
   "source": "",
   "id": "911e648621813447",
   "outputs": [],
   "execution_count": 13
  },
  {
   "metadata": {},
   "cell_type": "markdown",
   "source": [
    "### Questions 6\n",
    "Find the shortest ham message"
   ],
   "id": "8cda0f42f183a929"
  },
  {
   "metadata": {},
   "cell_type": "markdown",
   "source": [
    "<style>\n",
    "    .answer {\n",
    "        display: none;\n",
    "    }\n",
    "</style>\n",
    "\n",
    "<details>\n",
    "    <summary>Click to reveal answer</summary>\n",
    "    <div class=\"answer\">\n",
    "        <pre><code>\n",
    "        spam[spam[\"target\"] == \"ham\"].sort_values(by=\"length\", ascending=True).head(1)\n",
    "    </code></pre>\n",
    "    </div>\n",
    "</details>\n"
   ],
   "id": "e8b81c91baa2a3c5"
  },
  {
   "metadata": {
    "ExecuteTime": {
     "end_time": "2024-05-19T08:44:20.024321Z",
     "start_time": "2024-05-19T08:44:20.022853Z"
    }
   },
   "cell_type": "code",
   "source": "",
   "id": "867a37712e40f21d",
   "outputs": [],
   "execution_count": 12
  },
  {
   "metadata": {},
   "cell_type": "markdown",
   "source": [
    "### Questions 7\n",
    "Find the average length for ham message"
   ],
   "id": "102463695c8ad787"
  },
  {
   "metadata": {},
   "cell_type": "markdown",
   "source": [
    "<style>\n",
    "    .answer {\n",
    "        display: none;\n",
    "    }\n",
    "</style>\n",
    "\n",
    "<details>\n",
    "    <summary>Click to reveal answer</summary>\n",
    "    <div class=\"answer\">\n",
    "        <pre><code>\n",
    "        spam[spam[\"target\"] == \"ham\"].length.mean()\n",
    "    </code></pre>\n",
    "    </div>\n",
    "</details>\n"
   ],
   "id": "57f3fb9d4d4da81a"
  },
  {
   "metadata": {
    "ExecuteTime": {
     "end_time": "2024-05-19T08:44:08.416832Z",
     "start_time": "2024-05-19T08:44:08.415113Z"
    }
   },
   "cell_type": "code",
   "source": "",
   "id": "bbec04237c964bef",
   "outputs": [],
   "execution_count": 12
  },
  {
   "metadata": {},
   "cell_type": "markdown",
   "source": [
    "### Questions 8\n",
    "Find the average length for spam message"
   ],
   "id": "92c61d0094cdba8e"
  },
  {
   "metadata": {},
   "cell_type": "markdown",
   "source": [
    "<style>\n",
    "    .answer {\n",
    "        display: none;\n",
    "    }\n",
    "</style>\n",
    "\n",
    "<details>\n",
    "    <summary>Click to reveal answer</summary>\n",
    "    <div class=\"answer\">\n",
    "        <pre><code>\n",
    "        spam[spam[\"target\"] == \"spam\"].length.mean()\n",
    "    </code></pre>\n",
    "    </div>\n",
    "</details>\n"
   ],
   "id": "7fde52a5db818270"
  },
  {
   "metadata": {
    "ExecuteTime": {
     "end_time": "2024-05-19T08:43:47.887608Z",
     "start_time": "2024-05-19T08:43:47.886157Z"
    }
   },
   "cell_type": "code",
   "source": "",
   "id": "b4f9f4410164df5",
   "outputs": [],
   "execution_count": 12
  },
  {
   "metadata": {},
   "cell_type": "code",
   "outputs": [],
   "execution_count": null,
   "source": "",
   "id": "b7572986d7674e70"
  }
 ],
 "metadata": {
  "kernelspec": {
   "display_name": "Python 3",
   "language": "python",
   "name": "python3"
  },
  "language_info": {
   "codemirror_mode": {
    "name": "ipython",
    "version": 2
   },
   "file_extension": ".py",
   "mimetype": "text/x-python",
   "name": "python",
   "nbconvert_exporter": "python",
   "pygments_lexer": "ipython2",
   "version": "2.7.6"
  }
 },
 "nbformat": 4,
 "nbformat_minor": 5
}
