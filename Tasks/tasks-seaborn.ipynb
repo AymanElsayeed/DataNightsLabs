{
 "cells": [
  {
   "cell_type": "code",
   "id": "initial_id",
   "metadata": {
    "ExecuteTime": {
     "end_time": "2024-05-19T08:54:44.538058Z",
     "start_time": "2024-05-19T08:54:44.535295Z"
    }
   },
   "source": [
    "import pandas as pd\n",
    "import seaborn as sns"
   ],
   "outputs": [],
   "execution_count": 2
  },
  {
   "cell_type": "code",
   "id": "6c4990976261b0a1",
   "metadata": {
    "ExecuteTime": {
     "end_time": "2024-05-19T08:54:44.807989Z",
     "start_time": "2024-05-19T08:54:44.799734Z"
    }
   },
   "source": [
    "spam = pd.read_csv('../assets/spam.csv')"
   ],
   "outputs": [],
   "execution_count": 3
  },
  {
   "cell_type": "markdown",
   "id": "a6d61a513c62e776",
   "metadata": {},
   "source": [
    "### Question 1\n",
    "Creat bar plot showing number of spam and ham messages in the `spam` data"
   ]
  },
  {
   "metadata": {},
   "cell_type": "markdown",
   "source": [
    "<style>\n",
    "    .answer { display: none;}\n",
    "</style>\n",
    "\n",
    "<details>\n",
    "    <summary>Click to reveal answer</summary>\n",
    "    <div class=\"answer\">\n",
    "        <pre><code>\n",
    "        sns.countplot(x='target', data=spam)\n",
    "    </code></pre>\n",
    "    </div>\n",
    "</details>\n"
   ],
   "id": "23dada17b3b083b4"
  },
  {
   "cell_type": "code",
   "id": "b7c5ae73558d63d1",
   "metadata": {
    "ExecuteTime": {
     "end_time": "2024-05-19T09:08:56.662089Z",
     "start_time": "2024-05-19T09:08:56.660127Z"
    }
   },
   "source": "",
   "outputs": [],
   "execution_count": 15
  },
  {
   "cell_type": "markdown",
   "id": "4c8f7e1ff0e7f13e",
   "metadata": {},
   "source": [
    "### Question 2\n",
    "show the distribution of spam and ham messages length in the `spam` data using a bar plot"
   ]
  },
  {
   "metadata": {},
   "cell_type": "markdown",
   "source": [
    "<style>\n",
    "    .answer { display: none;}\n",
    "</style>\n",
    "\n",
    "<details>\n",
    "    <summary>Click to reveal answer</summary>\n",
    "    <div class=\"answer\">\n",
    "        <pre><code>\n",
    "        spam['length'] = spam['text'].apply(len)\n",
    "sns.barplot(x='target', y='length', data=spam)\n",
    "    </code></pre>\n",
    "    </div>\n",
    "</details>\n"
   ],
   "id": "f60290065395b83e"
  },
  {
   "cell_type": "code",
   "id": "564bca990daca44f",
   "metadata": {
    "ExecuteTime": {
     "end_time": "2024-05-19T09:08:59.544076Z",
     "start_time": "2024-05-19T09:08:59.542458Z"
    }
   },
   "source": "",
   "outputs": [],
   "execution_count": 15
  },
  {
   "cell_type": "markdown",
   "id": "9cc49a3a093f9674",
   "metadata": {},
   "source": [
    "# Question 3\n",
    "Create a box plot showing the length of spam and ham messages in the `spam` data"
   ]
  },
  {
   "metadata": {},
   "cell_type": "markdown",
   "source": [
    "<style>\n",
    "    .answer { display: none;}\n",
    "</style>\n",
    "\n",
    "<details>\n",
    "    <summary>Click to reveal answer</summary>\n",
    "    <div class=\"answer\">\n",
    "        <pre><code>\n",
    "        sns.boxplot(x='target', y='length', data=spam)\n",
    "    </code></pre>\n",
    "    </div>\n",
    "</details>\n"
   ],
   "id": "2ee18b42e578ec3d"
  },
  {
   "cell_type": "code",
   "id": "52fc59375ca5068c",
   "metadata": {
    "ExecuteTime": {
     "end_time": "2024-05-19T09:09:00.963483Z",
     "start_time": "2024-05-19T09:09:00.961219Z"
    }
   },
   "source": "",
   "outputs": [],
   "execution_count": 15
  },
  {
   "cell_type": "markdown",
   "id": "dd09dd554dd01c8f",
   "metadata": {},
   "source": [
    "# Question 4\n",
    "Create a histogram of spam messages length in the `spam` data"
   ]
  },
  {
   "metadata": {},
   "cell_type": "markdown",
   "source": [
    "<style>\n",
    "    .answer { display: none;}\n",
    "</style>\n",
    "\n",
    "<details>\n",
    "    <summary>Click to reveal answer</summary>\n",
    "    <div class=\"answer\">\n",
    "        <pre><code>\n",
    "        sns.histplot(spam[spam.target==\"spam\"], x='length', hue='target', kde=True)\n",
    "    </code></pre>\n",
    "    </div>\n",
    "</details>\n"
   ],
   "id": "ba45c48dfd8ce7ec"
  },
  {
   "metadata": {
    "ExecuteTime": {
     "end_time": "2024-05-19T09:09:02.368079Z",
     "start_time": "2024-05-19T09:09:02.365979Z"
    }
   },
   "cell_type": "code",
   "source": "",
   "id": "f1568860cd0a21c1",
   "outputs": [],
   "execution_count": 15
  },
  {
   "metadata": {},
   "cell_type": "markdown",
   "source": [
    "# Question 5\n",
    "Create a histogram of ham messages length in the `spam` data"
   ],
   "id": "daf01912ef575b14"
  },
  {
   "metadata": {},
   "cell_type": "markdown",
   "source": [
    "<style>\n",
    "    .answer { display: none;}\n",
    "</style>\n",
    "\n",
    "<details>\n",
    "    <summary>Click to reveal answer</summary>\n",
    "    <div class=\"answer\">\n",
    "        <pre><code>\n",
    "        sns.histplot(spam[spam.target==\"ham\"], x='length', hue='target', kde=True)\n",
    "    </code></pre>\n",
    "    </div>\n",
    "</details>\n"
   ],
   "id": "721681ca609dbbee"
  },
  {
   "metadata": {
    "ExecuteTime": {
     "end_time": "2024-05-19T09:09:03.496618Z",
     "start_time": "2024-05-19T09:09:03.495156Z"
    }
   },
   "cell_type": "code",
   "source": "",
   "id": "42eae44bd22c0e3b",
   "outputs": [],
   "execution_count": 15
  },
  {
   "metadata": {},
   "cell_type": "markdown",
   "source": [
    "# Question 6\n",
    "Create an overlap histogram of ham and spam messages length in the `spam` data"
   ],
   "id": "25bc7e5719411354"
  },
  {
   "metadata": {},
   "cell_type": "markdown",
   "source": [
    "<style>\n",
    "    .answer { display: none;}\n",
    "</style>\n",
    "\n",
    "<details>\n",
    "    <summary>Click to reveal answer</summary>\n",
    "    <div class=\"answer\">\n",
    "        <pre><code>\n",
    "        ax = sns.histplot(spam, x='length', hue='target', kde=True)\n",
    "# set maximum length to 200\n",
    "# ax.set_xlim(0, 200)\n",
    "    </code></pre>\n",
    "    </div>\n",
    "</details>\n"
   ],
   "id": "6d0bc4b2c04c5e58"
  },
  {
   "cell_type": "code",
   "id": "e020a061464af52b",
   "metadata": {
    "ExecuteTime": {
     "end_time": "2024-05-19T09:00:37.107165Z",
     "start_time": "2024-05-19T09:00:37.105691Z"
    }
   },
   "source": "",
   "outputs": [],
   "execution_count": 15
  },
  {
   "cell_type": "code",
   "id": "abae3e12fbce4ef7",
   "metadata": {
    "ExecuteTime": {
     "end_time": "2024-05-19T08:56:20.221222Z",
     "start_time": "2024-05-19T08:56:20.219328Z"
    }
   },
   "source": "",
   "outputs": [],
   "execution_count": 9
  },
  {
   "metadata": {
    "ExecuteTime": {
     "end_time": "2024-05-19T08:56:53.604108Z",
     "start_time": "2024-05-19T08:56:53.602810Z"
    }
   },
   "cell_type": "code",
   "source": "",
   "id": "9bb77b64befcf083",
   "outputs": [],
   "execution_count": 10
  },
  {
   "metadata": {},
   "cell_type": "code",
   "outputs": [],
   "execution_count": null,
   "source": "",
   "id": "527e0cc9c3882695"
  }
 ],
 "metadata": {
  "kernelspec": {
   "display_name": "Python 3 (ipykernel)",
   "language": "python",
   "name": "python3"
  },
  "language_info": {
   "codemirror_mode": {
    "name": "ipython",
    "version": 3
   },
   "file_extension": ".py",
   "mimetype": "text/x-python",
   "name": "python",
   "nbconvert_exporter": "python",
   "pygments_lexer": "ipython3",
   "version": "3.12.0"
  }
 },
 "nbformat": 4,
 "nbformat_minor": 5
}
