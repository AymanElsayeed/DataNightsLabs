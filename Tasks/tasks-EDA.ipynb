{
 "cells": [
  {
   "metadata": {},
   "cell_type": "markdown",
   "source": [
    "# EDA Tasks\n",
    "\n",
    "Choose one data set to work with"
   ],
   "id": "d57ada19b7e17466"
  },
  {
   "metadata": {
    "ExecuteTime": {
     "end_time": "2024-05-23T10:51:55.411833Z",
     "start_time": "2024-05-23T10:51:55.410203Z"
    }
   },
   "cell_type": "code",
   "source": [
    "import seaborn as sns\n",
    "import pandas as pd"
   ],
   "id": "c8f35d520eaaf860",
   "outputs": [],
   "execution_count": 1
  },
  {
   "metadata": {},
   "cell_type": "markdown",
   "source": "## Data Sets",
   "id": "4fb3e34f6d2da635"
  },
  {
   "metadata": {
    "ExecuteTime": {
     "end_time": "2024-05-23T10:56:47.072036Z",
     "start_time": "2024-05-23T10:56:47.030463Z"
    }
   },
   "cell_type": "code",
   "source": [
    "# load/ read data\n",
    "spam = pd.read_csv(\"../assets/spam.csv\")\n",
    "twitter = pd.read_csv(\"../assets/twitter.csv\")"
   ],
   "id": "43ac817405aafb93",
   "outputs": [],
   "execution_count": 4
  },
  {
   "metadata": {},
   "cell_type": "code",
   "outputs": [],
   "execution_count": null,
   "source": "",
   "id": "9ad3c95a24d6c6d"
  },
  {
   "metadata": {},
   "cell_type": "markdown",
   "source": [
    "## Task 1 \n",
    "\n",
    "Explore the data\n",
    "\n",
    "* columns names\n",
    "* columns numbers\n",
    "* columns type\n",
    "* rows number\n",
    "* calculate missing values\n"
   ],
   "id": "a5ca0842724c15bb"
  },
  {
   "metadata": {
    "ExecuteTime": {
     "end_time": "2024-05-23T10:43:25.736203Z",
     "start_time": "2024-05-23T10:43:25.734766Z"
    }
   },
   "cell_type": "code",
   "source": "",
   "id": "d7e1039b498c97da",
   "outputs": [],
   "execution_count": 1
  },
  {
   "metadata": {},
   "cell_type": "markdown",
   "source": [
    "## Task 2\n",
    "\n",
    "Extract the following properties of the data\n",
    "\n",
    "* length of each document\n",
    "* number of unique words\n",
    "* number of special words (stopwords, hashtags or mention)\n",
    "* number of verbs\n",
    "* number of nouns\n",
    "* number of adj\n",
    "* number of stop words"
   ],
   "id": "ab5c5f591d8f0394"
  },
  {
   "metadata": {
    "ExecuteTime": {
     "end_time": "2024-05-23T10:46:15.175508Z",
     "start_time": "2024-05-23T10:46:15.173951Z"
    }
   },
   "cell_type": "code",
   "source": "",
   "id": "d494a01fcacf77b5",
   "outputs": [],
   "execution_count": 1
  },
  {
   "metadata": {
    "ExecuteTime": {
     "end_time": "2024-05-23T10:46:23.227804Z",
     "start_time": "2024-05-23T10:46:23.225964Z"
    }
   },
   "cell_type": "code",
   "source": "",
   "id": "f2a26892e6bb419",
   "outputs": [],
   "execution_count": 1
  },
  {
   "metadata": {
    "ExecuteTime": {
     "end_time": "2024-05-23T10:46:23.632120Z",
     "start_time": "2024-05-23T10:46:23.630626Z"
    }
   },
   "cell_type": "code",
   "source": "",
   "id": "cd37474ce187bab2",
   "outputs": [],
   "execution_count": 1
  },
  {
   "metadata": {
    "ExecuteTime": {
     "end_time": "2024-05-23T10:46:25.962209Z",
     "start_time": "2024-05-23T10:46:25.960350Z"
    }
   },
   "cell_type": "code",
   "source": "",
   "id": "6a622ce845514c6",
   "outputs": [],
   "execution_count": 1
  },
  {
   "metadata": {},
   "cell_type": "markdown",
   "source": [
    "## Task 3\n",
    "\n",
    "Calculate the descriptive statistic for each numeric column\n",
    "\n",
    "* mean\n",
    "* median \n",
    "* minimum value\n",
    "* maximum value\n",
    "* STD\n",
    "* etc"
   ],
   "id": "ae4915b2822d5a6f"
  },
  {
   "metadata": {
    "ExecuteTime": {
     "end_time": "2024-05-23T10:47:43.919398Z",
     "start_time": "2024-05-23T10:47:43.918033Z"
    }
   },
   "cell_type": "code",
   "source": "",
   "id": "2a8690762a85348f",
   "outputs": [],
   "execution_count": 1
  },
  {
   "metadata": {
    "ExecuteTime": {
     "end_time": "2024-05-23T10:47:44.577397Z",
     "start_time": "2024-05-23T10:47:44.575278Z"
    }
   },
   "cell_type": "code",
   "source": "",
   "id": "228d5e2df7c91f3b",
   "outputs": [],
   "execution_count": 1
  },
  {
   "metadata": {
    "ExecuteTime": {
     "end_time": "2024-05-23T10:47:44.881207Z",
     "start_time": "2024-05-23T10:47:44.878845Z"
    }
   },
   "cell_type": "code",
   "source": "",
   "id": "d686ad698cc92002",
   "outputs": [],
   "execution_count": 1
  },
  {
   "metadata": {},
   "cell_type": "markdown",
   "source": [
    "## Task 4\n",
    "\n",
    "Visualize numerical data\n",
    "\n",
    "* histograms\n",
    "* distribution plots\n"
   ],
   "id": "515c92f108f44522"
  },
  {
   "metadata": {
    "ExecuteTime": {
     "end_time": "2024-05-23T10:48:35.429393Z",
     "start_time": "2024-05-23T10:48:35.427752Z"
    }
   },
   "cell_type": "code",
   "source": "",
   "id": "661d3e0d2b131201",
   "outputs": [],
   "execution_count": 1
  },
  {
   "metadata": {
    "ExecuteTime": {
     "end_time": "2024-05-23T10:49:04.243888Z",
     "start_time": "2024-05-23T10:49:04.241989Z"
    }
   },
   "cell_type": "code",
   "source": "",
   "id": "17ac1dfb87d5be85",
   "outputs": [],
   "execution_count": 1
  },
  {
   "metadata": {},
   "cell_type": "markdown",
   "source": [
    "## Task 5\n",
    "\n",
    "Visualize categorical data\n",
    "\n",
    "* number of rows belong to the same category\n",
    "* number of categories\n"
   ],
   "id": "3451cddff29a4956"
  },
  {
   "metadata": {},
   "cell_type": "code",
   "outputs": [],
   "execution_count": null,
   "source": "",
   "id": "f3ba676496d4366"
  },
  {
   "metadata": {},
   "cell_type": "markdown",
   "source": [
    "## Task 6\n",
    "Look for any correlation between on or more of any columns, and create heatmap plot"
   ],
   "id": "cc613d914749893d"
  },
  {
   "metadata": {},
   "cell_type": "code",
   "outputs": [],
   "execution_count": null,
   "source": "",
   "id": "cfaf040b7b42536e"
  }
 ],
 "metadata": {
  "kernelspec": {
   "display_name": "Python 3",
   "language": "python",
   "name": "python3"
  },
  "language_info": {
   "codemirror_mode": {
    "name": "ipython",
    "version": 2
   },
   "file_extension": ".py",
   "mimetype": "text/x-python",
   "name": "python",
   "nbconvert_exporter": "python",
   "pygments_lexer": "ipython2",
   "version": "2.7.6"
  }
 },
 "nbformat": 4,
 "nbformat_minor": 5
}
