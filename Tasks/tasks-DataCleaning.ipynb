{
 "cells": [
  {
   "metadata": {},
   "cell_type": "markdown",
   "source": [
    "# Data Cleaning Tasks\n",
    "\n",
    "* Choose data set\n",
    "* Import packages"
   ],
   "id": "81d0852a36c0db87"
  },
  {
   "metadata": {
    "ExecuteTime": {
     "end_time": "2024-05-23T12:07:19.226599Z",
     "start_time": "2024-05-23T12:07:19.225042Z"
    }
   },
   "cell_type": "code",
   "source": "",
   "id": "167955f4983502de",
   "outputs": [],
   "execution_count": null
  },
  {
   "metadata": {
    "ExecuteTime": {
     "end_time": "2024-05-23T12:04:41.812714Z",
     "start_time": "2024-05-23T12:04:41.811417Z"
    }
   },
   "cell_type": "code",
   "source": "",
   "id": "b619a52f3a912385",
   "outputs": [],
   "execution_count": null
  },
  {
   "metadata": {},
   "cell_type": "markdown",
   "source": [
    "## Task 1\n",
    "\n",
    "Remove Punctuation\n",
    "\n",
    "Remove the punctuation and save the results in new column\n"
   ],
   "id": "54a2cf48e87d5315"
  },
  {
   "metadata": {
    "ExecuteTime": {
     "end_time": "2024-05-23T12:05:25.477199Z",
     "start_time": "2024-05-23T12:05:25.475650Z"
    }
   },
   "cell_type": "code",
   "source": "",
   "id": "52654b909c73d0fa",
   "outputs": [],
   "execution_count": null
  },
  {
   "metadata": {
    "ExecuteTime": {
     "end_time": "2024-05-23T12:05:28.034217Z",
     "start_time": "2024-05-23T12:05:28.032327Z"
    }
   },
   "cell_type": "code",
   "source": "",
   "id": "dafbcc470448ddc0",
   "outputs": [],
   "execution_count": null
  },
  {
   "metadata": {},
   "cell_type": "markdown",
   "source": [
    "## Task 2\n",
    "\n",
    "Remove stop word\n",
    "\n",
    "Remove the stop word and save the results in new column"
   ],
   "id": "eca903839ab44063"
  },
  {
   "metadata": {
    "ExecuteTime": {
     "end_time": "2024-05-23T12:06:02.588690Z",
     "start_time": "2024-05-23T12:06:02.586597Z"
    }
   },
   "cell_type": "code",
   "source": "",
   "id": "3fc05d498d0d82d8",
   "outputs": [],
   "execution_count": null
  },
  {
   "metadata": {
    "ExecuteTime": {
     "end_time": "2024-05-23T12:06:03.794483Z",
     "start_time": "2024-05-23T12:06:03.792830Z"
    }
   },
   "cell_type": "code",
   "source": "",
   "id": "d57e45fb6b9e87e7",
   "outputs": [],
   "execution_count": null
  },
  {
   "metadata": {},
   "cell_type": "markdown",
   "source": [
    "## Task 3\n",
    "\n",
    "Write Python function that do `Task 1` and `Task 2` "
   ],
   "id": "d4b668d026d15d84"
  },
  {
   "metadata": {},
   "cell_type": "code",
   "outputs": [],
   "execution_count": null,
   "source": "",
   "id": "a9eb74a8a51f5da1"
  },
  {
   "metadata": {},
   "cell_type": "markdown",
   "source": [
    "## Task 4 \n",
    "Stemming or lemmatize \n",
    "\n",
    "Apply this on column from `Task 2`, the results save in new column"
   ],
   "id": "f12717da40d17545"
  },
  {
   "metadata": {},
   "cell_type": "code",
   "outputs": [],
   "execution_count": null,
   "source": "",
   "id": "5d5dd9e863334e08"
  },
  {
   "metadata": {},
   "cell_type": "markdown",
   "source": [
    "## Task 5\n",
    "\n",
    "Write custom tokenizer\n",
    "\n",
    "* Input text one string\n",
    "* Output list of tokens\n",
    "\n",
    "The tokenizer do the following\n",
    "\n",
    "1. remove stop words\n",
    "2. remove punctuations\n",
    "3. stemming or lemmatize the words"
   ],
   "id": "8889a1735653e605"
  },
  {
   "metadata": {},
   "cell_type": "code",
   "outputs": [],
   "execution_count": null,
   "source": "",
   "id": "75198a37a61ef564"
  }
 ],
 "metadata": {
  "kernelspec": {
   "display_name": "Python 3",
   "language": "python",
   "name": "python3"
  },
  "language_info": {
   "codemirror_mode": {
    "name": "ipython",
    "version": 2
   },
   "file_extension": ".py",
   "mimetype": "text/x-python",
   "name": "python",
   "nbconvert_exporter": "python",
   "pygments_lexer": "ipython2",
   "version": "2.7.6"
  }
 },
 "nbformat": 4,
 "nbformat_minor": 5
}
