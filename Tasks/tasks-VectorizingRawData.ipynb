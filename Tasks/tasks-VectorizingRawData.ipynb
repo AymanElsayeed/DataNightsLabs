{
 "cells": [
  {
   "metadata": {},
   "cell_type": "markdown",
   "source": "# Tasks Vectorizing Raw Data",
   "id": "e01c1d1ef9733097"
  },
  {
   "metadata": {
    "ExecuteTime": {
     "end_time": "2024-05-23T12:16:52.339536Z",
     "start_time": "2024-05-23T12:16:52.338011Z"
    }
   },
   "cell_type": "code",
   "source": "",
   "id": "f48027b1aa73aa0d",
   "outputs": [],
   "execution_count": 37
  },
  {
   "metadata": {
    "ExecuteTime": {
     "end_time": "2024-05-23T12:16:11.987477Z",
     "start_time": "2024-05-23T12:16:11.986Z"
    }
   },
   "cell_type": "code",
   "source": "",
   "id": "e30ef51c2ed74f8",
   "outputs": [],
   "execution_count": 37
  },
  {
   "metadata": {},
   "cell_type": "markdown",
   "source": "## CountVectorizer",
   "id": "11444a5a67b3c76d"
  },
  {
   "metadata": {
    "ExecuteTime": {
     "end_time": "2024-05-23T12:02:32.164393Z",
     "start_time": "2024-05-23T12:02:32.161808Z"
    }
   },
   "cell_type": "code",
   "source": "",
   "id": "b6e25752d9e29d45",
   "outputs": [],
   "execution_count": 27
  },
  {
   "metadata": {},
   "cell_type": "code",
   "outputs": [],
   "execution_count": null,
   "source": "",
   "id": "3b021fb53c7bfbe7"
  },
  {
   "metadata": {},
   "cell_type": "markdown",
   "source": "## TfidfVectorizer",
   "id": "a7a7a2c3988a5cdb"
  },
  {
   "metadata": {
    "ExecuteTime": {
     "end_time": "2024-05-23T11:56:47.855957Z",
     "start_time": "2024-05-23T11:56:47.854217Z"
    }
   },
   "cell_type": "code",
   "source": "",
   "id": "c3f63e3e600e046c",
   "outputs": [],
   "execution_count": null
  },
  {
   "metadata": {
    "ExecuteTime": {
     "end_time": "2024-05-23T11:56:56.673767Z",
     "start_time": "2024-05-23T11:56:56.671847Z"
    }
   },
   "cell_type": "code",
   "source": "",
   "id": "299cd29ac4382013",
   "outputs": [],
   "execution_count": null
  },
  {
   "metadata": {},
   "cell_type": "markdown",
   "source": "## N-grams vectorization",
   "id": "eb91eaca97218cd7"
  },
  {
   "metadata": {},
   "cell_type": "code",
   "outputs": [],
   "execution_count": null,
   "source": "",
   "id": "847e0555b1111749"
  }
 ],
 "metadata": {
  "kernelspec": {
   "display_name": "Python 3",
   "language": "python",
   "name": "python3"
  },
  "language_info": {
   "codemirror_mode": {
    "name": "ipython",
    "version": 2
   },
   "file_extension": ".py",
   "mimetype": "text/x-python",
   "name": "python",
   "nbconvert_exporter": "python",
   "pygments_lexer": "ipython2",
   "version": "2.7.6"
  }
 },
 "nbformat": 4,
 "nbformat_minor": 5
}
