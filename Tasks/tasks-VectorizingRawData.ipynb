{
 "cells": [
  {
   "metadata": {},
   "cell_type": "markdown",
   "source": "# Tasks Vectorizing Raw Data",
   "id": "e01c1d1ef9733097"
  },
  {
   "metadata": {
    "ExecuteTime": {
     "end_time": "2024-06-16T11:42:24.875850Z",
     "start_time": "2024-06-16T11:42:24.652325Z"
    }
   },
   "cell_type": "code",
   "source": [
    "from sklearn.feature_extraction.text import CountVectorizer\n",
    "from sklearn.feature_extraction.text import TfidfVectorizer\n",
    "import pandas as pd\n",
    "import nltk"
   ],
   "id": "b19a49c3a9fcd76c",
   "outputs": [],
   "execution_count": 6
  },
  {
   "metadata": {
    "ExecuteTime": {
     "end_time": "2024-06-16T10:42:24.434358Z",
     "start_time": "2024-06-16T10:42:24.432290Z"
    }
   },
   "cell_type": "code",
   "source": [
    "\n",
    "sample_data = ['This is the first paper.',\n",
    "               'This document is the second paper.',\n",
    "               'And this is the third one.',\n",
    "               'Is this the first paper?']\n"
   ],
   "id": "f48027b1aa73aa0d",
   "outputs": [],
   "execution_count": 10
  },
  {
   "metadata": {
    "ExecuteTime": {
     "end_time": "2024-06-16T10:43:09.294762Z",
     "start_time": "2024-06-16T10:43:09.293009Z"
    }
   },
   "cell_type": "code",
   "source": "",
   "id": "e30ef51c2ed74f8",
   "outputs": [],
   "execution_count": 10
  },
  {
   "metadata": {},
   "cell_type": "markdown",
   "source": [
    "## Count Vectorizer\n",
    "### Task 1\n",
    " Use `CountVectorizer` on the same data\n",
    "1. Once with `stop_words=\"english\"` and once without and find what is the difference?\n",
    "2. Once with `lowercase=True` and once without and find what is the difference\n",
    "\n",
    "\n",
    "\n",
    "\n",
    "\n",
    "\n"
   ],
   "id": "11444a5a67b3c76d"
  },
  {
   "metadata": {
    "ExecuteTime": {
     "end_time": "2024-06-16T10:39:59.138445Z",
     "start_time": "2024-06-16T10:39:59.137133Z"
    }
   },
   "cell_type": "code",
   "source": "",
   "id": "5b0d719619915311",
   "outputs": [],
   "execution_count": 4
  },
  {
   "metadata": {
    "ExecuteTime": {
     "end_time": "2024-06-16T10:54:57.766898Z",
     "start_time": "2024-06-16T10:54:57.764024Z"
    }
   },
   "cell_type": "code",
   "source": [
    "count_vectorizer = CountVectorizer()\n",
    "x = count_vectorizer.fit_transform(sample_data)"
   ],
   "id": "b6e25752d9e29d45",
   "outputs": [],
   "execution_count": 17
  },
  {
   "metadata": {
    "ExecuteTime": {
     "end_time": "2024-06-16T10:54:59.781927Z",
     "start_time": "2024-06-16T10:54:59.778069Z"
    }
   },
   "cell_type": "code",
   "source": "count_vectorizer.get_feature_names_out()",
   "id": "3b021fb53c7bfbe7",
   "outputs": [
    {
     "data": {
      "text/plain": [
       "array(['and', 'document', 'first', 'is', 'one', 'paper', 'second', 'the',\n",
       "       'third', 'this'], dtype=object)"
      ]
     },
     "execution_count": 18,
     "metadata": {},
     "output_type": "execute_result"
    }
   ],
   "execution_count": 18
  },
  {
   "metadata": {
    "ExecuteTime": {
     "end_time": "2024-06-16T10:55:00.657527Z",
     "start_time": "2024-06-16T10:55:00.655931Z"
    }
   },
   "cell_type": "code",
   "source": "count_vectorizer.vocabulary",
   "id": "8dd3deeed9a075f0",
   "outputs": [],
   "execution_count": 19
  },
  {
   "metadata": {
    "ExecuteTime": {
     "end_time": "2024-06-16T10:55:01.963514Z",
     "start_time": "2024-06-16T10:55:01.960554Z"
    }
   },
   "cell_type": "code",
   "source": "x.toarray()",
   "id": "58bec80fb21a996e",
   "outputs": [
    {
     "data": {
      "text/plain": [
       "array([[0, 0, 1, 1, 0, 1, 0, 1, 0, 1],\n",
       "       [0, 1, 0, 1, 0, 1, 1, 1, 0, 1],\n",
       "       [1, 0, 0, 1, 1, 0, 0, 1, 1, 1],\n",
       "       [0, 0, 1, 1, 0, 1, 0, 1, 0, 1]])"
      ]
     },
     "execution_count": 20,
     "metadata": {},
     "output_type": "execute_result"
    }
   ],
   "execution_count": 20
  },
  {
   "metadata": {},
   "cell_type": "markdown",
   "source": [
    "### Quz 1:\n",
    "what is the shape of `x.toarray()`?"
   ],
   "id": "58af6e2f835be8e2"
  },
  {
   "metadata": {
    "ExecuteTime": {
     "end_time": "2024-06-16T10:39:32.465331Z",
     "start_time": "2024-06-16T10:39:32.463014Z"
    }
   },
   "cell_type": "code",
   "source": "",
   "id": "f5571419261f3383",
   "outputs": [
    {
     "data": {
      "text/plain": [
       "(4, 3)"
      ]
     },
     "execution_count": 28,
     "metadata": {},
     "output_type": "execute_result"
    }
   ],
   "execution_count": 28
  },
  {
   "metadata": {},
   "cell_type": "markdown",
   "source": [
    "<details>\n",
    "    <summary>Click to reveal answer</summary>\n",
    "    <p>\n",
    "    x.toarray().shape\n",
    "    </p>\n",
    "</details>"
   ],
   "id": "91436729e5d8f0c8"
  },
  {
   "metadata": {},
   "cell_type": "markdown",
   "source": [
    "### Quz 2:\n",
    "What is the type of `x`?"
   ],
   "id": "f0a7de68f1c927e3"
  },
  {
   "metadata": {
    "ExecuteTime": {
     "end_time": "2024-06-16T10:39:08.395872Z",
     "start_time": "2024-06-16T10:39:08.394240Z"
    }
   },
   "cell_type": "code",
   "source": "",
   "id": "697de75d3ee9fbce",
   "outputs": [],
   "execution_count": 26
  },
  {
   "metadata": {},
   "cell_type": "markdown",
   "source": [
    "<details>\n",
    "    <summary>Click to reveal answer</summary>\n",
    "    <p>\n",
    "    type(x)\n",
    "    </p>\n",
    "</details>"
   ],
   "id": "b0b5c458a64008a4"
  },
  {
   "metadata": {},
   "cell_type": "markdown",
   "source": [
    "### Quz 3:\n",
    "What is the type of `count_vectorizer`?"
   ],
   "id": "f9854b9038c7ce52"
  },
  {
   "metadata": {
    "ExecuteTime": {
     "end_time": "2024-06-16T10:39:10.219907Z",
     "start_time": "2024-06-16T10:39:10.217662Z"
    }
   },
   "cell_type": "code",
   "source": "",
   "id": "bcfdb319107b38d0",
   "outputs": [],
   "execution_count": 26
  },
  {
   "metadata": {},
   "cell_type": "markdown",
   "source": [
    "<details>\n",
    "    <summary>Click to reveal answer</summary>\n",
    "    <p>\n",
    "    type(count_vectorizer)\n",
    "    </p>\n",
    "</details>"
   ],
   "id": "9ae2454f97b94ef9"
  },
  {
   "metadata": {},
   "cell_type": "markdown",
   "source": [
    "### Quz 4:\n",
    "Print the vector the representation of the first document in the sample_data"
   ],
   "id": "7c6be65cd453fffd"
  },
  {
   "metadata": {
    "ExecuteTime": {
     "end_time": "2024-06-16T10:39:11.149292Z",
     "start_time": "2024-06-16T10:39:11.147696Z"
    }
   },
   "cell_type": "code",
   "source": "",
   "id": "b7054d3ce0e44bef",
   "outputs": [],
   "execution_count": 26
  },
  {
   "metadata": {},
   "cell_type": "markdown",
   "source": [
    "<details>\n",
    "    <summary>Click to reveal answer</summary>\n",
    "    <p>\n",
    "    x.toarray()[0]\n",
    "    </p>\n",
    "</details>"
   ],
   "id": "719e8618d48952e5"
  },
  {
   "metadata": {},
   "cell_type": "markdown",
   "source": [
    "### Quz 5:\n",
    "Print the vector that represents the word \"second\" in the sample_data"
   ],
   "id": "fd435a429e6e66d1"
  },
  {
   "metadata": {
    "ExecuteTime": {
     "end_time": "2024-06-16T10:39:13.955259Z",
     "start_time": "2024-06-16T10:39:13.953291Z"
    }
   },
   "cell_type": "code",
   "source": "",
   "id": "6a7c97b05240ce97",
   "outputs": [],
   "execution_count": 26
  },
  {
   "metadata": {},
   "cell_type": "markdown",
   "source": [
    "<details>\n",
    "    <summary>Click to reveal answer</summary>\n",
    "    <p>\n",
    "    x.toarray()[:, 2]\n",
    "    </p>\n",
    "</details>"
   ],
   "id": "36aeed1ef37ccd13"
  },
  {
   "metadata": {},
   "cell_type": "markdown",
   "source": [
    "### Quz 6:\n",
    "Create the instance of `CountVectorizer` with `stop_words=\"english\"` and do the quizes 1-5, what is the difference?\n",
    "\n",
    "1. print the feature names of the vectorized data\n",
    "2. print the shape of the vectorized data `x.toarray()`\n"
   ],
   "id": "df6d174746fd82ca"
  },
  {
   "metadata": {
    "ExecuteTime": {
     "end_time": "2024-06-16T10:42:15.373770Z",
     "start_time": "2024-06-16T10:42:15.372243Z"
    }
   },
   "cell_type": "code",
   "source": "",
   "id": "601792641f0b23d2",
   "outputs": [],
   "execution_count": 8
  },
  {
   "metadata": {},
   "cell_type": "markdown",
   "source": [
    "<details>\n",
    "    <summary>Click to reveal answer</summary>\n",
    "    <p>\n",
    "    there is no \"is\" in the feature names, or any other stop words\n",
    "    so the shape of the aarray is different\n",
    "    </p>\n",
    "</details>"
   ],
   "id": "5f6be03c1ddfb825"
  },
  {
   "metadata": {},
   "cell_type": "markdown",
   "source": [
    "## Tf-IDF Vectorizer\n",
    "\n",
    "### Task 2\n",
    "\n",
    " Use `TfidfVectorizer` on the same data\n",
    "1. Once with `tokenizer=my_custom_tokenizer` and once without and find what is the difference?\n"
   ],
   "id": "a7a7a2c3988a5cdb"
  },
  {
   "metadata": {
    "ExecuteTime": {
     "end_time": "2024-06-16T10:44:56.433878Z",
     "start_time": "2024-06-16T10:44:56.431373Z"
    }
   },
   "cell_type": "code",
   "source": [
    "def my_custom_tokenizer(text):\n",
    "    return text.split(\" \")"
   ],
   "id": "c3f63e3e600e046c",
   "outputs": [],
   "execution_count": 12
  },
  {
   "metadata": {
    "ExecuteTime": {
     "end_time": "2024-06-16T10:44:56.760669Z",
     "start_time": "2024-06-16T10:44:56.758790Z"
    }
   },
   "cell_type": "code",
   "source": "",
   "id": "55093d2f630ef03a",
   "outputs": [],
   "execution_count": 12
  },
  {
   "metadata": {
    "ExecuteTime": {
     "end_time": "2024-06-16T10:45:36.007142Z",
     "start_time": "2024-06-16T10:45:36.005479Z"
    }
   },
   "cell_type": "code",
   "source": "tfidf_vectorizer = TfidfVectorizer(tokenizer=my_custom_tokenizer)",
   "id": "2611055bf70996f",
   "outputs": [],
   "execution_count": 16
  },
  {
   "metadata": {
    "ExecuteTime": {
     "end_time": "2024-06-16T10:44:58.567633Z",
     "start_time": "2024-06-16T10:44:58.562011Z"
    }
   },
   "cell_type": "code",
   "source": "x2 = tfidf_vectorizer.fit_transform(sample_data)",
   "id": "f1555fc7e8827fdc",
   "outputs": [
    {
     "name": "stderr",
     "output_type": "stream",
     "text": [
      "/Users/aymanelsayeed/.local/share/virtualenvs/DataNightsLabs-790isYnF/lib/python3.12/site-packages/sklearn/feature_extraction/text.py:523: UserWarning: The parameter 'token_pattern' will not be used since 'tokenizer' is not None'\n",
      "  warnings.warn(\n"
     ]
    }
   ],
   "execution_count": 14
  },
  {
   "metadata": {
    "ExecuteTime": {
     "end_time": "2024-06-16T10:45:03.619210Z",
     "start_time": "2024-06-16T10:45:03.615419Z"
    }
   },
   "cell_type": "code",
   "source": "tfidf_vectorizer.get_feature_names_out()",
   "id": "299cd29ac4382013",
   "outputs": [
    {
     "data": {
      "text/plain": [
       "array(['document', 'one.', 'paper.', 'paper?', 'second'], dtype=object)"
      ]
     },
     "execution_count": 15,
     "metadata": {},
     "output_type": "execute_result"
    }
   ],
   "execution_count": 15
  },
  {
   "metadata": {
    "ExecuteTime": {
     "end_time": "2024-06-16T10:08:19.409027Z",
     "start_time": "2024-06-16T10:08:19.406063Z"
    }
   },
   "cell_type": "code",
   "source": "x2.toarray()",
   "id": "aa476e6f84239045",
   "outputs": [
    {
     "data": {
      "text/plain": [
       "array([[0.        , 0.        , 0.54929352, 0.36357175, 0.        ,\n",
       "        0.54929352, 0.        , 0.        , 0.36357175, 0.        ,\n",
       "        0.36357175],\n",
       "       [0.        , 0.53927767, 0.        , 0.28141746, 0.        ,\n",
       "        0.42517271, 0.        , 0.53927767, 0.28141746, 0.        ,\n",
       "        0.28141746],\n",
       "       [0.51184851, 0.        , 0.        , 0.26710379, 0.51184851,\n",
       "        0.        , 0.        , 0.        , 0.26710379, 0.51184851,\n",
       "        0.26710379],\n",
       "       [0.        , 0.        , 0.50487895, 0.3341742 , 0.        ,\n",
       "        0.        , 0.64037493, 0.        , 0.3341742 , 0.        ,\n",
       "        0.3341742 ]])"
      ]
     },
     "execution_count": 57,
     "metadata": {},
     "output_type": "execute_result"
    }
   ],
   "execution_count": 57
  },
  {
   "metadata": {},
   "cell_type": "markdown",
   "source": [
    "#### Quz 1:\n",
    "What is the type of `tfidf_vectorizer`?"
   ],
   "id": "88cbc93ec11923d2"
  },
  {
   "metadata": {
    "ExecuteTime": {
     "end_time": "2024-06-16T10:08:32.681121Z",
     "start_time": "2024-06-16T10:08:32.677796Z"
    }
   },
   "cell_type": "code",
   "source": "",
   "id": "3c1d293bd2f9ec61",
   "outputs": [
    {
     "data": {
      "text/plain": [
       "sklearn.feature_extraction.text.TfidfVectorizer"
      ]
     },
     "execution_count": 58,
     "metadata": {},
     "output_type": "execute_result"
    }
   ],
   "execution_count": 58
  },
  {
   "metadata": {},
   "cell_type": "markdown",
   "source": [
    "<details>\n",
    "    <summary>Click to reveal answer</summary>\n",
    "    <p>\n",
    "    type(tfidf_vectorizer)\n",
    "    </p>\n",
    "</details>"
   ],
   "id": "6b2d539df2991292"
  },
  {
   "metadata": {},
   "cell_type": "markdown",
   "source": [
    "#### Quz 2:\n",
    "What is the type of `x2`?"
   ],
   "id": "ad1d921e4253c677"
  },
  {
   "metadata": {
    "ExecuteTime": {
     "end_time": "2024-06-16T10:08:49.099259Z",
     "start_time": "2024-06-16T10:08:49.096953Z"
    }
   },
   "cell_type": "code",
   "source": "",
   "id": "e6b8d83fb7b54d5f",
   "outputs": [
    {
     "data": {
      "text/plain": [
       "scipy.sparse._csr.csr_matrix"
      ]
     },
     "execution_count": 59,
     "metadata": {},
     "output_type": "execute_result"
    }
   ],
   "execution_count": 59
  },
  {
   "metadata": {},
   "cell_type": "markdown",
   "source": [
    "<details>\n",
    "    <summary>Click to reveal answer</summary>\n",
    "    <p>\n",
    "    type(x2)\n",
    "    </p>\n",
    "</details>\n"
   ],
   "id": "68fa55de755e407"
  },
  {
   "metadata": {},
   "cell_type": "markdown",
   "source": [
    "#### Quz 3:\n",
    "What is the shape of `x2.toarray()`?"
   ],
   "id": "2d79f3fdb4a3fb20"
  },
  {
   "metadata": {
    "ExecuteTime": {
     "end_time": "2024-06-16T10:14:08.912844Z",
     "start_time": "2024-06-16T10:14:08.910311Z"
    }
   },
   "cell_type": "code",
   "source": "",
   "id": "378ab9fbd4fe653f",
   "outputs": [
    {
     "data": {
      "text/plain": [
       "(4, 11)"
      ]
     },
     "execution_count": 71,
     "metadata": {},
     "output_type": "execute_result"
    }
   ],
   "execution_count": 71
  },
  {
   "metadata": {},
   "cell_type": "markdown",
   "source": [
    "<details>\n",
    "    <summary>Click to reveal answer</summary>\n",
    "    <p>\n",
    "    x2.toarray().shape\n",
    "    </p>\n",
    "</details>\n"
   ],
   "id": "e16b9ce5d9a92d16"
  },
  {
   "metadata": {},
   "cell_type": "markdown",
   "source": [
    "### Quz 4:\n",
    "Print the vector the representation of the second document in the sample_data"
   ],
   "id": "84b8248005f6724c"
  },
  {
   "metadata": {
    "ExecuteTime": {
     "end_time": "2024-06-16T10:09:12.600728Z",
     "start_time": "2024-06-16T10:09:12.597358Z"
    }
   },
   "cell_type": "code",
   "source": "",
   "id": "96c5ef9760e7ef10",
   "outputs": [
    {
     "data": {
      "text/plain": [
       "array([0.        , 0.53927767, 0.        , 0.28141746, 0.        ,\n",
       "       0.42517271, 0.        , 0.53927767, 0.28141746, 0.        ,\n",
       "       0.28141746])"
      ]
     },
     "execution_count": 60,
     "metadata": {},
     "output_type": "execute_result"
    }
   ],
   "execution_count": 60
  },
  {
   "metadata": {},
   "cell_type": "markdown",
   "source": [
    "<details>\n",
    "    <summary>Click to reveal answer</summary>\n",
    "    <p>\n",
    "    x2.toarray()[1]\n",
    "    </p>\n",
    "</details>"
   ],
   "id": "c4d6c96a07c1ff5e"
  },
  {
   "metadata": {},
   "cell_type": "markdown",
   "source": [
    "### Quz 5:\n",
    "Print the vector that represents the word \"second\" in the sample_data"
   ],
   "id": "d62e1f60add2d98f"
  },
  {
   "metadata": {
    "ExecuteTime": {
     "end_time": "2024-06-16T10:09:30.033915Z",
     "start_time": "2024-06-16T10:09:30.031540Z"
    }
   },
   "cell_type": "code",
   "source": "",
   "id": "79ade7746c197c75",
   "outputs": [
    {
     "data": {
      "text/plain": [
       "array([0.54929352, 0.        , 0.        , 0.50487895])"
      ]
     },
     "execution_count": 61,
     "metadata": {},
     "output_type": "execute_result"
    }
   ],
   "execution_count": 61
  },
  {
   "metadata": {},
   "cell_type": "markdown",
   "source": [
    "<details>\n",
    "    <summary>Click to reveal answer</summary>\n",
    "    <p>\n",
    "    x2.toarray()[:, 2]\n",
    "    </p>\n",
    "</details>"
   ],
   "id": "237bff8f304dcc34"
  },
  {
   "metadata": {},
   "cell_type": "markdown",
   "source": [
    "### Quz 6:\n",
    "Create the instance of `TfidfVectorizer` with `stop_words=\"english\"` and do the quizes 1-5, what is the difference?\n",
    "\n",
    "1. print the feature names of the vectorized data\n",
    "2. print the shape of the vectorized data `x2.toarray()`"
   ],
   "id": "60dacee7b6e9a354"
  },
  {
   "metadata": {},
   "cell_type": "code",
   "outputs": [],
   "execution_count": null,
   "source": "",
   "id": "636c61d087b0aa99"
  },
  {
   "metadata": {},
   "cell_type": "markdown",
   "source": [
    "<details>\n",
    "    <summary>Click to reveal answer</summary>\n",
    "    <p>\n",
    "    the feature names are different\n",
    "    the shape of the array is different\n",
    "    </p>\n",
    "</details>"
   ],
   "id": "caad211739296bb3"
  },
  {
   "metadata": {},
   "cell_type": "markdown",
   "source": [
    "### Quz 7:\n",
    "Update the `my_custom_tokenizer` function to remove the punctuations and do the quizes 1-5, what is the difference?"
   ],
   "id": "4d100281acf2404f"
  },
  {
   "metadata": {},
   "cell_type": "code",
   "outputs": [],
   "execution_count": null,
   "source": "",
   "id": "4b197d2af2f37692"
  },
  {
   "metadata": {},
   "cell_type": "markdown",
   "source": [
    "<details>\n",
    "    <summary>Click to reveal answer</summary>\n",
    "    <p>\n",
    "    the feature names are different\n",
    "    no punctuations in the feature names\n",
    "    </p>\n",
    "</details>"
   ],
   "id": "18253db286d04178"
  },
  {
   "metadata": {},
   "cell_type": "markdown",
   "source": [
    "## N-grams vectorization\n",
    "\n",
    "### Task 3"
   ],
   "id": "eb91eaca97218cd7"
  },
  {
   "metadata": {
    "ExecuteTime": {
     "end_time": "2024-06-16T10:09:39.255489Z",
     "start_time": "2024-06-16T10:09:39.252399Z"
    }
   },
   "cell_type": "code",
   "source": "n_gram_vectorizer = CountVectorizer(ngram_range=(2, 2))",
   "id": "847e0555b1111749",
   "outputs": [],
   "execution_count": 62
  },
  {
   "metadata": {
    "ExecuteTime": {
     "end_time": "2024-06-16T10:09:39.718718Z",
     "start_time": "2024-06-16T10:09:39.716306Z"
    }
   },
   "cell_type": "code",
   "source": "x3 = n_gram_vectorizer.fit_transform(sample_data)",
   "id": "8883e65d0b8c6978",
   "outputs": [],
   "execution_count": 63
  },
  {
   "metadata": {
    "ExecuteTime": {
     "end_time": "2024-06-16T10:10:36.034837Z",
     "start_time": "2024-06-16T10:10:36.031437Z"
    }
   },
   "cell_type": "code",
   "source": "x3.toarray()",
   "id": "46ba1e5b09dd0591",
   "outputs": [
    {
     "data": {
      "text/plain": [
       "array([[0, 0, 1, 1, 0, 0, 1, 0, 0, 0, 0, 1, 0],\n",
       "       [0, 1, 0, 1, 0, 1, 0, 1, 0, 0, 1, 0, 0],\n",
       "       [1, 0, 0, 1, 0, 0, 0, 0, 1, 1, 0, 1, 0],\n",
       "       [0, 0, 1, 0, 1, 0, 1, 0, 0, 0, 0, 0, 1]])"
      ]
     },
     "execution_count": 68,
     "metadata": {},
     "output_type": "execute_result"
    }
   ],
   "execution_count": 68
  },
  {
   "metadata": {
    "ExecuteTime": {
     "end_time": "2024-06-16T10:09:40.112817Z",
     "start_time": "2024-06-16T10:09:40.110286Z"
    }
   },
   "cell_type": "code",
   "source": "n_gram_vectorizer.get_feature_names_out()",
   "id": "26ab60e0db487677",
   "outputs": [
    {
     "data": {
      "text/plain": [
       "array(['and this', 'document is', 'first paper', 'is the', 'is this',\n",
       "       'second paper', 'the first', 'the second', 'the third',\n",
       "       'third one', 'this document', 'this is', 'this the'], dtype=object)"
      ]
     },
     "execution_count": 64,
     "metadata": {},
     "output_type": "execute_result"
    }
   ],
   "execution_count": 64
  },
  {
   "metadata": {},
   "cell_type": "markdown",
   "source": [
    "### Quz 1:\n",
    "What is the type of `n_gram_vectorizer`?"
   ],
   "id": "57eff2d29672f722"
  },
  {
   "metadata": {
    "ExecuteTime": {
     "end_time": "2024-06-16T10:09:46.018484Z",
     "start_time": "2024-06-16T10:09:46.015808Z"
    }
   },
   "cell_type": "code",
   "source": "",
   "id": "3c094729a59a2ab9",
   "outputs": [
    {
     "data": {
      "text/plain": [
       "sklearn.feature_extraction.text.CountVectorizer"
      ]
     },
     "execution_count": 65,
     "metadata": {},
     "output_type": "execute_result"
    }
   ],
   "execution_count": 65
  },
  {
   "metadata": {},
   "cell_type": "markdown",
   "source": [
    "<details>\n",
    "    <summary>Click to reveal answer</summary>\n",
    "    <p>\n",
    "    type(n_gram_vectorizer)\n",
    "    </p>"
   ],
   "id": "616c0be34997a220"
  },
  {
   "metadata": {},
   "cell_type": "markdown",
   "source": [
    "### Quz 2:\n",
    "What is the type of `x3`?"
   ],
   "id": "d0ba9bc4868f6ec1"
  },
  {
   "metadata": {
    "ExecuteTime": {
     "end_time": "2024-06-16T10:10:01.935468Z",
     "start_time": "2024-06-16T10:10:01.932325Z"
    }
   },
   "cell_type": "code",
   "source": "",
   "id": "88dbaf366e0d256",
   "outputs": [
    {
     "data": {
      "text/plain": [
       "scipy.sparse._csr.csr_matrix"
      ]
     },
     "execution_count": 66,
     "metadata": {},
     "output_type": "execute_result"
    }
   ],
   "execution_count": 66
  },
  {
   "metadata": {},
   "cell_type": "markdown",
   "source": [
    "<details>\n",
    "    <summary>Click to reveal answer</summary>\n",
    "    <p>\n",
    "    type(x3)\n",
    "    </p>"
   ],
   "id": "54fbdbe61f0adaa7"
  },
  {
   "metadata": {},
   "cell_type": "markdown",
   "source": [
    "### Quz 3:\n",
    "What is the shape of `x3.toarray()`?"
   ],
   "id": "286258838348ad7e"
  },
  {
   "metadata": {
    "ExecuteTime": {
     "end_time": "2024-06-16T10:17:06.239478Z",
     "start_time": "2024-06-16T10:17:06.237238Z"
    }
   },
   "cell_type": "code",
   "source": "x3.toarray().shape",
   "id": "2b849a920dd04779",
   "outputs": [
    {
     "data": {
      "text/plain": [
       "(4, 13)"
      ]
     },
     "execution_count": 72,
     "metadata": {},
     "output_type": "execute_result"
    }
   ],
   "execution_count": 72
  },
  {
   "metadata": {},
   "cell_type": "markdown",
   "source": [
    "<details>\n",
    "    <summary>Click to reveal answer</summary>\n",
    "    <p>\n",
    "    x3.toarray().shape\n",
    "    </p>\n",
    "</details>    "
   ],
   "id": "59e5f8956bfc78ca"
  },
  {
   "metadata": {},
   "cell_type": "markdown",
   "source": [
    "### Quz 4:\n",
    "Print the vector the representation of the second document in the sample_data"
   ],
   "id": "f6aae8e892c3e0f1"
  },
  {
   "metadata": {
    "ExecuteTime": {
     "end_time": "2024-06-16T10:10:22.582645Z",
     "start_time": "2024-06-16T10:10:22.579928Z"
    }
   },
   "cell_type": "code",
   "source": "",
   "id": "7d8feba33fcc6a92",
   "outputs": [
    {
     "data": {
      "text/plain": [
       "array([0, 1, 0, 1, 0, 1, 0, 1, 0, 0, 1, 0, 0])"
      ]
     },
     "execution_count": 67,
     "metadata": {},
     "output_type": "execute_result"
    }
   ],
   "execution_count": 67
  },
  {
   "metadata": {},
   "cell_type": "markdown",
   "source": [
    "<details>\n",
    "    <summary>Click to reveal answer</summary>\n",
    "    <p>\n",
    "    x3.toarray()[1]\n",
    "    </p>"
   ],
   "id": "b45ec88964cb754c"
  },
  {
   "metadata": {},
   "cell_type": "markdown",
   "source": [
    "### Quz 5:\n",
    "Print the vector that represents the word \"second paper\" in the sample_data"
   ],
   "id": "61d4c9e9cb043da3"
  },
  {
   "metadata": {
    "ExecuteTime": {
     "end_time": "2024-06-16T10:10:46.277040Z",
     "start_time": "2024-06-16T10:10:46.274491Z"
    }
   },
   "cell_type": "code",
   "source": "",
   "id": "41d46d3ad640e7c1",
   "outputs": [
    {
     "data": {
      "text/plain": [
       "array([1, 0, 0, 1])"
      ]
     },
     "execution_count": 69,
     "metadata": {},
     "output_type": "execute_result"
    }
   ],
   "execution_count": 69
  },
  {
   "metadata": {},
   "cell_type": "markdown",
   "source": [
    "<details>\n",
    "    <summary>Click to reveal answer</summary>\n",
    "    <p>\n",
    "    x3.toarray()[:, 2]\n",
    "    </p>"
   ],
   "id": "fd7b7c6ee65cd13"
  },
  {
   "metadata": {},
   "cell_type": "markdown",
   "source": [
    "## Task 4\n",
    "\n",
    "1. choose a dataset from the datasets folder\n",
    "2. Clean the dataset\n",
    "3. Use one of the vectorizers we discussed above on the dataset\n",
    "4. Print the shape of the vectorized data\n",
    "5. Print the first 5 rows of the vectorized data\n",
    "6. Print the feature names of the vectorized data\n",
    "7. Print the vocabulary of the vectorized data"
   ],
   "id": "c6f0ad34ace3907f"
  },
  {
   "metadata": {
    "ExecuteTime": {
     "end_time": "2024-06-16T10:54:00.731230Z",
     "start_time": "2024-06-16T10:54:00.729731Z"
    }
   },
   "cell_type": "code",
   "source": "",
   "id": "6aa834a33295f3c8",
   "outputs": [],
   "execution_count": 16
  },
  {
   "metadata": {
    "ExecuteTime": {
     "end_time": "2024-06-16T10:53:58.635409Z",
     "start_time": "2024-06-16T10:53:58.633962Z"
    }
   },
   "cell_type": "code",
   "source": "",
   "id": "3172b31e7589246c",
   "outputs": [],
   "execution_count": 16
  },
  {
   "metadata": {},
   "cell_type": "markdown",
   "source": "## Task 5 Text similarity\n",
   "id": "56582eeddf47615a"
  },
  {
   "metadata": {
    "ExecuteTime": {
     "end_time": "2024-06-16T11:42:18.489915Z",
     "start_time": "2024-06-16T11:42:18.390881Z"
    }
   },
   "cell_type": "code",
   "source": "from sklearn.metrics.pairwise import cosine_similarity",
   "id": "b4e1d05c21123558",
   "outputs": [],
   "execution_count": 1
  },
  {
   "metadata": {
    "ExecuteTime": {
     "end_time": "2024-06-16T11:42:18.492204Z",
     "start_time": "2024-06-16T11:42:18.490672Z"
    }
   },
   "cell_type": "code",
   "source": [
    "# create two vectors\n",
    "vector_1 = [1, 2, 3]\n",
    "vector_2 = [1, 2, 3]\n"
   ],
   "id": "6e68f13d86fb35c1",
   "outputs": [],
   "execution_count": 2
  },
  {
   "metadata": {
    "ExecuteTime": {
     "end_time": "2024-06-16T11:42:18.496311Z",
     "start_time": "2024-06-16T11:42:18.493300Z"
    }
   },
   "cell_type": "code",
   "source": [
    "# calculate the cosine similarity between the two vectors\n",
    "cosine_similarity([vector_1], [vector_2])"
   ],
   "id": "73c1ea446dd0ddce",
   "outputs": [
    {
     "data": {
      "text/plain": [
       "array([[1.]])"
      ]
     },
     "execution_count": 3,
     "metadata": {},
     "output_type": "execute_result"
    }
   ],
   "execution_count": 3
  },
  {
   "metadata": {
    "ExecuteTime": {
     "end_time": "2024-06-16T11:42:18.498225Z",
     "start_time": "2024-06-16T11:42:18.496841Z"
    }
   },
   "cell_type": "code",
   "source": [
    "doc_1 = \"i love cats, but not dogs\"\n",
    "doc_2 = \"i love dogs, but not cats\"\n",
    "documents = [doc_1, doc_2]"
   ],
   "id": "5fd97c547174a352",
   "outputs": [],
   "execution_count": 4
  },
  {
   "metadata": {},
   "cell_type": "markdown",
   "source": [
    "### Quiz 5.1\n",
    "\n",
    "1. Use `CountVectorizer` to vectorize the documents\n",
    "2. fit and transform the documents\n",
    "3. get matrix of the vectorized documents\n",
    "4. create a dataframe from the matrix\n",
    "5. calculate the cosine similarity between the two documents"
   ],
   "id": "5f6ec0d13042c65a"
  },
  {
   "metadata": {
    "ExecuteTime": {
     "end_time": "2024-06-16T11:56:39.461563Z",
     "start_time": "2024-06-16T11:56:39.460117Z"
    }
   },
   "cell_type": "code",
   "source": " # 1 create the instance of the CountVectorizer\n",
   "id": "7671e265320089b9",
   "outputs": [],
   "execution_count": 28
  },
  {
   "metadata": {},
   "cell_type": "markdown",
   "source": [
    "<details>\n",
    "    <summary>Click to reveal answer</summary>\n",
    "    <p>\n",
    "    count_vectorizer = CountVectorizer()\n",
    "    </p>\n",
    "</details>"
   ],
   "id": "836b4ba88e6a6afc"
  },
  {
   "metadata": {
    "ExecuteTime": {
     "end_time": "2024-06-16T11:42:36.837542Z",
     "start_time": "2024-06-16T11:42:36.834988Z"
    }
   },
   "cell_type": "code",
   "source": "# 2 fit and transform the documents\n",
   "id": "eb56cf75176931ee",
   "outputs": [],
   "execution_count": 9
  },
  {
   "metadata": {},
   "cell_type": "markdown",
   "source": [
    "<details>\n",
    "    <summary>Click to reveal answer</summary>\n",
    "    <p>\n",
    "    sparse_matrix = count_vectorizer.fit_transform(documents)\n",
    "    </p>\n",
    "</details>"
   ],
   "id": "9dc72fd023c255df"
  },
  {
   "metadata": {
    "ExecuteTime": {
     "end_time": "2024-06-16T11:42:37.739876Z",
     "start_time": "2024-06-16T11:42:37.738382Z"
    }
   },
   "cell_type": "code",
   "source": "# 3 get matrix of the vectorized documents\n",
   "id": "692bafd54afa4590",
   "outputs": [],
   "execution_count": 10
  },
  {
   "metadata": {},
   "cell_type": "markdown",
   "source": [
    "<details>\n",
    "    <summary>Click to reveal answer</summary>\n",
    "    <p>\n",
    "    doc_term_matrix = sparse_matrix.todense()\n",
    "    </p>\n",
    "</details>"
   ],
   "id": "377dd811a5abdc33"
  },
  {
   "metadata": {
    "ExecuteTime": {
     "end_time": "2024-06-16T11:42:38.517276Z",
     "start_time": "2024-06-16T11:42:38.515432Z"
    }
   },
   "cell_type": "code",
   "source": "# 4 create a dataframe from the matrix\n",
   "id": "bc2fc256f1afc2ae",
   "outputs": [],
   "execution_count": 11
  },
  {
   "metadata": {},
   "cell_type": "markdown",
   "source": [
    "<details>\n",
    "    <summary>Click to reveal answer</summary>\n",
    "    <p>\n",
    "    df = pd.DataFrame(doc_term_matrix, columns=count_vectorizer.get_feature_names_out(), index=['doc_1', 'doc_2'])\n",
    "    </p>\n",
    "</details>"
   ],
   "id": "86a083177a13673b"
  },
  {
   "metadata": {
    "ExecuteTime": {
     "end_time": "2024-06-16T11:43:19.773698Z",
     "start_time": "2024-06-16T11:43:19.770608Z"
    }
   },
   "cell_type": "code",
   "source": "# 5 calculate the cosine similarity between the two documents\n",
   "id": "5df7d5c92d4d0cc4",
   "outputs": [
    {
     "data": {
      "text/plain": [
       "array([[1., 1.],\n",
       "       [1., 1.]])"
      ]
     },
     "execution_count": 13,
     "metadata": {},
     "output_type": "execute_result"
    }
   ],
   "execution_count": 13
  },
  {
   "metadata": {},
   "cell_type": "markdown",
   "source": [
    "<details>\n",
    "    <summary>Click to reveal answer</summary>\n",
    "    <p>\n",
    "    cosine_similarity(df, df)\n",
    "    </p>\n",
    "</details>"
   ],
   "id": "82a80815f51d3e88"
  },
  {
   "metadata": {},
   "cell_type": "markdown",
   "source": [
    "### Quiz 5.2\n",
    "1. use `ngram_range=(2, 3)` in the `CountVectorizer` and calculate the cosine similarity between the two documents"
   ],
   "id": "95f183c137590fc6"
  },
  {
   "metadata": {
    "ExecuteTime": {
     "end_time": "2024-06-16T11:44:23.437845Z",
     "start_time": "2024-06-16T11:44:23.434354Z"
    }
   },
   "cell_type": "code",
   "source": "",
   "id": "38949a6172eb84db",
   "outputs": [
    {
     "name": "stdout",
     "output_type": "stream",
     "text": [
      "[[1. 0.]\n",
      " [0. 1.]]\n"
     ]
    }
   ],
   "execution_count": 14
  },
  {
   "metadata": {},
   "cell_type": "markdown",
   "source": [
    "<details>\n",
    "    <summary>Click to reveal answer</summary>\n",
    "    <p>\n",
    "    count_vectorizer = CountVectorizer(stop_words='english', ngram_range=(2, 3))\n",
    "    sparse_matrix = count_vectorizer.fit_transform(documents)\n",
    "    doc_term_matrix = sparse_matrix.todense()\n",
    "    df = pd.DataFrame(doc_term_matrix, columns=count_vectorizer.get_feature_names_out(), index=['doc_1', 'doc_2'])\n",
    "    print(cosine_similarity(df, df))\n",
    "    </p>\n",
    "</details>"
   ],
   "id": "6af49818e2dbbb9c"
  },
  {
   "metadata": {},
   "cell_type": "code",
   "outputs": [],
   "execution_count": null,
   "source": "",
   "id": "e69df832ee18bb5f"
  },
  {
   "metadata": {},
   "cell_type": "markdown",
   "source": [
    "### Quiz 5.3\n",
    "Use both approaches(`5.1` and `5.2`) with `stop_words='english'` and see if there is a difference"
   ],
   "id": "b4ccca23de457c2f"
  },
  {
   "metadata": {},
   "cell_type": "code",
   "outputs": [],
   "execution_count": null,
   "source": "",
   "id": "585a022021c49383"
  },
  {
   "metadata": {},
   "cell_type": "markdown",
   "source": [
    "### Quiz 5.4\n",
    "\n",
    "use TF-IDF and find cosine similarity between the two documents once\n",
    "1. without `ngram_range`\n",
    "2. with `ngram_range=(2,3)`\n",
    "\n",
    "Notice the difference "
   ],
   "id": "3a7e3e7ce871ab8d"
  },
  {
   "metadata": {
    "ExecuteTime": {
     "end_time": "2024-06-16T11:52:02.486683Z",
     "start_time": "2024-06-16T11:52:02.483356Z"
    }
   },
   "cell_type": "code",
   "source": "",
   "id": "413749c312aeb4ca",
   "outputs": [],
   "execution_count": 25
  },
  {
   "metadata": {},
   "cell_type": "markdown",
   "source": [
    "<details>\n",
    "    <summary>Click to reveal answer</summary>\n",
    "    <p>\n",
    "    tfidf_vectorizer = TfidfVectorizer(ngram_range=(2,3))\n",
    "    sparse_matrix = tfidf_vectorizer.fit_transform(documents)\n",
    "    doc_term_matrix = sparse_matrix.todense()\n",
    "    df = pd.DataFrame(doc_term_matrix, columns=tfidf_vectorizer.get_feature_names_out(), index=['doc_1', 'doc_2'])\n",
    "    </p>\n",
    "</details>"
   ],
   "id": "8ff88df32a1879af"
  },
  {
   "metadata": {
    "ExecuteTime": {
     "end_time": "2024-06-16T11:54:53.094326Z",
     "start_time": "2024-06-16T11:54:53.091543Z"
    }
   },
   "cell_type": "code",
   "source": "cosine_similarity(df, df)",
   "id": "cc8312c1d56ec868",
   "outputs": [
    {
     "data": {
      "text/plain": [
       "array([[1.        , 0.07780894],\n",
       "       [0.07780894, 1.        ]])"
      ]
     },
     "execution_count": 27,
     "metadata": {},
     "output_type": "execute_result"
    }
   ],
   "execution_count": 27
  },
  {
   "metadata": {
    "ExecuteTime": {
     "end_time": "2024-06-16T11:52:03.902414Z",
     "start_time": "2024-06-16T11:52:03.901082Z"
    }
   },
   "cell_type": "code",
   "source": "",
   "id": "426a16aea85f85b",
   "outputs": [],
   "execution_count": 26
  },
  {
   "metadata": {
    "ExecuteTime": {
     "end_time": "2024-06-16T11:52:04.121123Z",
     "start_time": "2024-06-16T11:52:04.119492Z"
    }
   },
   "cell_type": "code",
   "source": "",
   "id": "b4aa6e467cdfb37b",
   "outputs": [],
   "execution_count": 26
  },
  {
   "metadata": {
    "ExecuteTime": {
     "end_time": "2024-06-16T11:52:04.280791Z",
     "start_time": "2024-06-16T11:52:04.279427Z"
    }
   },
   "cell_type": "code",
   "source": "",
   "id": "abceeccd28863640",
   "outputs": [],
   "execution_count": 26
  },
  {
   "metadata": {},
   "cell_type": "code",
   "outputs": [],
   "execution_count": null,
   "source": "",
   "id": "db9a1948cb028e7c"
  }
 ],
 "metadata": {
  "kernelspec": {
   "display_name": "Python 3",
   "language": "python",
   "name": "python3"
  },
  "language_info": {
   "codemirror_mode": {
    "name": "ipython",
    "version": 2
   },
   "file_extension": ".py",
   "mimetype": "text/x-python",
   "name": "python",
   "nbconvert_exporter": "python",
   "pygments_lexer": "ipython2",
   "version": "2.7.6"
  }
 },
 "nbformat": 4,
 "nbformat_minor": 5
}
